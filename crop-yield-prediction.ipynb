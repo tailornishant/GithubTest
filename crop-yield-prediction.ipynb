{
 "cells": [
  {
   "cell_type": "markdown",
   "id": "d6076e87",
   "metadata": {
    "papermill": {
     "duration": 0.071932,
     "end_time": "2022-04-18T20:52:19.272106",
     "exception": false,
     "start_time": "2022-04-18T20:52:19.200174",
     "status": "completed"
    },
    "tags": []
   },
   "source": [
    "# Crop Yield Prediction\n",
    " \n",
    "The science of training machines to learn and produce models for future predictions is widely used, and not for nothing.\n",
    "Agriculture plays a critical role in the global economy. With the continuing expansion of the human population understanding worldwide crop yield is central to addressing food security challenges and reducing the impacts of climate change. \n",
    "\n",
    "Crop yield prediction is an important agricultural problem. The Agricultural yield primarily depends on <i><b>weather conditions (rain, temperature, etc)</b></i>, pesticides and accurate information about history of crop yield is an important thing for making decisions related to agricultural risk management and future predictions.  The basic ingredients that sustain humans are similar. We eat a lot of corn, wheat, rice and other simple crops. In this paper the prediction of <b>top 10 most consumed yields all over the world</b> is established by applying machine learning techniques. It consist of 10 most consumed crops. It is a regression problem\n",
    " \n",
    " These corps include :\n",
    "\n",
    "- Cassava                \n",
    "- Maize                  \n",
    "- Plantains and others   \n",
    "- Potatoes                \n",
    "- Rice, paddy             \n",
    "- Sorghum                \n",
    "- Soybeans               \n",
    "- Sweet potatoes       \n",
    "- Wheat                  \n",
    "- Yams             "
   ]
  },
  {
   "cell_type": "markdown",
   "id": "7b7ea399",
   "metadata": {
    "papermill": {
     "duration": 0.067058,
     "end_time": "2022-04-18T20:52:19.406632",
     "exception": false,
     "start_time": "2022-04-18T20:52:19.339574",
     "status": "completed"
    },
    "tags": []
   },
   "source": [
    "# Gathering & Cleaning Data\n",
    "\n",
    "### Crops Yield Data:\n",
    "\n",
    "\n",
    " \n",
    "After importing required libraries, crops yield of ten most consumed crops around the world was downloaded from FAO webiste.The collected data include country, item, year starting from 1961 to 2016 and yield value. "
   ]
  },
  {
   "cell_type": "code",
   "execution_count": 1,
   "id": "5cc3c54d",
   "metadata": {
    "execution": {
     "iopub.execute_input": "2022-04-18T20:52:19.552660Z",
     "iopub.status.busy": "2022-04-18T20:52:19.552023Z",
     "iopub.status.idle": "2022-04-18T20:52:19.556984Z",
     "shell.execute_reply": "2022-04-18T20:52:19.556203Z"
    },
    "papermill": {
     "duration": 0.083818,
     "end_time": "2022-04-18T20:52:19.557167",
     "exception": false,
     "start_time": "2022-04-18T20:52:19.473349",
     "status": "completed"
    },
    "tags": []
   },
   "outputs": [],
   "source": [
    "import numpy as np \n",
    "import pandas as pd "
   ]
  },
  {
   "cell_type": "code",
   "execution_count": 2,
   "id": "1933b94c",
   "metadata": {
    "execution": {
     "iopub.execute_input": "2022-04-18T20:52:19.704656Z",
     "iopub.status.busy": "2022-04-18T20:52:19.703932Z",
     "iopub.status.idle": "2022-04-18T20:52:19.851168Z",
     "shell.execute_reply": "2022-04-18T20:52:19.851692Z",
     "shell.execute_reply.started": "2022-04-18T18:46:45.995348Z"
    },
    "papermill": {
     "duration": 0.222081,
     "end_time": "2022-04-18T20:52:19.851865",
     "exception": false,
     "start_time": "2022-04-18T20:52:19.629784",
     "status": "completed"
    },
    "tags": []
   },
   "outputs": [
    {
     "data": {
      "text/plain": [
       "(56717, 12)"
      ]
     },
     "execution_count": 2,
     "metadata": {},
     "output_type": "execute_result"
    }
   ],
   "source": [
    "df_yield = pd.read_csv('../input/crop-yield-prediction-dataset/yield.csv')\n",
    "df_yield.shape"
   ]
  },
  {
   "cell_type": "code",
   "execution_count": 3,
   "id": "07f97238",
   "metadata": {
    "execution": {
     "iopub.execute_input": "2022-04-18T20:52:19.995744Z",
     "iopub.status.busy": "2022-04-18T20:52:19.994642Z",
     "iopub.status.idle": "2022-04-18T20:52:20.018161Z",
     "shell.execute_reply": "2022-04-18T20:52:20.018841Z",
     "shell.execute_reply.started": "2022-04-18T18:46:48.559223Z"
    },
    "papermill": {
     "duration": 0.097573,
     "end_time": "2022-04-18T20:52:20.019046",
     "exception": false,
     "start_time": "2022-04-18T20:52:19.921473",
     "status": "completed"
    },
    "scrolled": true,
    "tags": []
   },
   "outputs": [
    {
     "data": {
      "text/html": [
       "<div>\n",
       "<style scoped>\n",
       "    .dataframe tbody tr th:only-of-type {\n",
       "        vertical-align: middle;\n",
       "    }\n",
       "\n",
       "    .dataframe tbody tr th {\n",
       "        vertical-align: top;\n",
       "    }\n",
       "\n",
       "    .dataframe thead th {\n",
       "        text-align: right;\n",
       "    }\n",
       "</style>\n",
       "<table border=\"1\" class=\"dataframe\">\n",
       "  <thead>\n",
       "    <tr style=\"text-align: right;\">\n",
       "      <th></th>\n",
       "      <th>Domain Code</th>\n",
       "      <th>Domain</th>\n",
       "      <th>Area Code</th>\n",
       "      <th>Area</th>\n",
       "      <th>Element Code</th>\n",
       "      <th>Element</th>\n",
       "      <th>Item Code</th>\n",
       "      <th>Item</th>\n",
       "      <th>Year Code</th>\n",
       "      <th>Year</th>\n",
       "      <th>Unit</th>\n",
       "      <th>Value</th>\n",
       "    </tr>\n",
       "  </thead>\n",
       "  <tbody>\n",
       "    <tr>\n",
       "      <th>0</th>\n",
       "      <td>QC</td>\n",
       "      <td>Crops</td>\n",
       "      <td>2</td>\n",
       "      <td>Afghanistan</td>\n",
       "      <td>5419</td>\n",
       "      <td>Yield</td>\n",
       "      <td>56</td>\n",
       "      <td>Maize</td>\n",
       "      <td>1961</td>\n",
       "      <td>1961</td>\n",
       "      <td>hg/ha</td>\n",
       "      <td>14000</td>\n",
       "    </tr>\n",
       "    <tr>\n",
       "      <th>1</th>\n",
       "      <td>QC</td>\n",
       "      <td>Crops</td>\n",
       "      <td>2</td>\n",
       "      <td>Afghanistan</td>\n",
       "      <td>5419</td>\n",
       "      <td>Yield</td>\n",
       "      <td>56</td>\n",
       "      <td>Maize</td>\n",
       "      <td>1962</td>\n",
       "      <td>1962</td>\n",
       "      <td>hg/ha</td>\n",
       "      <td>14000</td>\n",
       "    </tr>\n",
       "    <tr>\n",
       "      <th>2</th>\n",
       "      <td>QC</td>\n",
       "      <td>Crops</td>\n",
       "      <td>2</td>\n",
       "      <td>Afghanistan</td>\n",
       "      <td>5419</td>\n",
       "      <td>Yield</td>\n",
       "      <td>56</td>\n",
       "      <td>Maize</td>\n",
       "      <td>1963</td>\n",
       "      <td>1963</td>\n",
       "      <td>hg/ha</td>\n",
       "      <td>14260</td>\n",
       "    </tr>\n",
       "    <tr>\n",
       "      <th>3</th>\n",
       "      <td>QC</td>\n",
       "      <td>Crops</td>\n",
       "      <td>2</td>\n",
       "      <td>Afghanistan</td>\n",
       "      <td>5419</td>\n",
       "      <td>Yield</td>\n",
       "      <td>56</td>\n",
       "      <td>Maize</td>\n",
       "      <td>1964</td>\n",
       "      <td>1964</td>\n",
       "      <td>hg/ha</td>\n",
       "      <td>14257</td>\n",
       "    </tr>\n",
       "    <tr>\n",
       "      <th>4</th>\n",
       "      <td>QC</td>\n",
       "      <td>Crops</td>\n",
       "      <td>2</td>\n",
       "      <td>Afghanistan</td>\n",
       "      <td>5419</td>\n",
       "      <td>Yield</td>\n",
       "      <td>56</td>\n",
       "      <td>Maize</td>\n",
       "      <td>1965</td>\n",
       "      <td>1965</td>\n",
       "      <td>hg/ha</td>\n",
       "      <td>14400</td>\n",
       "    </tr>\n",
       "  </tbody>\n",
       "</table>\n",
       "</div>"
      ],
      "text/plain": [
       "  Domain Code Domain  Area Code         Area  Element Code Element  Item Code  \\\n",
       "0          QC  Crops          2  Afghanistan          5419   Yield         56   \n",
       "1          QC  Crops          2  Afghanistan          5419   Yield         56   \n",
       "2          QC  Crops          2  Afghanistan          5419   Yield         56   \n",
       "3          QC  Crops          2  Afghanistan          5419   Yield         56   \n",
       "4          QC  Crops          2  Afghanistan          5419   Yield         56   \n",
       "\n",
       "    Item  Year Code  Year   Unit  Value  \n",
       "0  Maize       1961  1961  hg/ha  14000  \n",
       "1  Maize       1962  1962  hg/ha  14000  \n",
       "2  Maize       1963  1963  hg/ha  14260  \n",
       "3  Maize       1964  1964  hg/ha  14257  \n",
       "4  Maize       1965  1965  hg/ha  14400  "
      ]
     },
     "execution_count": 3,
     "metadata": {},
     "output_type": "execute_result"
    }
   ],
   "source": [
    "df_yield.head()"
   ]
  },
  {
   "cell_type": "code",
   "execution_count": 4,
   "id": "30a5e229",
   "metadata": {
    "execution": {
     "iopub.execute_input": "2022-04-18T20:52:20.177656Z",
     "iopub.status.busy": "2022-04-18T20:52:20.176629Z",
     "iopub.status.idle": "2022-04-18T20:52:20.180518Z",
     "shell.execute_reply": "2022-04-18T20:52:20.181028Z",
     "shell.execute_reply.started": "2022-04-18T18:46:50.847614Z"
    },
    "papermill": {
     "duration": 0.093166,
     "end_time": "2022-04-18T20:52:20.181226",
     "exception": false,
     "start_time": "2022-04-18T20:52:20.088060",
     "status": "completed"
    },
    "scrolled": true,
    "tags": []
   },
   "outputs": [
    {
     "data": {
      "text/html": [
       "<div>\n",
       "<style scoped>\n",
       "    .dataframe tbody tr th:only-of-type {\n",
       "        vertical-align: middle;\n",
       "    }\n",
       "\n",
       "    .dataframe tbody tr th {\n",
       "        vertical-align: top;\n",
       "    }\n",
       "\n",
       "    .dataframe thead th {\n",
       "        text-align: right;\n",
       "    }\n",
       "</style>\n",
       "<table border=\"1\" class=\"dataframe\">\n",
       "  <thead>\n",
       "    <tr style=\"text-align: right;\">\n",
       "      <th></th>\n",
       "      <th>Domain Code</th>\n",
       "      <th>Domain</th>\n",
       "      <th>Area Code</th>\n",
       "      <th>Area</th>\n",
       "      <th>Element Code</th>\n",
       "      <th>Element</th>\n",
       "      <th>Item Code</th>\n",
       "      <th>Item</th>\n",
       "      <th>Year Code</th>\n",
       "      <th>Year</th>\n",
       "      <th>Unit</th>\n",
       "      <th>Value</th>\n",
       "    </tr>\n",
       "  </thead>\n",
       "  <tbody>\n",
       "    <tr>\n",
       "      <th>56707</th>\n",
       "      <td>QC</td>\n",
       "      <td>Crops</td>\n",
       "      <td>181</td>\n",
       "      <td>Zimbabwe</td>\n",
       "      <td>5419</td>\n",
       "      <td>Yield</td>\n",
       "      <td>15</td>\n",
       "      <td>Wheat</td>\n",
       "      <td>2007</td>\n",
       "      <td>2007</td>\n",
       "      <td>hg/ha</td>\n",
       "      <td>29998</td>\n",
       "    </tr>\n",
       "    <tr>\n",
       "      <th>56708</th>\n",
       "      <td>QC</td>\n",
       "      <td>Crops</td>\n",
       "      <td>181</td>\n",
       "      <td>Zimbabwe</td>\n",
       "      <td>5419</td>\n",
       "      <td>Yield</td>\n",
       "      <td>15</td>\n",
       "      <td>Wheat</td>\n",
       "      <td>2008</td>\n",
       "      <td>2008</td>\n",
       "      <td>hg/ha</td>\n",
       "      <td>30097</td>\n",
       "    </tr>\n",
       "    <tr>\n",
       "      <th>56709</th>\n",
       "      <td>QC</td>\n",
       "      <td>Crops</td>\n",
       "      <td>181</td>\n",
       "      <td>Zimbabwe</td>\n",
       "      <td>5419</td>\n",
       "      <td>Yield</td>\n",
       "      <td>15</td>\n",
       "      <td>Wheat</td>\n",
       "      <td>2009</td>\n",
       "      <td>2009</td>\n",
       "      <td>hg/ha</td>\n",
       "      <td>30000</td>\n",
       "    </tr>\n",
       "    <tr>\n",
       "      <th>56710</th>\n",
       "      <td>QC</td>\n",
       "      <td>Crops</td>\n",
       "      <td>181</td>\n",
       "      <td>Zimbabwe</td>\n",
       "      <td>5419</td>\n",
       "      <td>Yield</td>\n",
       "      <td>15</td>\n",
       "      <td>Wheat</td>\n",
       "      <td>2010</td>\n",
       "      <td>2010</td>\n",
       "      <td>hg/ha</td>\n",
       "      <td>27681</td>\n",
       "    </tr>\n",
       "    <tr>\n",
       "      <th>56711</th>\n",
       "      <td>QC</td>\n",
       "      <td>Crops</td>\n",
       "      <td>181</td>\n",
       "      <td>Zimbabwe</td>\n",
       "      <td>5419</td>\n",
       "      <td>Yield</td>\n",
       "      <td>15</td>\n",
       "      <td>Wheat</td>\n",
       "      <td>2011</td>\n",
       "      <td>2011</td>\n",
       "      <td>hg/ha</td>\n",
       "      <td>26274</td>\n",
       "    </tr>\n",
       "    <tr>\n",
       "      <th>56712</th>\n",
       "      <td>QC</td>\n",
       "      <td>Crops</td>\n",
       "      <td>181</td>\n",
       "      <td>Zimbabwe</td>\n",
       "      <td>5419</td>\n",
       "      <td>Yield</td>\n",
       "      <td>15</td>\n",
       "      <td>Wheat</td>\n",
       "      <td>2012</td>\n",
       "      <td>2012</td>\n",
       "      <td>hg/ha</td>\n",
       "      <td>24420</td>\n",
       "    </tr>\n",
       "    <tr>\n",
       "      <th>56713</th>\n",
       "      <td>QC</td>\n",
       "      <td>Crops</td>\n",
       "      <td>181</td>\n",
       "      <td>Zimbabwe</td>\n",
       "      <td>5419</td>\n",
       "      <td>Yield</td>\n",
       "      <td>15</td>\n",
       "      <td>Wheat</td>\n",
       "      <td>2013</td>\n",
       "      <td>2013</td>\n",
       "      <td>hg/ha</td>\n",
       "      <td>22888</td>\n",
       "    </tr>\n",
       "    <tr>\n",
       "      <th>56714</th>\n",
       "      <td>QC</td>\n",
       "      <td>Crops</td>\n",
       "      <td>181</td>\n",
       "      <td>Zimbabwe</td>\n",
       "      <td>5419</td>\n",
       "      <td>Yield</td>\n",
       "      <td>15</td>\n",
       "      <td>Wheat</td>\n",
       "      <td>2014</td>\n",
       "      <td>2014</td>\n",
       "      <td>hg/ha</td>\n",
       "      <td>21357</td>\n",
       "    </tr>\n",
       "    <tr>\n",
       "      <th>56715</th>\n",
       "      <td>QC</td>\n",
       "      <td>Crops</td>\n",
       "      <td>181</td>\n",
       "      <td>Zimbabwe</td>\n",
       "      <td>5419</td>\n",
       "      <td>Yield</td>\n",
       "      <td>15</td>\n",
       "      <td>Wheat</td>\n",
       "      <td>2015</td>\n",
       "      <td>2015</td>\n",
       "      <td>hg/ha</td>\n",
       "      <td>19826</td>\n",
       "    </tr>\n",
       "    <tr>\n",
       "      <th>56716</th>\n",
       "      <td>QC</td>\n",
       "      <td>Crops</td>\n",
       "      <td>181</td>\n",
       "      <td>Zimbabwe</td>\n",
       "      <td>5419</td>\n",
       "      <td>Yield</td>\n",
       "      <td>15</td>\n",
       "      <td>Wheat</td>\n",
       "      <td>2016</td>\n",
       "      <td>2016</td>\n",
       "      <td>hg/ha</td>\n",
       "      <td>18294</td>\n",
       "    </tr>\n",
       "  </tbody>\n",
       "</table>\n",
       "</div>"
      ],
      "text/plain": [
       "      Domain Code Domain  Area Code      Area  Element Code Element  \\\n",
       "56707          QC  Crops        181  Zimbabwe          5419   Yield   \n",
       "56708          QC  Crops        181  Zimbabwe          5419   Yield   \n",
       "56709          QC  Crops        181  Zimbabwe          5419   Yield   \n",
       "56710          QC  Crops        181  Zimbabwe          5419   Yield   \n",
       "56711          QC  Crops        181  Zimbabwe          5419   Yield   \n",
       "56712          QC  Crops        181  Zimbabwe          5419   Yield   \n",
       "56713          QC  Crops        181  Zimbabwe          5419   Yield   \n",
       "56714          QC  Crops        181  Zimbabwe          5419   Yield   \n",
       "56715          QC  Crops        181  Zimbabwe          5419   Yield   \n",
       "56716          QC  Crops        181  Zimbabwe          5419   Yield   \n",
       "\n",
       "       Item Code   Item  Year Code  Year   Unit  Value  \n",
       "56707         15  Wheat       2007  2007  hg/ha  29998  \n",
       "56708         15  Wheat       2008  2008  hg/ha  30097  \n",
       "56709         15  Wheat       2009  2009  hg/ha  30000  \n",
       "56710         15  Wheat       2010  2010  hg/ha  27681  \n",
       "56711         15  Wheat       2011  2011  hg/ha  26274  \n",
       "56712         15  Wheat       2012  2012  hg/ha  24420  \n",
       "56713         15  Wheat       2013  2013  hg/ha  22888  \n",
       "56714         15  Wheat       2014  2014  hg/ha  21357  \n",
       "56715         15  Wheat       2015  2015  hg/ha  19826  \n",
       "56716         15  Wheat       2016  2016  hg/ha  18294  "
      ]
     },
     "execution_count": 4,
     "metadata": {},
     "output_type": "execute_result"
    }
   ],
   "source": [
    "df_yield.tail(10)"
   ]
  },
  {
   "cell_type": "markdown",
   "id": "ece2b35c",
   "metadata": {
    "papermill": {
     "duration": 0.069054,
     "end_time": "2022-04-18T20:52:20.319555",
     "exception": false,
     "start_time": "2022-04-18T20:52:20.250501",
     "status": "completed"
    },
    "tags": []
   },
   "source": [
    "Looking at the columns in the csv, we can rename **Value** to **hg/ha_yield** to make it easier to recognise that this is our crops yields production value. In addition to removal of unnecessary coloumns like Area Code, Domain, Item Code, etc."
   ]
  },
  {
   "cell_type": "code",
   "execution_count": 5,
   "id": "92ff63a7",
   "metadata": {
    "execution": {
     "iopub.execute_input": "2022-04-18T20:52:20.465294Z",
     "iopub.status.busy": "2022-04-18T20:52:20.463967Z",
     "iopub.status.idle": "2022-04-18T20:52:20.510411Z",
     "shell.execute_reply": "2022-04-18T20:52:20.508740Z",
     "shell.execute_reply.started": "2022-04-18T18:46:53.628764Z"
    },
    "papermill": {
     "duration": 0.122241,
     "end_time": "2022-04-18T20:52:20.510976",
     "exception": false,
     "start_time": "2022-04-18T20:52:20.388735",
     "status": "completed"
    },
    "scrolled": true,
    "tags": []
   },
   "outputs": [
    {
     "data": {
      "text/html": [
       "<div>\n",
       "<style scoped>\n",
       "    .dataframe tbody tr th:only-of-type {\n",
       "        vertical-align: middle;\n",
       "    }\n",
       "\n",
       "    .dataframe tbody tr th {\n",
       "        vertical-align: top;\n",
       "    }\n",
       "\n",
       "    .dataframe thead th {\n",
       "        text-align: right;\n",
       "    }\n",
       "</style>\n",
       "<table border=\"1\" class=\"dataframe\">\n",
       "  <thead>\n",
       "    <tr style=\"text-align: right;\">\n",
       "      <th></th>\n",
       "      <th>Domain Code</th>\n",
       "      <th>Domain</th>\n",
       "      <th>Area Code</th>\n",
       "      <th>Area</th>\n",
       "      <th>Element Code</th>\n",
       "      <th>Element</th>\n",
       "      <th>Item Code</th>\n",
       "      <th>Item</th>\n",
       "      <th>Year Code</th>\n",
       "      <th>Year</th>\n",
       "      <th>Unit</th>\n",
       "      <th>hg/ha_yield</th>\n",
       "    </tr>\n",
       "  </thead>\n",
       "  <tbody>\n",
       "    <tr>\n",
       "      <th>0</th>\n",
       "      <td>QC</td>\n",
       "      <td>Crops</td>\n",
       "      <td>2</td>\n",
       "      <td>Afghanistan</td>\n",
       "      <td>5419</td>\n",
       "      <td>Yield</td>\n",
       "      <td>56</td>\n",
       "      <td>Maize</td>\n",
       "      <td>1961</td>\n",
       "      <td>1961</td>\n",
       "      <td>hg/ha</td>\n",
       "      <td>14000</td>\n",
       "    </tr>\n",
       "    <tr>\n",
       "      <th>1</th>\n",
       "      <td>QC</td>\n",
       "      <td>Crops</td>\n",
       "      <td>2</td>\n",
       "      <td>Afghanistan</td>\n",
       "      <td>5419</td>\n",
       "      <td>Yield</td>\n",
       "      <td>56</td>\n",
       "      <td>Maize</td>\n",
       "      <td>1962</td>\n",
       "      <td>1962</td>\n",
       "      <td>hg/ha</td>\n",
       "      <td>14000</td>\n",
       "    </tr>\n",
       "    <tr>\n",
       "      <th>2</th>\n",
       "      <td>QC</td>\n",
       "      <td>Crops</td>\n",
       "      <td>2</td>\n",
       "      <td>Afghanistan</td>\n",
       "      <td>5419</td>\n",
       "      <td>Yield</td>\n",
       "      <td>56</td>\n",
       "      <td>Maize</td>\n",
       "      <td>1963</td>\n",
       "      <td>1963</td>\n",
       "      <td>hg/ha</td>\n",
       "      <td>14260</td>\n",
       "    </tr>\n",
       "    <tr>\n",
       "      <th>3</th>\n",
       "      <td>QC</td>\n",
       "      <td>Crops</td>\n",
       "      <td>2</td>\n",
       "      <td>Afghanistan</td>\n",
       "      <td>5419</td>\n",
       "      <td>Yield</td>\n",
       "      <td>56</td>\n",
       "      <td>Maize</td>\n",
       "      <td>1964</td>\n",
       "      <td>1964</td>\n",
       "      <td>hg/ha</td>\n",
       "      <td>14257</td>\n",
       "    </tr>\n",
       "    <tr>\n",
       "      <th>4</th>\n",
       "      <td>QC</td>\n",
       "      <td>Crops</td>\n",
       "      <td>2</td>\n",
       "      <td>Afghanistan</td>\n",
       "      <td>5419</td>\n",
       "      <td>Yield</td>\n",
       "      <td>56</td>\n",
       "      <td>Maize</td>\n",
       "      <td>1965</td>\n",
       "      <td>1965</td>\n",
       "      <td>hg/ha</td>\n",
       "      <td>14400</td>\n",
       "    </tr>\n",
       "  </tbody>\n",
       "</table>\n",
       "</div>"
      ],
      "text/plain": [
       "  Domain Code Domain  Area Code         Area  Element Code Element  Item Code  \\\n",
       "0          QC  Crops          2  Afghanistan          5419   Yield         56   \n",
       "1          QC  Crops          2  Afghanistan          5419   Yield         56   \n",
       "2          QC  Crops          2  Afghanistan          5419   Yield         56   \n",
       "3          QC  Crops          2  Afghanistan          5419   Yield         56   \n",
       "4          QC  Crops          2  Afghanistan          5419   Yield         56   \n",
       "\n",
       "    Item  Year Code  Year   Unit  hg/ha_yield  \n",
       "0  Maize       1961  1961  hg/ha        14000  \n",
       "1  Maize       1962  1962  hg/ha        14000  \n",
       "2  Maize       1963  1963  hg/ha        14260  \n",
       "3  Maize       1964  1964  hg/ha        14257  \n",
       "4  Maize       1965  1965  hg/ha        14400  "
      ]
     },
     "execution_count": 5,
     "metadata": {},
     "output_type": "execute_result"
    }
   ],
   "source": [
    "# rename columns.\n",
    "df_yield = df_yield.rename(index=str, columns={\"Value\": \"hg/ha_yield\"})\n",
    "df_yield.head()"
   ]
  },
  {
   "cell_type": "code",
   "execution_count": 6,
   "id": "ed92370b",
   "metadata": {
    "execution": {
     "iopub.execute_input": "2022-04-18T20:52:20.661946Z",
     "iopub.status.busy": "2022-04-18T20:52:20.660909Z",
     "iopub.status.idle": "2022-04-18T20:52:20.673460Z",
     "shell.execute_reply": "2022-04-18T20:52:20.674133Z",
     "shell.execute_reply.started": "2022-04-18T18:46:56.601866Z"
    },
    "papermill": {
     "duration": 0.09208,
     "end_time": "2022-04-18T20:52:20.674345",
     "exception": false,
     "start_time": "2022-04-18T20:52:20.582265",
     "status": "completed"
    },
    "tags": []
   },
   "outputs": [
    {
     "data": {
      "text/html": [
       "<div>\n",
       "<style scoped>\n",
       "    .dataframe tbody tr th:only-of-type {\n",
       "        vertical-align: middle;\n",
       "    }\n",
       "\n",
       "    .dataframe tbody tr th {\n",
       "        vertical-align: top;\n",
       "    }\n",
       "\n",
       "    .dataframe thead th {\n",
       "        text-align: right;\n",
       "    }\n",
       "</style>\n",
       "<table border=\"1\" class=\"dataframe\">\n",
       "  <thead>\n",
       "    <tr style=\"text-align: right;\">\n",
       "      <th></th>\n",
       "      <th>Area</th>\n",
       "      <th>Item</th>\n",
       "      <th>Year</th>\n",
       "      <th>hg/ha_yield</th>\n",
       "    </tr>\n",
       "  </thead>\n",
       "  <tbody>\n",
       "    <tr>\n",
       "      <th>0</th>\n",
       "      <td>Afghanistan</td>\n",
       "      <td>Maize</td>\n",
       "      <td>1961</td>\n",
       "      <td>14000</td>\n",
       "    </tr>\n",
       "    <tr>\n",
       "      <th>1</th>\n",
       "      <td>Afghanistan</td>\n",
       "      <td>Maize</td>\n",
       "      <td>1962</td>\n",
       "      <td>14000</td>\n",
       "    </tr>\n",
       "    <tr>\n",
       "      <th>2</th>\n",
       "      <td>Afghanistan</td>\n",
       "      <td>Maize</td>\n",
       "      <td>1963</td>\n",
       "      <td>14260</td>\n",
       "    </tr>\n",
       "    <tr>\n",
       "      <th>3</th>\n",
       "      <td>Afghanistan</td>\n",
       "      <td>Maize</td>\n",
       "      <td>1964</td>\n",
       "      <td>14257</td>\n",
       "    </tr>\n",
       "    <tr>\n",
       "      <th>4</th>\n",
       "      <td>Afghanistan</td>\n",
       "      <td>Maize</td>\n",
       "      <td>1965</td>\n",
       "      <td>14400</td>\n",
       "    </tr>\n",
       "  </tbody>\n",
       "</table>\n",
       "</div>"
      ],
      "text/plain": [
       "          Area   Item  Year  hg/ha_yield\n",
       "0  Afghanistan  Maize  1961        14000\n",
       "1  Afghanistan  Maize  1962        14000\n",
       "2  Afghanistan  Maize  1963        14260\n",
       "3  Afghanistan  Maize  1964        14257\n",
       "4  Afghanistan  Maize  1965        14400"
      ]
     },
     "execution_count": 6,
     "metadata": {},
     "output_type": "execute_result"
    }
   ],
   "source": [
    "# drop unwanted columns.\n",
    "df_yield = df_yield.drop(['Year Code','Element Code','Element','Year Code','Area Code','Domain Code','Domain','Unit','Item Code'], axis=1)\n",
    "df_yield.head()"
   ]
  },
  {
   "cell_type": "code",
   "execution_count": 7,
   "id": "6419290a",
   "metadata": {
    "execution": {
     "iopub.execute_input": "2022-04-18T20:52:20.829784Z",
     "iopub.status.busy": "2022-04-18T20:52:20.828113Z",
     "iopub.status.idle": "2022-04-18T20:52:20.850780Z",
     "shell.execute_reply": "2022-04-18T20:52:20.850094Z",
     "shell.execute_reply.started": "2022-04-18T18:47:00.293265Z"
    },
    "papermill": {
     "duration": 0.106403,
     "end_time": "2022-04-18T20:52:20.850950",
     "exception": false,
     "start_time": "2022-04-18T20:52:20.744547",
     "status": "completed"
    },
    "scrolled": true,
    "tags": []
   },
   "outputs": [
    {
     "data": {
      "text/html": [
       "<div>\n",
       "<style scoped>\n",
       "    .dataframe tbody tr th:only-of-type {\n",
       "        vertical-align: middle;\n",
       "    }\n",
       "\n",
       "    .dataframe tbody tr th {\n",
       "        vertical-align: top;\n",
       "    }\n",
       "\n",
       "    .dataframe thead th {\n",
       "        text-align: right;\n",
       "    }\n",
       "</style>\n",
       "<table border=\"1\" class=\"dataframe\">\n",
       "  <thead>\n",
       "    <tr style=\"text-align: right;\">\n",
       "      <th></th>\n",
       "      <th>Year</th>\n",
       "      <th>hg/ha_yield</th>\n",
       "    </tr>\n",
       "  </thead>\n",
       "  <tbody>\n",
       "    <tr>\n",
       "      <th>count</th>\n",
       "      <td>56717.000000</td>\n",
       "      <td>56717.000000</td>\n",
       "    </tr>\n",
       "    <tr>\n",
       "      <th>mean</th>\n",
       "      <td>1989.669570</td>\n",
       "      <td>62094.660084</td>\n",
       "    </tr>\n",
       "    <tr>\n",
       "      <th>std</th>\n",
       "      <td>16.133198</td>\n",
       "      <td>67835.932856</td>\n",
       "    </tr>\n",
       "    <tr>\n",
       "      <th>min</th>\n",
       "      <td>1961.000000</td>\n",
       "      <td>0.000000</td>\n",
       "    </tr>\n",
       "    <tr>\n",
       "      <th>25%</th>\n",
       "      <td>1976.000000</td>\n",
       "      <td>15680.000000</td>\n",
       "    </tr>\n",
       "    <tr>\n",
       "      <th>50%</th>\n",
       "      <td>1991.000000</td>\n",
       "      <td>36744.000000</td>\n",
       "    </tr>\n",
       "    <tr>\n",
       "      <th>75%</th>\n",
       "      <td>2004.000000</td>\n",
       "      <td>86213.000000</td>\n",
       "    </tr>\n",
       "    <tr>\n",
       "      <th>max</th>\n",
       "      <td>2016.000000</td>\n",
       "      <td>1000000.000000</td>\n",
       "    </tr>\n",
       "  </tbody>\n",
       "</table>\n",
       "</div>"
      ],
      "text/plain": [
       "               Year     hg/ha_yield\n",
       "count  56717.000000    56717.000000\n",
       "mean    1989.669570    62094.660084\n",
       "std       16.133198    67835.932856\n",
       "min     1961.000000        0.000000\n",
       "25%     1976.000000    15680.000000\n",
       "50%     1991.000000    36744.000000\n",
       "75%     2004.000000    86213.000000\n",
       "max     2016.000000  1000000.000000"
      ]
     },
     "execution_count": 7,
     "metadata": {},
     "output_type": "execute_result"
    }
   ],
   "source": [
    "df_yield.describe()"
   ]
  },
  {
   "cell_type": "code",
   "execution_count": 8,
   "id": "49ce945c",
   "metadata": {
    "execution": {
     "iopub.execute_input": "2022-04-18T20:52:21.013620Z",
     "iopub.status.busy": "2022-04-18T20:52:21.012456Z",
     "iopub.status.idle": "2022-04-18T20:52:21.027794Z",
     "shell.execute_reply": "2022-04-18T20:52:21.027120Z",
     "shell.execute_reply.started": "2022-04-18T18:47:06.230458Z"
    },
    "papermill": {
     "duration": 0.10595,
     "end_time": "2022-04-18T20:52:21.027972",
     "exception": false,
     "start_time": "2022-04-18T20:52:20.922022",
     "status": "completed"
    },
    "tags": []
   },
   "outputs": [
    {
     "name": "stdout",
     "output_type": "stream",
     "text": [
      "<class 'pandas.core.frame.DataFrame'>\n",
      "Index: 56717 entries, 0 to 56716\n",
      "Data columns (total 4 columns):\n",
      " #   Column       Non-Null Count  Dtype \n",
      "---  ------       --------------  ----- \n",
      " 0   Area         56717 non-null  object\n",
      " 1   Item         56717 non-null  object\n",
      " 2   Year         56717 non-null  int64 \n",
      " 3   hg/ha_yield  56717 non-null  int64 \n",
      "dtypes: int64(2), object(2)\n",
      "memory usage: 2.2+ MB\n"
     ]
    }
   ],
   "source": [
    "df_yield.info()"
   ]
  },
  {
   "cell_type": "markdown",
   "id": "59bf1fa6",
   "metadata": {
    "papermill": {
     "duration": 0.069909,
     "end_time": "2022-04-18T20:52:21.168590",
     "exception": false,
     "start_time": "2022-04-18T20:52:21.098681",
     "status": "completed"
    },
    "tags": []
   },
   "source": [
    "### Climate Data : Rainfall \n",
    "The climatic factors include rainfall and temperature. They are abiotic components, including pesticides and soil, of the environmental factors that influence plant growth and development.\n",
    "\n",
    "\n",
    "Rainfall has a dramatic effect on agriculture. For this project rain fall per year information was gathered from World Data Bank. "
   ]
  },
  {
   "cell_type": "code",
   "execution_count": 9,
   "id": "cd9f71c9",
   "metadata": {
    "execution": {
     "iopub.execute_input": "2022-04-18T20:52:21.317458Z",
     "iopub.status.busy": "2022-04-18T20:52:21.316716Z",
     "iopub.status.idle": "2022-04-18T20:52:21.348157Z",
     "shell.execute_reply": "2022-04-18T20:52:21.347522Z",
     "shell.execute_reply.started": "2022-04-18T18:47:11.615933Z"
    },
    "papermill": {
     "duration": 0.107241,
     "end_time": "2022-04-18T20:52:21.348317",
     "exception": false,
     "start_time": "2022-04-18T20:52:21.241076",
     "status": "completed"
    },
    "scrolled": true,
    "tags": []
   },
   "outputs": [
    {
     "data": {
      "text/html": [
       "<div>\n",
       "<style scoped>\n",
       "    .dataframe tbody tr th:only-of-type {\n",
       "        vertical-align: middle;\n",
       "    }\n",
       "\n",
       "    .dataframe tbody tr th {\n",
       "        vertical-align: top;\n",
       "    }\n",
       "\n",
       "    .dataframe thead th {\n",
       "        text-align: right;\n",
       "    }\n",
       "</style>\n",
       "<table border=\"1\" class=\"dataframe\">\n",
       "  <thead>\n",
       "    <tr style=\"text-align: right;\">\n",
       "      <th></th>\n",
       "      <th>Area</th>\n",
       "      <th>Year</th>\n",
       "      <th>average_rain_fall_mm_per_year</th>\n",
       "    </tr>\n",
       "  </thead>\n",
       "  <tbody>\n",
       "    <tr>\n",
       "      <th>0</th>\n",
       "      <td>Afghanistan</td>\n",
       "      <td>1985</td>\n",
       "      <td>327</td>\n",
       "    </tr>\n",
       "    <tr>\n",
       "      <th>1</th>\n",
       "      <td>Afghanistan</td>\n",
       "      <td>1986</td>\n",
       "      <td>327</td>\n",
       "    </tr>\n",
       "    <tr>\n",
       "      <th>2</th>\n",
       "      <td>Afghanistan</td>\n",
       "      <td>1987</td>\n",
       "      <td>327</td>\n",
       "    </tr>\n",
       "    <tr>\n",
       "      <th>3</th>\n",
       "      <td>Afghanistan</td>\n",
       "      <td>1989</td>\n",
       "      <td>327</td>\n",
       "    </tr>\n",
       "    <tr>\n",
       "      <th>4</th>\n",
       "      <td>Afghanistan</td>\n",
       "      <td>1990</td>\n",
       "      <td>327</td>\n",
       "    </tr>\n",
       "  </tbody>\n",
       "</table>\n",
       "</div>"
      ],
      "text/plain": [
       "          Area  Year average_rain_fall_mm_per_year\n",
       "0  Afghanistan  1985                           327\n",
       "1  Afghanistan  1986                           327\n",
       "2  Afghanistan  1987                           327\n",
       "3  Afghanistan  1989                           327\n",
       "4  Afghanistan  1990                           327"
      ]
     },
     "execution_count": 9,
     "metadata": {},
     "output_type": "execute_result"
    }
   ],
   "source": [
    "df_rain = pd.read_csv('../input/crop-yield-prediction-dataset/rainfall.csv')\n",
    "df_rain.head()"
   ]
  },
  {
   "cell_type": "code",
   "execution_count": 10,
   "id": "c7bcefd2",
   "metadata": {
    "execution": {
     "iopub.execute_input": "2022-04-18T20:52:21.503790Z",
     "iopub.status.busy": "2022-04-18T20:52:21.503056Z",
     "iopub.status.idle": "2022-04-18T20:52:21.506984Z",
     "shell.execute_reply": "2022-04-18T20:52:21.506469Z",
     "shell.execute_reply.started": "2022-04-18T18:47:43.186431Z"
    },
    "papermill": {
     "duration": 0.087294,
     "end_time": "2022-04-18T20:52:21.507160",
     "exception": false,
     "start_time": "2022-04-18T20:52:21.419866",
     "status": "completed"
    },
    "tags": []
   },
   "outputs": [
    {
     "data": {
      "text/html": [
       "<div>\n",
       "<style scoped>\n",
       "    .dataframe tbody tr th:only-of-type {\n",
       "        vertical-align: middle;\n",
       "    }\n",
       "\n",
       "    .dataframe tbody tr th {\n",
       "        vertical-align: top;\n",
       "    }\n",
       "\n",
       "    .dataframe thead th {\n",
       "        text-align: right;\n",
       "    }\n",
       "</style>\n",
       "<table border=\"1\" class=\"dataframe\">\n",
       "  <thead>\n",
       "    <tr style=\"text-align: right;\">\n",
       "      <th></th>\n",
       "      <th>Area</th>\n",
       "      <th>Year</th>\n",
       "      <th>average_rain_fall_mm_per_year</th>\n",
       "    </tr>\n",
       "  </thead>\n",
       "  <tbody>\n",
       "    <tr>\n",
       "      <th>6722</th>\n",
       "      <td>Zimbabwe</td>\n",
       "      <td>2013</td>\n",
       "      <td>657</td>\n",
       "    </tr>\n",
       "    <tr>\n",
       "      <th>6723</th>\n",
       "      <td>Zimbabwe</td>\n",
       "      <td>2014</td>\n",
       "      <td>657</td>\n",
       "    </tr>\n",
       "    <tr>\n",
       "      <th>6724</th>\n",
       "      <td>Zimbabwe</td>\n",
       "      <td>2015</td>\n",
       "      <td>657</td>\n",
       "    </tr>\n",
       "    <tr>\n",
       "      <th>6725</th>\n",
       "      <td>Zimbabwe</td>\n",
       "      <td>2016</td>\n",
       "      <td>657</td>\n",
       "    </tr>\n",
       "    <tr>\n",
       "      <th>6726</th>\n",
       "      <td>Zimbabwe</td>\n",
       "      <td>2017</td>\n",
       "      <td>657</td>\n",
       "    </tr>\n",
       "  </tbody>\n",
       "</table>\n",
       "</div>"
      ],
      "text/plain": [
       "          Area  Year average_rain_fall_mm_per_year\n",
       "6722  Zimbabwe  2013                           657\n",
       "6723  Zimbabwe  2014                           657\n",
       "6724  Zimbabwe  2015                           657\n",
       "6725  Zimbabwe  2016                           657\n",
       "6726  Zimbabwe  2017                           657"
      ]
     },
     "execution_count": 10,
     "metadata": {},
     "output_type": "execute_result"
    }
   ],
   "source": [
    "df_rain.tail()"
   ]
  },
  {
   "cell_type": "code",
   "execution_count": 11,
   "id": "a99250d4",
   "metadata": {
    "execution": {
     "iopub.execute_input": "2022-04-18T20:52:21.661905Z",
     "iopub.status.busy": "2022-04-18T20:52:21.661108Z",
     "iopub.status.idle": "2022-04-18T20:52:21.664102Z",
     "shell.execute_reply": "2022-04-18T20:52:21.663551Z",
     "shell.execute_reply.started": "2022-04-18T18:47:53.960938Z"
    },
    "papermill": {
     "duration": 0.085149,
     "end_time": "2022-04-18T20:52:21.664277",
     "exception": false,
     "start_time": "2022-04-18T20:52:21.579128",
     "status": "completed"
    },
    "tags": []
   },
   "outputs": [],
   "source": [
    "df_rain = df_rain.rename(index=str, columns={\" Area\": 'Area'})"
   ]
  },
  {
   "cell_type": "markdown",
   "id": "30e469c7",
   "metadata": {
    "papermill": {
     "duration": 0.072214,
     "end_time": "2022-04-18T20:52:21.809359",
     "exception": false,
     "start_time": "2022-04-18T20:52:21.737145",
     "status": "completed"
    },
    "tags": []
   },
   "source": [
    "Checking for the datatypes"
   ]
  },
  {
   "cell_type": "code",
   "execution_count": 12,
   "id": "9ae1f148",
   "metadata": {
    "execution": {
     "iopub.execute_input": "2022-04-18T20:52:21.970516Z",
     "iopub.status.busy": "2022-04-18T20:52:21.969722Z",
     "iopub.status.idle": "2022-04-18T20:52:21.973560Z",
     "shell.execute_reply": "2022-04-18T20:52:21.972466Z",
     "shell.execute_reply.started": "2022-04-18T18:47:59.966938Z"
    },
    "papermill": {
     "duration": 0.092147,
     "end_time": "2022-04-18T20:52:21.973729",
     "exception": false,
     "start_time": "2022-04-18T20:52:21.881582",
     "status": "completed"
    },
    "scrolled": true,
    "tags": []
   },
   "outputs": [
    {
     "name": "stdout",
     "output_type": "stream",
     "text": [
      "<class 'pandas.core.frame.DataFrame'>\n",
      "Index: 6727 entries, 0 to 6726\n",
      "Data columns (total 3 columns):\n",
      " #   Column                         Non-Null Count  Dtype \n",
      "---  ------                         --------------  ----- \n",
      " 0   Area                           6727 non-null   object\n",
      " 1   Year                           6727 non-null   int64 \n",
      " 2   average_rain_fall_mm_per_year  5953 non-null   object\n",
      "dtypes: int64(1), object(2)\n",
      "memory usage: 210.2+ KB\n"
     ]
    }
   ],
   "source": [
    "df_rain.info()"
   ]
  },
  {
   "cell_type": "markdown",
   "id": "417bf0ee",
   "metadata": {
    "papermill": {
     "duration": 0.073862,
     "end_time": "2022-04-18T20:52:22.121133",
     "exception": false,
     "start_time": "2022-04-18T20:52:22.047271",
     "status": "completed"
    },
    "tags": []
   },
   "source": [
    "convert average_rain_fall_mm_per_year from object to float"
   ]
  },
  {
   "cell_type": "code",
   "execution_count": 13,
   "id": "98fa3d82",
   "metadata": {
    "execution": {
     "iopub.execute_input": "2022-04-18T20:52:22.294853Z",
     "iopub.status.busy": "2022-04-18T20:52:22.294046Z",
     "iopub.status.idle": "2022-04-18T20:52:22.299386Z",
     "shell.execute_reply": "2022-04-18T20:52:22.297902Z",
     "shell.execute_reply.started": "2022-04-18T18:48:37.915257Z"
    },
    "papermill": {
     "duration": 0.104126,
     "end_time": "2022-04-18T20:52:22.299635",
     "exception": false,
     "start_time": "2022-04-18T20:52:22.195509",
     "status": "completed"
    },
    "scrolled": true,
    "tags": []
   },
   "outputs": [
    {
     "name": "stdout",
     "output_type": "stream",
     "text": [
      "<class 'pandas.core.frame.DataFrame'>\n",
      "Index: 6727 entries, 0 to 6726\n",
      "Data columns (total 3 columns):\n",
      " #   Column                         Non-Null Count  Dtype  \n",
      "---  ------                         --------------  -----  \n",
      " 0   Area                           6727 non-null   object \n",
      " 1   Year                           6727 non-null   int64  \n",
      " 2   average_rain_fall_mm_per_year  5947 non-null   float64\n",
      "dtypes: float64(1), int64(1), object(1)\n",
      "memory usage: 210.2+ KB\n"
     ]
    }
   ],
   "source": [
    "df_rain['average_rain_fall_mm_per_year'] = pd.to_numeric(df_rain['average_rain_fall_mm_per_year'],errors = 'coerce')\n",
    "df_rain.info()"
   ]
  },
  {
   "cell_type": "markdown",
   "id": "7b082c5a",
   "metadata": {
    "papermill": {
     "duration": 0.074368,
     "end_time": "2022-04-18T20:52:22.461713",
     "exception": false,
     "start_time": "2022-04-18T20:52:22.387345",
     "status": "completed"
    },
    "tags": []
   },
   "source": [
    "Next, droping any empty rows from dataset and merge yield dataframe with rain dataframe by year and area columns"
   ]
  },
  {
   "cell_type": "code",
   "execution_count": 14,
   "id": "d9b7187b",
   "metadata": {
    "execution": {
     "iopub.execute_input": "2022-04-18T20:52:22.618383Z",
     "iopub.status.busy": "2022-04-18T20:52:22.616081Z",
     "iopub.status.idle": "2022-04-18T20:52:22.622143Z",
     "shell.execute_reply": "2022-04-18T20:52:22.621502Z",
     "shell.execute_reply.started": "2022-04-18T18:48:56.760810Z"
    },
    "papermill": {
     "duration": 0.087026,
     "end_time": "2022-04-18T20:52:22.622305",
     "exception": false,
     "start_time": "2022-04-18T20:52:22.535279",
     "status": "completed"
    },
    "tags": []
   },
   "outputs": [],
   "source": [
    "df_rain = df_rain.dropna()"
   ]
  },
  {
   "cell_type": "code",
   "execution_count": 15,
   "id": "cd691c3d",
   "metadata": {
    "execution": {
     "iopub.execute_input": "2022-04-18T20:52:22.779207Z",
     "iopub.status.busy": "2022-04-18T20:52:22.777321Z",
     "iopub.status.idle": "2022-04-18T20:52:22.791583Z",
     "shell.execute_reply": "2022-04-18T20:52:22.792280Z",
     "shell.execute_reply.started": "2022-04-18T18:49:15.557301Z"
    },
    "papermill": {
     "duration": 0.097315,
     "end_time": "2022-04-18T20:52:22.792506",
     "exception": false,
     "start_time": "2022-04-18T20:52:22.695191",
     "status": "completed"
    },
    "scrolled": true,
    "tags": []
   },
   "outputs": [
    {
     "data": {
      "text/html": [
       "<div>\n",
       "<style scoped>\n",
       "    .dataframe tbody tr th:only-of-type {\n",
       "        vertical-align: middle;\n",
       "    }\n",
       "\n",
       "    .dataframe tbody tr th {\n",
       "        vertical-align: top;\n",
       "    }\n",
       "\n",
       "    .dataframe thead th {\n",
       "        text-align: right;\n",
       "    }\n",
       "</style>\n",
       "<table border=\"1\" class=\"dataframe\">\n",
       "  <thead>\n",
       "    <tr style=\"text-align: right;\">\n",
       "      <th></th>\n",
       "      <th>Year</th>\n",
       "      <th>average_rain_fall_mm_per_year</th>\n",
       "    </tr>\n",
       "  </thead>\n",
       "  <tbody>\n",
       "    <tr>\n",
       "      <th>count</th>\n",
       "      <td>5947.000000</td>\n",
       "      <td>5947.000000</td>\n",
       "    </tr>\n",
       "    <tr>\n",
       "      <th>mean</th>\n",
       "      <td>2001.365899</td>\n",
       "      <td>1124.743232</td>\n",
       "    </tr>\n",
       "    <tr>\n",
       "      <th>std</th>\n",
       "      <td>9.526335</td>\n",
       "      <td>786.257365</td>\n",
       "    </tr>\n",
       "    <tr>\n",
       "      <th>min</th>\n",
       "      <td>1985.000000</td>\n",
       "      <td>51.000000</td>\n",
       "    </tr>\n",
       "    <tr>\n",
       "      <th>25%</th>\n",
       "      <td>1993.000000</td>\n",
       "      <td>534.000000</td>\n",
       "    </tr>\n",
       "    <tr>\n",
       "      <th>50%</th>\n",
       "      <td>2001.000000</td>\n",
       "      <td>1010.000000</td>\n",
       "    </tr>\n",
       "    <tr>\n",
       "      <th>75%</th>\n",
       "      <td>2010.000000</td>\n",
       "      <td>1651.000000</td>\n",
       "    </tr>\n",
       "    <tr>\n",
       "      <th>max</th>\n",
       "      <td>2017.000000</td>\n",
       "      <td>3240.000000</td>\n",
       "    </tr>\n",
       "  </tbody>\n",
       "</table>\n",
       "</div>"
      ],
      "text/plain": [
       "              Year  average_rain_fall_mm_per_year\n",
       "count  5947.000000                    5947.000000\n",
       "mean   2001.365899                    1124.743232\n",
       "std       9.526335                     786.257365\n",
       "min    1985.000000                      51.000000\n",
       "25%    1993.000000                     534.000000\n",
       "50%    2001.000000                    1010.000000\n",
       "75%    2010.000000                    1651.000000\n",
       "max    2017.000000                    3240.000000"
      ]
     },
     "execution_count": 15,
     "metadata": {},
     "output_type": "execute_result"
    }
   ],
   "source": [
    "df_rain.describe()"
   ]
  },
  {
   "cell_type": "markdown",
   "id": "66d74c12",
   "metadata": {
    "papermill": {
     "duration": 0.073242,
     "end_time": "2022-04-18T20:52:22.938861",
     "exception": false,
     "start_time": "2022-04-18T20:52:22.865619",
     "status": "completed"
    },
    "tags": []
   },
   "source": [
    "The rainfall dataframe begins at 1985 and ends at 2016. "
   ]
  },
  {
   "cell_type": "markdown",
   "id": "89f3d93a",
   "metadata": {
    "papermill": {
     "duration": 0.073571,
     "end_time": "2022-04-18T20:52:23.086577",
     "exception": false,
     "start_time": "2022-04-18T20:52:23.013006",
     "status": "completed"
    },
    "tags": []
   },
   "source": [
    "Merge Yield Dataframe with rain Dataframe by year and area columns "
   ]
  },
  {
   "cell_type": "code",
   "execution_count": 16,
   "id": "86d752d1",
   "metadata": {
    "execution": {
     "iopub.execute_input": "2022-04-18T20:52:23.242680Z",
     "iopub.status.busy": "2022-04-18T20:52:23.241915Z",
     "iopub.status.idle": "2022-04-18T20:52:23.272724Z",
     "shell.execute_reply": "2022-04-18T20:52:23.271983Z",
     "shell.execute_reply.started": "2022-04-18T18:50:02.554899Z"
    },
    "papermill": {
     "duration": 0.109882,
     "end_time": "2022-04-18T20:52:23.272940",
     "exception": false,
     "start_time": "2022-04-18T20:52:23.163058",
     "status": "completed"
    },
    "tags": []
   },
   "outputs": [],
   "source": [
    "yield_df = pd.merge(df_yield, df_rain, on=['Year','Area'])"
   ]
  },
  {
   "cell_type": "code",
   "execution_count": 17,
   "id": "1b176dc8",
   "metadata": {
    "execution": {
     "iopub.execute_input": "2022-04-18T20:52:23.451163Z",
     "iopub.status.busy": "2022-04-18T20:52:23.445315Z",
     "iopub.status.idle": "2022-04-18T20:52:23.456097Z",
     "shell.execute_reply": "2022-04-18T20:52:23.455290Z",
     "shell.execute_reply.started": "2022-04-18T18:50:29.048773Z"
    },
    "papermill": {
     "duration": 0.097403,
     "end_time": "2022-04-18T20:52:23.456262",
     "exception": false,
     "start_time": "2022-04-18T20:52:23.358859",
     "status": "completed"
    },
    "scrolled": true,
    "tags": []
   },
   "outputs": [
    {
     "data": {
      "text/html": [
       "<div>\n",
       "<style scoped>\n",
       "    .dataframe tbody tr th:only-of-type {\n",
       "        vertical-align: middle;\n",
       "    }\n",
       "\n",
       "    .dataframe tbody tr th {\n",
       "        vertical-align: top;\n",
       "    }\n",
       "\n",
       "    .dataframe thead th {\n",
       "        text-align: right;\n",
       "    }\n",
       "</style>\n",
       "<table border=\"1\" class=\"dataframe\">\n",
       "  <thead>\n",
       "    <tr style=\"text-align: right;\">\n",
       "      <th></th>\n",
       "      <th>Area</th>\n",
       "      <th>Item</th>\n",
       "      <th>Year</th>\n",
       "      <th>hg/ha_yield</th>\n",
       "      <th>average_rain_fall_mm_per_year</th>\n",
       "    </tr>\n",
       "  </thead>\n",
       "  <tbody>\n",
       "    <tr>\n",
       "      <th>0</th>\n",
       "      <td>Afghanistan</td>\n",
       "      <td>Maize</td>\n",
       "      <td>1985</td>\n",
       "      <td>16652</td>\n",
       "      <td>327.0</td>\n",
       "    </tr>\n",
       "    <tr>\n",
       "      <th>1</th>\n",
       "      <td>Afghanistan</td>\n",
       "      <td>Potatoes</td>\n",
       "      <td>1985</td>\n",
       "      <td>140909</td>\n",
       "      <td>327.0</td>\n",
       "    </tr>\n",
       "    <tr>\n",
       "      <th>2</th>\n",
       "      <td>Afghanistan</td>\n",
       "      <td>Rice, paddy</td>\n",
       "      <td>1985</td>\n",
       "      <td>22482</td>\n",
       "      <td>327.0</td>\n",
       "    </tr>\n",
       "    <tr>\n",
       "      <th>3</th>\n",
       "      <td>Afghanistan</td>\n",
       "      <td>Wheat</td>\n",
       "      <td>1985</td>\n",
       "      <td>12277</td>\n",
       "      <td>327.0</td>\n",
       "    </tr>\n",
       "    <tr>\n",
       "      <th>4</th>\n",
       "      <td>Afghanistan</td>\n",
       "      <td>Maize</td>\n",
       "      <td>1986</td>\n",
       "      <td>16875</td>\n",
       "      <td>327.0</td>\n",
       "    </tr>\n",
       "  </tbody>\n",
       "</table>\n",
       "</div>"
      ],
      "text/plain": [
       "          Area         Item  Year  hg/ha_yield  average_rain_fall_mm_per_year\n",
       "0  Afghanistan        Maize  1985        16652                          327.0\n",
       "1  Afghanistan     Potatoes  1985       140909                          327.0\n",
       "2  Afghanistan  Rice, paddy  1985        22482                          327.0\n",
       "3  Afghanistan        Wheat  1985        12277                          327.0\n",
       "4  Afghanistan        Maize  1986        16875                          327.0"
      ]
     },
     "execution_count": 17,
     "metadata": {},
     "output_type": "execute_result"
    }
   ],
   "source": [
    "yield_df.head()"
   ]
  },
  {
   "cell_type": "markdown",
   "id": "473dad4b",
   "metadata": {
    "papermill": {
     "duration": 0.074573,
     "end_time": "2022-04-18T20:52:23.605514",
     "exception": false,
     "start_time": "2022-04-18T20:52:23.530941",
     "status": "completed"
    },
    "tags": []
   },
   "source": [
    "We can see that now the years start from the first yield dataframe the starting year was 1961, now it's 1985 because that's when the rainfall data begins. "
   ]
  },
  {
   "cell_type": "code",
   "execution_count": 18,
   "id": "29059f71",
   "metadata": {
    "execution": {
     "iopub.execute_input": "2022-04-18T20:52:23.760828Z",
     "iopub.status.busy": "2022-04-18T20:52:23.759701Z",
     "iopub.status.idle": "2022-04-18T20:52:23.779290Z",
     "shell.execute_reply": "2022-04-18T20:52:23.779861Z",
     "shell.execute_reply.started": "2022-04-18T18:50:35.366488Z"
    },
    "papermill": {
     "duration": 0.101728,
     "end_time": "2022-04-18T20:52:23.780066",
     "exception": false,
     "start_time": "2022-04-18T20:52:23.678338",
     "status": "completed"
    },
    "scrolled": true,
    "tags": []
   },
   "outputs": [
    {
     "data": {
      "text/html": [
       "<div>\n",
       "<style scoped>\n",
       "    .dataframe tbody tr th:only-of-type {\n",
       "        vertical-align: middle;\n",
       "    }\n",
       "\n",
       "    .dataframe tbody tr th {\n",
       "        vertical-align: top;\n",
       "    }\n",
       "\n",
       "    .dataframe thead th {\n",
       "        text-align: right;\n",
       "    }\n",
       "</style>\n",
       "<table border=\"1\" class=\"dataframe\">\n",
       "  <thead>\n",
       "    <tr style=\"text-align: right;\">\n",
       "      <th></th>\n",
       "      <th>Year</th>\n",
       "      <th>hg/ha_yield</th>\n",
       "      <th>average_rain_fall_mm_per_year</th>\n",
       "    </tr>\n",
       "  </thead>\n",
       "  <tbody>\n",
       "    <tr>\n",
       "      <th>count</th>\n",
       "      <td>25385.000000</td>\n",
       "      <td>25385.000000</td>\n",
       "      <td>25385.000000</td>\n",
       "    </tr>\n",
       "    <tr>\n",
       "      <th>mean</th>\n",
       "      <td>2001.278787</td>\n",
       "      <td>68312.278353</td>\n",
       "      <td>1254.849754</td>\n",
       "    </tr>\n",
       "    <tr>\n",
       "      <th>std</th>\n",
       "      <td>9.143915</td>\n",
       "      <td>75213.292733</td>\n",
       "      <td>804.449430</td>\n",
       "    </tr>\n",
       "    <tr>\n",
       "      <th>min</th>\n",
       "      <td>1985.000000</td>\n",
       "      <td>50.000000</td>\n",
       "      <td>51.000000</td>\n",
       "    </tr>\n",
       "    <tr>\n",
       "      <th>25%</th>\n",
       "      <td>1994.000000</td>\n",
       "      <td>17432.000000</td>\n",
       "      <td>630.000000</td>\n",
       "    </tr>\n",
       "    <tr>\n",
       "      <th>50%</th>\n",
       "      <td>2001.000000</td>\n",
       "      <td>38750.000000</td>\n",
       "      <td>1150.000000</td>\n",
       "    </tr>\n",
       "    <tr>\n",
       "      <th>75%</th>\n",
       "      <td>2009.000000</td>\n",
       "      <td>94286.000000</td>\n",
       "      <td>1761.000000</td>\n",
       "    </tr>\n",
       "    <tr>\n",
       "      <th>max</th>\n",
       "      <td>2016.000000</td>\n",
       "      <td>554855.000000</td>\n",
       "      <td>3240.000000</td>\n",
       "    </tr>\n",
       "  </tbody>\n",
       "</table>\n",
       "</div>"
      ],
      "text/plain": [
       "               Year    hg/ha_yield  average_rain_fall_mm_per_year\n",
       "count  25385.000000   25385.000000                   25385.000000\n",
       "mean    2001.278787   68312.278353                    1254.849754\n",
       "std        9.143915   75213.292733                     804.449430\n",
       "min     1985.000000      50.000000                      51.000000\n",
       "25%     1994.000000   17432.000000                     630.000000\n",
       "50%     2001.000000   38750.000000                    1150.000000\n",
       "75%     2009.000000   94286.000000                    1761.000000\n",
       "max     2016.000000  554855.000000                    3240.000000"
      ]
     },
     "execution_count": 18,
     "metadata": {},
     "output_type": "execute_result"
    }
   ],
   "source": [
    "yield_df.describe()"
   ]
  },
  {
   "cell_type": "markdown",
   "id": "94ae6622",
   "metadata": {
    "papermill": {
     "duration": 0.073481,
     "end_time": "2022-04-18T20:52:23.927136",
     "exception": false,
     "start_time": "2022-04-18T20:52:23.853655",
     "status": "completed"
    },
    "tags": []
   },
   "source": [
    "### Pesticides Data:\n",
    "Pesticides used for each item and country was also collected from FAO database.  "
   ]
  },
  {
   "cell_type": "code",
   "execution_count": 19,
   "id": "7ddfee92",
   "metadata": {
    "execution": {
     "iopub.execute_input": "2022-04-18T20:52:24.082939Z",
     "iopub.status.busy": "2022-04-18T20:52:24.082229Z",
     "iopub.status.idle": "2022-04-18T20:52:24.114419Z",
     "shell.execute_reply": "2022-04-18T20:52:24.115082Z",
     "shell.execute_reply.started": "2022-04-18T18:50:38.094652Z"
    },
    "papermill": {
     "duration": 0.114222,
     "end_time": "2022-04-18T20:52:24.115265",
     "exception": false,
     "start_time": "2022-04-18T20:52:24.001043",
     "status": "completed"
    },
    "tags": []
   },
   "outputs": [
    {
     "data": {
      "text/html": [
       "<div>\n",
       "<style scoped>\n",
       "    .dataframe tbody tr th:only-of-type {\n",
       "        vertical-align: middle;\n",
       "    }\n",
       "\n",
       "    .dataframe tbody tr th {\n",
       "        vertical-align: top;\n",
       "    }\n",
       "\n",
       "    .dataframe thead th {\n",
       "        text-align: right;\n",
       "    }\n",
       "</style>\n",
       "<table border=\"1\" class=\"dataframe\">\n",
       "  <thead>\n",
       "    <tr style=\"text-align: right;\">\n",
       "      <th></th>\n",
       "      <th>Domain</th>\n",
       "      <th>Area</th>\n",
       "      <th>Element</th>\n",
       "      <th>Item</th>\n",
       "      <th>Year</th>\n",
       "      <th>Unit</th>\n",
       "      <th>Value</th>\n",
       "    </tr>\n",
       "  </thead>\n",
       "  <tbody>\n",
       "    <tr>\n",
       "      <th>0</th>\n",
       "      <td>Pesticides Use</td>\n",
       "      <td>Albania</td>\n",
       "      <td>Use</td>\n",
       "      <td>Pesticides (total)</td>\n",
       "      <td>1990</td>\n",
       "      <td>tonnes of active ingredients</td>\n",
       "      <td>121.0</td>\n",
       "    </tr>\n",
       "    <tr>\n",
       "      <th>1</th>\n",
       "      <td>Pesticides Use</td>\n",
       "      <td>Albania</td>\n",
       "      <td>Use</td>\n",
       "      <td>Pesticides (total)</td>\n",
       "      <td>1991</td>\n",
       "      <td>tonnes of active ingredients</td>\n",
       "      <td>121.0</td>\n",
       "    </tr>\n",
       "    <tr>\n",
       "      <th>2</th>\n",
       "      <td>Pesticides Use</td>\n",
       "      <td>Albania</td>\n",
       "      <td>Use</td>\n",
       "      <td>Pesticides (total)</td>\n",
       "      <td>1992</td>\n",
       "      <td>tonnes of active ingredients</td>\n",
       "      <td>121.0</td>\n",
       "    </tr>\n",
       "    <tr>\n",
       "      <th>3</th>\n",
       "      <td>Pesticides Use</td>\n",
       "      <td>Albania</td>\n",
       "      <td>Use</td>\n",
       "      <td>Pesticides (total)</td>\n",
       "      <td>1993</td>\n",
       "      <td>tonnes of active ingredients</td>\n",
       "      <td>121.0</td>\n",
       "    </tr>\n",
       "    <tr>\n",
       "      <th>4</th>\n",
       "      <td>Pesticides Use</td>\n",
       "      <td>Albania</td>\n",
       "      <td>Use</td>\n",
       "      <td>Pesticides (total)</td>\n",
       "      <td>1994</td>\n",
       "      <td>tonnes of active ingredients</td>\n",
       "      <td>201.0</td>\n",
       "    </tr>\n",
       "  </tbody>\n",
       "</table>\n",
       "</div>"
      ],
      "text/plain": [
       "           Domain     Area Element                Item  Year  \\\n",
       "0  Pesticides Use  Albania     Use  Pesticides (total)  1990   \n",
       "1  Pesticides Use  Albania     Use  Pesticides (total)  1991   \n",
       "2  Pesticides Use  Albania     Use  Pesticides (total)  1992   \n",
       "3  Pesticides Use  Albania     Use  Pesticides (total)  1993   \n",
       "4  Pesticides Use  Albania     Use  Pesticides (total)  1994   \n",
       "\n",
       "                           Unit  Value  \n",
       "0  tonnes of active ingredients  121.0  \n",
       "1  tonnes of active ingredients  121.0  \n",
       "2  tonnes of active ingredients  121.0  \n",
       "3  tonnes of active ingredients  121.0  \n",
       "4  tonnes of active ingredients  201.0  "
      ]
     },
     "execution_count": 19,
     "metadata": {},
     "output_type": "execute_result"
    }
   ],
   "source": [
    "df_pes = pd.read_csv('../input/crop-yield-prediction-dataset/pesticides.csv')\n",
    "df_pes.head()"
   ]
  },
  {
   "cell_type": "code",
   "execution_count": 20,
   "id": "14ddf9e9",
   "metadata": {
    "execution": {
     "iopub.execute_input": "2022-04-18T20:52:24.275681Z",
     "iopub.status.busy": "2022-04-18T20:52:24.274262Z",
     "iopub.status.idle": "2022-04-18T20:52:24.290186Z",
     "shell.execute_reply": "2022-04-18T20:52:24.290726Z",
     "shell.execute_reply.started": "2022-04-18T18:50:40.469681Z"
    },
    "papermill": {
     "duration": 0.099813,
     "end_time": "2022-04-18T20:52:24.290910",
     "exception": false,
     "start_time": "2022-04-18T20:52:24.191097",
     "status": "completed"
    },
    "tags": []
   },
   "outputs": [
    {
     "data": {
      "text/html": [
       "<div>\n",
       "<style scoped>\n",
       "    .dataframe tbody tr th:only-of-type {\n",
       "        vertical-align: middle;\n",
       "    }\n",
       "\n",
       "    .dataframe tbody tr th {\n",
       "        vertical-align: top;\n",
       "    }\n",
       "\n",
       "    .dataframe thead th {\n",
       "        text-align: right;\n",
       "    }\n",
       "</style>\n",
       "<table border=\"1\" class=\"dataframe\">\n",
       "  <thead>\n",
       "    <tr style=\"text-align: right;\">\n",
       "      <th></th>\n",
       "      <th>Area</th>\n",
       "      <th>Year</th>\n",
       "      <th>pesticides_tonnes</th>\n",
       "    </tr>\n",
       "  </thead>\n",
       "  <tbody>\n",
       "    <tr>\n",
       "      <th>0</th>\n",
       "      <td>Albania</td>\n",
       "      <td>1990</td>\n",
       "      <td>121.0</td>\n",
       "    </tr>\n",
       "    <tr>\n",
       "      <th>1</th>\n",
       "      <td>Albania</td>\n",
       "      <td>1991</td>\n",
       "      <td>121.0</td>\n",
       "    </tr>\n",
       "    <tr>\n",
       "      <th>2</th>\n",
       "      <td>Albania</td>\n",
       "      <td>1992</td>\n",
       "      <td>121.0</td>\n",
       "    </tr>\n",
       "    <tr>\n",
       "      <th>3</th>\n",
       "      <td>Albania</td>\n",
       "      <td>1993</td>\n",
       "      <td>121.0</td>\n",
       "    </tr>\n",
       "    <tr>\n",
       "      <th>4</th>\n",
       "      <td>Albania</td>\n",
       "      <td>1994</td>\n",
       "      <td>201.0</td>\n",
       "    </tr>\n",
       "  </tbody>\n",
       "</table>\n",
       "</div>"
      ],
      "text/plain": [
       "      Area  Year  pesticides_tonnes\n",
       "0  Albania  1990              121.0\n",
       "1  Albania  1991              121.0\n",
       "2  Albania  1992              121.0\n",
       "3  Albania  1993              121.0\n",
       "4  Albania  1994              201.0"
      ]
     },
     "execution_count": 20,
     "metadata": {},
     "output_type": "execute_result"
    }
   ],
   "source": [
    "df_pes = df_pes.rename(index=str, columns={\"Value\": \"pesticides_tonnes\"})\n",
    "df_pes = df_pes.drop(['Element','Domain','Unit','Item'], axis=1)\n",
    "df_pes.head()"
   ]
  },
  {
   "cell_type": "code",
   "execution_count": 21,
   "id": "01a5d16c",
   "metadata": {
    "execution": {
     "iopub.execute_input": "2022-04-18T20:52:24.453293Z",
     "iopub.status.busy": "2022-04-18T20:52:24.452036Z",
     "iopub.status.idle": "2022-04-18T20:52:24.471456Z",
     "shell.execute_reply": "2022-04-18T20:52:24.470766Z",
     "shell.execute_reply.started": "2022-04-18T18:50:42.988505Z"
    },
    "papermill": {
     "duration": 0.101352,
     "end_time": "2022-04-18T20:52:24.471618",
     "exception": false,
     "start_time": "2022-04-18T20:52:24.370266",
     "status": "completed"
    },
    "scrolled": true,
    "tags": []
   },
   "outputs": [
    {
     "data": {
      "text/html": [
       "<div>\n",
       "<style scoped>\n",
       "    .dataframe tbody tr th:only-of-type {\n",
       "        vertical-align: middle;\n",
       "    }\n",
       "\n",
       "    .dataframe tbody tr th {\n",
       "        vertical-align: top;\n",
       "    }\n",
       "\n",
       "    .dataframe thead th {\n",
       "        text-align: right;\n",
       "    }\n",
       "</style>\n",
       "<table border=\"1\" class=\"dataframe\">\n",
       "  <thead>\n",
       "    <tr style=\"text-align: right;\">\n",
       "      <th></th>\n",
       "      <th>Year</th>\n",
       "      <th>pesticides_tonnes</th>\n",
       "    </tr>\n",
       "  </thead>\n",
       "  <tbody>\n",
       "    <tr>\n",
       "      <th>count</th>\n",
       "      <td>4349.000000</td>\n",
       "      <td>4.349000e+03</td>\n",
       "    </tr>\n",
       "    <tr>\n",
       "      <th>mean</th>\n",
       "      <td>2003.138883</td>\n",
       "      <td>2.030334e+04</td>\n",
       "    </tr>\n",
       "    <tr>\n",
       "      <th>std</th>\n",
       "      <td>7.728044</td>\n",
       "      <td>1.177362e+05</td>\n",
       "    </tr>\n",
       "    <tr>\n",
       "      <th>min</th>\n",
       "      <td>1990.000000</td>\n",
       "      <td>0.000000e+00</td>\n",
       "    </tr>\n",
       "    <tr>\n",
       "      <th>25%</th>\n",
       "      <td>1996.000000</td>\n",
       "      <td>9.300000e+01</td>\n",
       "    </tr>\n",
       "    <tr>\n",
       "      <th>50%</th>\n",
       "      <td>2003.000000</td>\n",
       "      <td>1.137560e+03</td>\n",
       "    </tr>\n",
       "    <tr>\n",
       "      <th>75%</th>\n",
       "      <td>2010.000000</td>\n",
       "      <td>7.869000e+03</td>\n",
       "    </tr>\n",
       "    <tr>\n",
       "      <th>max</th>\n",
       "      <td>2016.000000</td>\n",
       "      <td>1.807000e+06</td>\n",
       "    </tr>\n",
       "  </tbody>\n",
       "</table>\n",
       "</div>"
      ],
      "text/plain": [
       "              Year  pesticides_tonnes\n",
       "count  4349.000000       4.349000e+03\n",
       "mean   2003.138883       2.030334e+04\n",
       "std       7.728044       1.177362e+05\n",
       "min    1990.000000       0.000000e+00\n",
       "25%    1996.000000       9.300000e+01\n",
       "50%    2003.000000       1.137560e+03\n",
       "75%    2010.000000       7.869000e+03\n",
       "max    2016.000000       1.807000e+06"
      ]
     },
     "execution_count": 21,
     "metadata": {},
     "output_type": "execute_result"
    }
   ],
   "source": [
    "df_pes.describe()"
   ]
  },
  {
   "cell_type": "code",
   "execution_count": 22,
   "id": "41b3074d",
   "metadata": {
    "execution": {
     "iopub.execute_input": "2022-04-18T20:52:24.638516Z",
     "iopub.status.busy": "2022-04-18T20:52:24.634371Z",
     "iopub.status.idle": "2022-04-18T20:52:24.647891Z",
     "shell.execute_reply": "2022-04-18T20:52:24.648465Z",
     "shell.execute_reply.started": "2022-04-18T18:50:49.931918Z"
    },
    "papermill": {
     "duration": 0.095004,
     "end_time": "2022-04-18T20:52:24.648651",
     "exception": false,
     "start_time": "2022-04-18T20:52:24.553647",
     "status": "completed"
    },
    "tags": []
   },
   "outputs": [
    {
     "name": "stdout",
     "output_type": "stream",
     "text": [
      "<class 'pandas.core.frame.DataFrame'>\n",
      "Index: 4349 entries, 0 to 4348\n",
      "Data columns (total 3 columns):\n",
      " #   Column             Non-Null Count  Dtype  \n",
      "---  ------             --------------  -----  \n",
      " 0   Area               4349 non-null   object \n",
      " 1   Year               4349 non-null   int64  \n",
      " 2   pesticides_tonnes  4349 non-null   float64\n",
      "dtypes: float64(1), int64(1), object(1)\n",
      "memory usage: 135.9+ KB\n"
     ]
    }
   ],
   "source": [
    "df_pes.info()"
   ]
  },
  {
   "cell_type": "markdown",
   "id": "61dbe56f",
   "metadata": {
    "papermill": {
     "duration": 0.08171,
     "end_time": "2022-04-18T20:52:24.809508",
     "exception": false,
     "start_time": "2022-04-18T20:52:24.727798",
     "status": "completed"
    },
    "tags": []
   },
   "source": [
    "Merge Pesticides dataframe with yield dataframe "
   ]
  },
  {
   "cell_type": "code",
   "execution_count": 23,
   "id": "655ef7a2",
   "metadata": {
    "execution": {
     "iopub.execute_input": "2022-04-18T20:52:24.971976Z",
     "iopub.status.busy": "2022-04-18T20:52:24.970686Z",
     "iopub.status.idle": "2022-04-18T20:52:24.985714Z",
     "shell.execute_reply": "2022-04-18T20:52:24.984965Z",
     "shell.execute_reply.started": "2022-04-18T18:51:15.336665Z"
    },
    "papermill": {
     "duration": 0.098594,
     "end_time": "2022-04-18T20:52:24.985869",
     "exception": false,
     "start_time": "2022-04-18T20:52:24.887275",
     "status": "completed"
    },
    "tags": []
   },
   "outputs": [
    {
     "data": {
      "text/plain": [
       "(18949, 6)"
      ]
     },
     "execution_count": 23,
     "metadata": {},
     "output_type": "execute_result"
    }
   ],
   "source": [
    "yield_df = pd.merge(yield_df, df_pes, on=['Year','Area'])\n",
    "yield_df.shape"
   ]
  },
  {
   "cell_type": "code",
   "execution_count": 24,
   "id": "b7b9b4cd",
   "metadata": {
    "execution": {
     "iopub.execute_input": "2022-04-18T20:52:25.160830Z",
     "iopub.status.busy": "2022-04-18T20:52:25.159638Z",
     "iopub.status.idle": "2022-04-18T20:52:25.164237Z",
     "shell.execute_reply": "2022-04-18T20:52:25.163675Z",
     "shell.execute_reply.started": "2022-04-18T18:51:17.710906Z"
    },
    "papermill": {
     "duration": 0.096718,
     "end_time": "2022-04-18T20:52:25.164393",
     "exception": false,
     "start_time": "2022-04-18T20:52:25.067675",
     "status": "completed"
    },
    "scrolled": true,
    "tags": []
   },
   "outputs": [
    {
     "data": {
      "text/html": [
       "<div>\n",
       "<style scoped>\n",
       "    .dataframe tbody tr th:only-of-type {\n",
       "        vertical-align: middle;\n",
       "    }\n",
       "\n",
       "    .dataframe tbody tr th {\n",
       "        vertical-align: top;\n",
       "    }\n",
       "\n",
       "    .dataframe thead th {\n",
       "        text-align: right;\n",
       "    }\n",
       "</style>\n",
       "<table border=\"1\" class=\"dataframe\">\n",
       "  <thead>\n",
       "    <tr style=\"text-align: right;\">\n",
       "      <th></th>\n",
       "      <th>Area</th>\n",
       "      <th>Item</th>\n",
       "      <th>Year</th>\n",
       "      <th>hg/ha_yield</th>\n",
       "      <th>average_rain_fall_mm_per_year</th>\n",
       "      <th>pesticides_tonnes</th>\n",
       "    </tr>\n",
       "  </thead>\n",
       "  <tbody>\n",
       "    <tr>\n",
       "      <th>0</th>\n",
       "      <td>Albania</td>\n",
       "      <td>Maize</td>\n",
       "      <td>1990</td>\n",
       "      <td>36613</td>\n",
       "      <td>1485.0</td>\n",
       "      <td>121.0</td>\n",
       "    </tr>\n",
       "    <tr>\n",
       "      <th>1</th>\n",
       "      <td>Albania</td>\n",
       "      <td>Potatoes</td>\n",
       "      <td>1990</td>\n",
       "      <td>66667</td>\n",
       "      <td>1485.0</td>\n",
       "      <td>121.0</td>\n",
       "    </tr>\n",
       "    <tr>\n",
       "      <th>2</th>\n",
       "      <td>Albania</td>\n",
       "      <td>Rice, paddy</td>\n",
       "      <td>1990</td>\n",
       "      <td>23333</td>\n",
       "      <td>1485.0</td>\n",
       "      <td>121.0</td>\n",
       "    </tr>\n",
       "    <tr>\n",
       "      <th>3</th>\n",
       "      <td>Albania</td>\n",
       "      <td>Sorghum</td>\n",
       "      <td>1990</td>\n",
       "      <td>12500</td>\n",
       "      <td>1485.0</td>\n",
       "      <td>121.0</td>\n",
       "    </tr>\n",
       "    <tr>\n",
       "      <th>4</th>\n",
       "      <td>Albania</td>\n",
       "      <td>Soybeans</td>\n",
       "      <td>1990</td>\n",
       "      <td>7000</td>\n",
       "      <td>1485.0</td>\n",
       "      <td>121.0</td>\n",
       "    </tr>\n",
       "  </tbody>\n",
       "</table>\n",
       "</div>"
      ],
      "text/plain": [
       "      Area         Item  Year  hg/ha_yield  average_rain_fall_mm_per_year  \\\n",
       "0  Albania        Maize  1990        36613                         1485.0   \n",
       "1  Albania     Potatoes  1990        66667                         1485.0   \n",
       "2  Albania  Rice, paddy  1990        23333                         1485.0   \n",
       "3  Albania      Sorghum  1990        12500                         1485.0   \n",
       "4  Albania     Soybeans  1990         7000                         1485.0   \n",
       "\n",
       "   pesticides_tonnes  \n",
       "0              121.0  \n",
       "1              121.0  \n",
       "2              121.0  \n",
       "3              121.0  \n",
       "4              121.0  "
      ]
     },
     "execution_count": 24,
     "metadata": {},
     "output_type": "execute_result"
    }
   ],
   "source": [
    "yield_df.head()"
   ]
  },
  {
   "cell_type": "markdown",
   "id": "fd6c5996",
   "metadata": {
    "papermill": {
     "duration": 0.080494,
     "end_time": "2022-04-18T20:52:25.321685",
     "exception": false,
     "start_time": "2022-04-18T20:52:25.241191",
     "status": "completed"
    },
    "tags": []
   },
   "source": [
    "### Average Temprature: \n",
    "\n",
    "Average Temprature for each country was colleced from World Bank Data. "
   ]
  },
  {
   "cell_type": "code",
   "execution_count": 25,
   "id": "caa90be0",
   "metadata": {
    "execution": {
     "iopub.execute_input": "2022-04-18T20:52:25.481894Z",
     "iopub.status.busy": "2022-04-18T20:52:25.481128Z",
     "iopub.status.idle": "2022-04-18T20:52:25.540758Z",
     "shell.execute_reply": "2022-04-18T20:52:25.540079Z",
     "shell.execute_reply.started": "2022-04-18T18:51:20.277691Z"
    },
    "papermill": {
     "duration": 0.142434,
     "end_time": "2022-04-18T20:52:25.540945",
     "exception": false,
     "start_time": "2022-04-18T20:52:25.398511",
     "status": "completed"
    },
    "tags": []
   },
   "outputs": [],
   "source": [
    "avg_temp=  pd.read_csv('../input/crop-yield-prediction-dataset/temp.csv')"
   ]
  },
  {
   "cell_type": "code",
   "execution_count": 26,
   "id": "adf38a5d",
   "metadata": {
    "execution": {
     "iopub.execute_input": "2022-04-18T20:52:25.707906Z",
     "iopub.status.busy": "2022-04-18T20:52:25.706909Z",
     "iopub.status.idle": "2022-04-18T20:52:25.710670Z",
     "shell.execute_reply": "2022-04-18T20:52:25.711199Z",
     "shell.execute_reply.started": "2022-04-18T18:51:24.633452Z"
    },
    "papermill": {
     "duration": 0.091918,
     "end_time": "2022-04-18T20:52:25.711397",
     "exception": false,
     "start_time": "2022-04-18T20:52:25.619479",
     "status": "completed"
    },
    "scrolled": true,
    "tags": []
   },
   "outputs": [
    {
     "data": {
      "text/html": [
       "<div>\n",
       "<style scoped>\n",
       "    .dataframe tbody tr th:only-of-type {\n",
       "        vertical-align: middle;\n",
       "    }\n",
       "\n",
       "    .dataframe tbody tr th {\n",
       "        vertical-align: top;\n",
       "    }\n",
       "\n",
       "    .dataframe thead th {\n",
       "        text-align: right;\n",
       "    }\n",
       "</style>\n",
       "<table border=\"1\" class=\"dataframe\">\n",
       "  <thead>\n",
       "    <tr style=\"text-align: right;\">\n",
       "      <th></th>\n",
       "      <th>year</th>\n",
       "      <th>country</th>\n",
       "      <th>avg_temp</th>\n",
       "    </tr>\n",
       "  </thead>\n",
       "  <tbody>\n",
       "    <tr>\n",
       "      <th>0</th>\n",
       "      <td>1849</td>\n",
       "      <td>Côte D'Ivoire</td>\n",
       "      <td>25.58</td>\n",
       "    </tr>\n",
       "    <tr>\n",
       "      <th>1</th>\n",
       "      <td>1850</td>\n",
       "      <td>Côte D'Ivoire</td>\n",
       "      <td>25.52</td>\n",
       "    </tr>\n",
       "    <tr>\n",
       "      <th>2</th>\n",
       "      <td>1851</td>\n",
       "      <td>Côte D'Ivoire</td>\n",
       "      <td>25.67</td>\n",
       "    </tr>\n",
       "    <tr>\n",
       "      <th>3</th>\n",
       "      <td>1852</td>\n",
       "      <td>Côte D'Ivoire</td>\n",
       "      <td>NaN</td>\n",
       "    </tr>\n",
       "    <tr>\n",
       "      <th>4</th>\n",
       "      <td>1853</td>\n",
       "      <td>Côte D'Ivoire</td>\n",
       "      <td>NaN</td>\n",
       "    </tr>\n",
       "  </tbody>\n",
       "</table>\n",
       "</div>"
      ],
      "text/plain": [
       "   year        country  avg_temp\n",
       "0  1849  Côte D'Ivoire     25.58\n",
       "1  1850  Côte D'Ivoire     25.52\n",
       "2  1851  Côte D'Ivoire     25.67\n",
       "3  1852  Côte D'Ivoire       NaN\n",
       "4  1853  Côte D'Ivoire       NaN"
      ]
     },
     "execution_count": 26,
     "metadata": {},
     "output_type": "execute_result"
    }
   ],
   "source": [
    "avg_temp.head()"
   ]
  },
  {
   "cell_type": "code",
   "execution_count": 27,
   "id": "d21bff69",
   "metadata": {
    "execution": {
     "iopub.execute_input": "2022-04-18T20:52:25.878616Z",
     "iopub.status.busy": "2022-04-18T20:52:25.877239Z",
     "iopub.status.idle": "2022-04-18T20:52:25.895867Z",
     "shell.execute_reply": "2022-04-18T20:52:25.896404Z",
     "shell.execute_reply.started": "2022-04-18T18:51:28.158562Z"
    },
    "papermill": {
     "duration": 0.107775,
     "end_time": "2022-04-18T20:52:25.896620",
     "exception": false,
     "start_time": "2022-04-18T20:52:25.788845",
     "status": "completed"
    },
    "scrolled": true,
    "tags": []
   },
   "outputs": [
    {
     "data": {
      "text/html": [
       "<div>\n",
       "<style scoped>\n",
       "    .dataframe tbody tr th:only-of-type {\n",
       "        vertical-align: middle;\n",
       "    }\n",
       "\n",
       "    .dataframe tbody tr th {\n",
       "        vertical-align: top;\n",
       "    }\n",
       "\n",
       "    .dataframe thead th {\n",
       "        text-align: right;\n",
       "    }\n",
       "</style>\n",
       "<table border=\"1\" class=\"dataframe\">\n",
       "  <thead>\n",
       "    <tr style=\"text-align: right;\">\n",
       "      <th></th>\n",
       "      <th>year</th>\n",
       "      <th>avg_temp</th>\n",
       "    </tr>\n",
       "  </thead>\n",
       "  <tbody>\n",
       "    <tr>\n",
       "      <th>count</th>\n",
       "      <td>71311.000000</td>\n",
       "      <td>68764.000000</td>\n",
       "    </tr>\n",
       "    <tr>\n",
       "      <th>mean</th>\n",
       "      <td>1905.799007</td>\n",
       "      <td>16.183876</td>\n",
       "    </tr>\n",
       "    <tr>\n",
       "      <th>std</th>\n",
       "      <td>67.102099</td>\n",
       "      <td>7.592960</td>\n",
       "    </tr>\n",
       "    <tr>\n",
       "      <th>min</th>\n",
       "      <td>1743.000000</td>\n",
       "      <td>-14.350000</td>\n",
       "    </tr>\n",
       "    <tr>\n",
       "      <th>25%</th>\n",
       "      <td>1858.000000</td>\n",
       "      <td>9.750000</td>\n",
       "    </tr>\n",
       "    <tr>\n",
       "      <th>50%</th>\n",
       "      <td>1910.000000</td>\n",
       "      <td>16.140000</td>\n",
       "    </tr>\n",
       "    <tr>\n",
       "      <th>75%</th>\n",
       "      <td>1962.000000</td>\n",
       "      <td>23.762500</td>\n",
       "    </tr>\n",
       "    <tr>\n",
       "      <th>max</th>\n",
       "      <td>2013.000000</td>\n",
       "      <td>30.730000</td>\n",
       "    </tr>\n",
       "  </tbody>\n",
       "</table>\n",
       "</div>"
      ],
      "text/plain": [
       "               year      avg_temp\n",
       "count  71311.000000  68764.000000\n",
       "mean    1905.799007     16.183876\n",
       "std       67.102099      7.592960\n",
       "min     1743.000000    -14.350000\n",
       "25%     1858.000000      9.750000\n",
       "50%     1910.000000     16.140000\n",
       "75%     1962.000000     23.762500\n",
       "max     2013.000000     30.730000"
      ]
     },
     "execution_count": 27,
     "metadata": {},
     "output_type": "execute_result"
    }
   ],
   "source": [
    "avg_temp.describe()"
   ]
  },
  {
   "cell_type": "markdown",
   "id": "3ab65785",
   "metadata": {
    "papermill": {
     "duration": 0.081411,
     "end_time": "2022-04-18T20:52:26.057061",
     "exception": false,
     "start_time": "2022-04-18T20:52:25.975650",
     "status": "completed"
    },
    "tags": []
   },
   "source": [
    "So average temprature starts from 1743 and ends at 2013, with some empty rows that we have to drop."
   ]
  },
  {
   "cell_type": "code",
   "execution_count": 28,
   "id": "66a3e0d6",
   "metadata": {
    "execution": {
     "iopub.execute_input": "2022-04-18T20:52:26.218010Z",
     "iopub.status.busy": "2022-04-18T20:52:26.216838Z",
     "iopub.status.idle": "2022-04-18T20:52:26.259604Z",
     "shell.execute_reply": "2022-04-18T20:52:26.260192Z",
     "shell.execute_reply.started": "2022-04-18T18:51:34.977244Z"
    },
    "papermill": {
     "duration": 0.124829,
     "end_time": "2022-04-18T20:52:26.260402",
     "exception": false,
     "start_time": "2022-04-18T20:52:26.135573",
     "status": "completed"
    },
    "scrolled": true,
    "tags": []
   },
   "outputs": [
    {
     "data": {
      "text/html": [
       "<div>\n",
       "<style scoped>\n",
       "    .dataframe tbody tr th:only-of-type {\n",
       "        vertical-align: middle;\n",
       "    }\n",
       "\n",
       "    .dataframe tbody tr th {\n",
       "        vertical-align: top;\n",
       "    }\n",
       "\n",
       "    .dataframe thead th {\n",
       "        text-align: right;\n",
       "    }\n",
       "</style>\n",
       "<table border=\"1\" class=\"dataframe\">\n",
       "  <thead>\n",
       "    <tr style=\"text-align: right;\">\n",
       "      <th></th>\n",
       "      <th>Year</th>\n",
       "      <th>Area</th>\n",
       "      <th>avg_temp</th>\n",
       "    </tr>\n",
       "  </thead>\n",
       "  <tbody>\n",
       "    <tr>\n",
       "      <th>0</th>\n",
       "      <td>1849</td>\n",
       "      <td>Côte D'Ivoire</td>\n",
       "      <td>25.58</td>\n",
       "    </tr>\n",
       "    <tr>\n",
       "      <th>1</th>\n",
       "      <td>1850</td>\n",
       "      <td>Côte D'Ivoire</td>\n",
       "      <td>25.52</td>\n",
       "    </tr>\n",
       "    <tr>\n",
       "      <th>2</th>\n",
       "      <td>1851</td>\n",
       "      <td>Côte D'Ivoire</td>\n",
       "      <td>25.67</td>\n",
       "    </tr>\n",
       "    <tr>\n",
       "      <th>3</th>\n",
       "      <td>1852</td>\n",
       "      <td>Côte D'Ivoire</td>\n",
       "      <td>NaN</td>\n",
       "    </tr>\n",
       "    <tr>\n",
       "      <th>4</th>\n",
       "      <td>1853</td>\n",
       "      <td>Côte D'Ivoire</td>\n",
       "      <td>NaN</td>\n",
       "    </tr>\n",
       "  </tbody>\n",
       "</table>\n",
       "</div>"
      ],
      "text/plain": [
       "   Year           Area  avg_temp\n",
       "0  1849  Côte D'Ivoire     25.58\n",
       "1  1850  Côte D'Ivoire     25.52\n",
       "2  1851  Côte D'Ivoire     25.67\n",
       "3  1852  Côte D'Ivoire       NaN\n",
       "4  1853  Côte D'Ivoire       NaN"
      ]
     },
     "execution_count": 28,
     "metadata": {},
     "output_type": "execute_result"
    }
   ],
   "source": [
    "avg_temp = avg_temp.rename(index=str, columns={\"year\": \"Year\", \"country\":'Area'})\n",
    "avg_temp.head()"
   ]
  },
  {
   "cell_type": "code",
   "execution_count": 29,
   "id": "87c00f49",
   "metadata": {
    "execution": {
     "iopub.execute_input": "2022-04-18T20:52:26.425002Z",
     "iopub.status.busy": "2022-04-18T20:52:26.423814Z",
     "iopub.status.idle": "2022-04-18T20:52:26.462903Z",
     "shell.execute_reply": "2022-04-18T20:52:26.463551Z",
     "shell.execute_reply.started": "2022-04-18T18:51:37.796712Z"
    },
    "papermill": {
     "duration": 0.123433,
     "end_time": "2022-04-18T20:52:26.463757",
     "exception": false,
     "start_time": "2022-04-18T20:52:26.340324",
     "status": "completed"
    },
    "scrolled": true,
    "tags": []
   },
   "outputs": [
    {
     "data": {
      "text/html": [
       "<div>\n",
       "<style scoped>\n",
       "    .dataframe tbody tr th:only-of-type {\n",
       "        vertical-align: middle;\n",
       "    }\n",
       "\n",
       "    .dataframe tbody tr th {\n",
       "        vertical-align: top;\n",
       "    }\n",
       "\n",
       "    .dataframe thead th {\n",
       "        text-align: right;\n",
       "    }\n",
       "</style>\n",
       "<table border=\"1\" class=\"dataframe\">\n",
       "  <thead>\n",
       "    <tr style=\"text-align: right;\">\n",
       "      <th></th>\n",
       "      <th>Area</th>\n",
       "      <th>Item</th>\n",
       "      <th>Year</th>\n",
       "      <th>hg/ha_yield</th>\n",
       "      <th>average_rain_fall_mm_per_year</th>\n",
       "      <th>pesticides_tonnes</th>\n",
       "      <th>avg_temp</th>\n",
       "    </tr>\n",
       "  </thead>\n",
       "  <tbody>\n",
       "    <tr>\n",
       "      <th>0</th>\n",
       "      <td>Albania</td>\n",
       "      <td>Maize</td>\n",
       "      <td>1990</td>\n",
       "      <td>36613</td>\n",
       "      <td>1485.0</td>\n",
       "      <td>121.0</td>\n",
       "      <td>16.37</td>\n",
       "    </tr>\n",
       "    <tr>\n",
       "      <th>1</th>\n",
       "      <td>Albania</td>\n",
       "      <td>Potatoes</td>\n",
       "      <td>1990</td>\n",
       "      <td>66667</td>\n",
       "      <td>1485.0</td>\n",
       "      <td>121.0</td>\n",
       "      <td>16.37</td>\n",
       "    </tr>\n",
       "    <tr>\n",
       "      <th>2</th>\n",
       "      <td>Albania</td>\n",
       "      <td>Rice, paddy</td>\n",
       "      <td>1990</td>\n",
       "      <td>23333</td>\n",
       "      <td>1485.0</td>\n",
       "      <td>121.0</td>\n",
       "      <td>16.37</td>\n",
       "    </tr>\n",
       "    <tr>\n",
       "      <th>3</th>\n",
       "      <td>Albania</td>\n",
       "      <td>Sorghum</td>\n",
       "      <td>1990</td>\n",
       "      <td>12500</td>\n",
       "      <td>1485.0</td>\n",
       "      <td>121.0</td>\n",
       "      <td>16.37</td>\n",
       "    </tr>\n",
       "    <tr>\n",
       "      <th>4</th>\n",
       "      <td>Albania</td>\n",
       "      <td>Soybeans</td>\n",
       "      <td>1990</td>\n",
       "      <td>7000</td>\n",
       "      <td>1485.0</td>\n",
       "      <td>121.0</td>\n",
       "      <td>16.37</td>\n",
       "    </tr>\n",
       "  </tbody>\n",
       "</table>\n",
       "</div>"
      ],
      "text/plain": [
       "      Area         Item  Year  hg/ha_yield  average_rain_fall_mm_per_year  \\\n",
       "0  Albania        Maize  1990        36613                         1485.0   \n",
       "1  Albania     Potatoes  1990        66667                         1485.0   \n",
       "2  Albania  Rice, paddy  1990        23333                         1485.0   \n",
       "3  Albania      Sorghum  1990        12500                         1485.0   \n",
       "4  Albania     Soybeans  1990         7000                         1485.0   \n",
       "\n",
       "   pesticides_tonnes  avg_temp  \n",
       "0              121.0     16.37  \n",
       "1              121.0     16.37  \n",
       "2              121.0     16.37  \n",
       "3              121.0     16.37  \n",
       "4              121.0     16.37  "
      ]
     },
     "execution_count": 29,
     "metadata": {},
     "output_type": "execute_result"
    }
   ],
   "source": [
    "yield_df = pd.merge(yield_df,avg_temp, on=['Area','Year'])\n",
    "yield_df.head()"
   ]
  },
  {
   "cell_type": "code",
   "execution_count": 30,
   "id": "aed95268",
   "metadata": {
    "execution": {
     "iopub.execute_input": "2022-04-18T20:52:26.627599Z",
     "iopub.status.busy": "2022-04-18T20:52:26.626408Z",
     "iopub.status.idle": "2022-04-18T20:52:26.632674Z",
     "shell.execute_reply": "2022-04-18T20:52:26.633241Z",
     "shell.execute_reply.started": "2022-04-18T18:51:40.626638Z"
    },
    "papermill": {
     "duration": 0.089263,
     "end_time": "2022-04-18T20:52:26.633457",
     "exception": false,
     "start_time": "2022-04-18T20:52:26.544194",
     "status": "completed"
    },
    "tags": []
   },
   "outputs": [
    {
     "data": {
      "text/plain": [
       "(28242, 7)"
      ]
     },
     "execution_count": 30,
     "metadata": {},
     "output_type": "execute_result"
    }
   ],
   "source": [
    "yield_df.shape"
   ]
  },
  {
   "cell_type": "code",
   "execution_count": 31,
   "id": "5d4ad1e7",
   "metadata": {
    "execution": {
     "iopub.execute_input": "2022-04-18T20:52:26.800661Z",
     "iopub.status.busy": "2022-04-18T20:52:26.799353Z",
     "iopub.status.idle": "2022-04-18T20:52:26.832175Z",
     "shell.execute_reply": "2022-04-18T20:52:26.832774Z",
     "shell.execute_reply.started": "2022-04-18T18:51:43.100890Z"
    },
    "papermill": {
     "duration": 0.11969,
     "end_time": "2022-04-18T20:52:26.832979",
     "exception": false,
     "start_time": "2022-04-18T20:52:26.713289",
     "status": "completed"
    },
    "tags": []
   },
   "outputs": [
    {
     "data": {
      "text/html": [
       "<div>\n",
       "<style scoped>\n",
       "    .dataframe tbody tr th:only-of-type {\n",
       "        vertical-align: middle;\n",
       "    }\n",
       "\n",
       "    .dataframe tbody tr th {\n",
       "        vertical-align: top;\n",
       "    }\n",
       "\n",
       "    .dataframe thead th {\n",
       "        text-align: right;\n",
       "    }\n",
       "</style>\n",
       "<table border=\"1\" class=\"dataframe\">\n",
       "  <thead>\n",
       "    <tr style=\"text-align: right;\">\n",
       "      <th></th>\n",
       "      <th>Year</th>\n",
       "      <th>hg/ha_yield</th>\n",
       "      <th>average_rain_fall_mm_per_year</th>\n",
       "      <th>pesticides_tonnes</th>\n",
       "      <th>avg_temp</th>\n",
       "    </tr>\n",
       "  </thead>\n",
       "  <tbody>\n",
       "    <tr>\n",
       "      <th>count</th>\n",
       "      <td>28242.000000</td>\n",
       "      <td>28242.000000</td>\n",
       "      <td>28242.00000</td>\n",
       "      <td>28242.000000</td>\n",
       "      <td>28242.000000</td>\n",
       "    </tr>\n",
       "    <tr>\n",
       "      <th>mean</th>\n",
       "      <td>2001.544296</td>\n",
       "      <td>77053.332094</td>\n",
       "      <td>1149.05598</td>\n",
       "      <td>37076.909344</td>\n",
       "      <td>20.542627</td>\n",
       "    </tr>\n",
       "    <tr>\n",
       "      <th>std</th>\n",
       "      <td>7.051905</td>\n",
       "      <td>84956.612897</td>\n",
       "      <td>709.81215</td>\n",
       "      <td>59958.784665</td>\n",
       "      <td>6.312051</td>\n",
       "    </tr>\n",
       "    <tr>\n",
       "      <th>min</th>\n",
       "      <td>1990.000000</td>\n",
       "      <td>50.000000</td>\n",
       "      <td>51.00000</td>\n",
       "      <td>0.040000</td>\n",
       "      <td>1.300000</td>\n",
       "    </tr>\n",
       "    <tr>\n",
       "      <th>25%</th>\n",
       "      <td>1995.000000</td>\n",
       "      <td>19919.250000</td>\n",
       "      <td>593.00000</td>\n",
       "      <td>1702.000000</td>\n",
       "      <td>16.702500</td>\n",
       "    </tr>\n",
       "    <tr>\n",
       "      <th>50%</th>\n",
       "      <td>2001.000000</td>\n",
       "      <td>38295.000000</td>\n",
       "      <td>1083.00000</td>\n",
       "      <td>17529.440000</td>\n",
       "      <td>21.510000</td>\n",
       "    </tr>\n",
       "    <tr>\n",
       "      <th>75%</th>\n",
       "      <td>2008.000000</td>\n",
       "      <td>104676.750000</td>\n",
       "      <td>1668.00000</td>\n",
       "      <td>48687.880000</td>\n",
       "      <td>26.000000</td>\n",
       "    </tr>\n",
       "    <tr>\n",
       "      <th>max</th>\n",
       "      <td>2013.000000</td>\n",
       "      <td>501412.000000</td>\n",
       "      <td>3240.00000</td>\n",
       "      <td>367778.000000</td>\n",
       "      <td>30.650000</td>\n",
       "    </tr>\n",
       "  </tbody>\n",
       "</table>\n",
       "</div>"
      ],
      "text/plain": [
       "               Year    hg/ha_yield  average_rain_fall_mm_per_year  \\\n",
       "count  28242.000000   28242.000000                    28242.00000   \n",
       "mean    2001.544296   77053.332094                     1149.05598   \n",
       "std        7.051905   84956.612897                      709.81215   \n",
       "min     1990.000000      50.000000                       51.00000   \n",
       "25%     1995.000000   19919.250000                      593.00000   \n",
       "50%     2001.000000   38295.000000                     1083.00000   \n",
       "75%     2008.000000  104676.750000                     1668.00000   \n",
       "max     2013.000000  501412.000000                     3240.00000   \n",
       "\n",
       "       pesticides_tonnes      avg_temp  \n",
       "count       28242.000000  28242.000000  \n",
       "mean        37076.909344     20.542627  \n",
       "std         59958.784665      6.312051  \n",
       "min             0.040000      1.300000  \n",
       "25%          1702.000000     16.702500  \n",
       "50%         17529.440000     21.510000  \n",
       "75%         48687.880000     26.000000  \n",
       "max        367778.000000     30.650000  "
      ]
     },
     "execution_count": 31,
     "metadata": {},
     "output_type": "execute_result"
    }
   ],
   "source": [
    "yield_df.describe()"
   ]
  },
  {
   "cell_type": "code",
   "execution_count": 32,
   "id": "e1046c29",
   "metadata": {
    "execution": {
     "iopub.execute_input": "2022-04-18T20:52:27Z",
     "iopub.status.busy": "2022-04-18T20:52:26.998854Z",
     "iopub.status.idle": "2022-04-18T20:52:27.015476Z",
     "shell.execute_reply": "2022-04-18T20:52:27.016095Z",
     "shell.execute_reply.started": "2022-04-18T18:51:45.839099Z"
    },
    "papermill": {
     "duration": 0.103353,
     "end_time": "2022-04-18T20:52:27.016311",
     "exception": false,
     "start_time": "2022-04-18T20:52:26.912958",
     "status": "completed"
    },
    "scrolled": true,
    "tags": []
   },
   "outputs": [
    {
     "data": {
      "text/plain": [
       "Area                             0\n",
       "Item                             0\n",
       "Year                             0\n",
       "hg/ha_yield                      0\n",
       "average_rain_fall_mm_per_year    0\n",
       "pesticides_tonnes                0\n",
       "avg_temp                         0\n",
       "dtype: int64"
      ]
     },
     "execution_count": 32,
     "metadata": {},
     "output_type": "execute_result"
    }
   ],
   "source": [
    "yield_df.isnull().sum()"
   ]
  },
  {
   "cell_type": "markdown",
   "id": "78822b10",
   "metadata": {
    "papermill": {
     "duration": 0.079819,
     "end_time": "2022-04-18T20:52:27.182481",
     "exception": false,
     "start_time": "2022-04-18T20:52:27.102662",
     "status": "completed"
    },
    "tags": []
   },
   "source": [
    "Great, no empty values!"
   ]
  },
  {
   "cell_type": "markdown",
   "id": "9813dde6",
   "metadata": {
    "papermill": {
     "duration": 0.081354,
     "end_time": "2022-04-18T20:52:27.345845",
     "exception": false,
     "start_time": "2022-04-18T20:52:27.264491",
     "status": "completed"
    },
    "tags": []
   },
   "source": [
    "# Data Exploration\n",
    "\n"
   ]
  },
  {
   "cell_type": "markdown",
   "id": "4e9f9c89",
   "metadata": {
    "papermill": {
     "duration": 0.07918,
     "end_time": "2022-04-18T20:52:27.504321",
     "exception": false,
     "start_time": "2022-04-18T20:52:27.425141",
     "status": "completed"
    },
    "tags": []
   },
   "source": [
    "**yield_df** is the final obtained dataframe; "
   ]
  },
  {
   "cell_type": "code",
   "execution_count": 33,
   "id": "7a541afc",
   "metadata": {
    "execution": {
     "iopub.execute_input": "2022-04-18T20:52:27.673109Z",
     "iopub.status.busy": "2022-04-18T20:52:27.672289Z",
     "iopub.status.idle": "2022-04-18T20:52:27.689557Z",
     "shell.execute_reply": "2022-04-18T20:52:27.690093Z",
     "shell.execute_reply.started": "2022-04-18T18:51:54.133387Z"
    },
    "papermill": {
     "duration": 0.105945,
     "end_time": "2022-04-18T20:52:27.690293",
     "exception": false,
     "start_time": "2022-04-18T20:52:27.584348",
     "status": "completed"
    },
    "scrolled": true,
    "tags": []
   },
   "outputs": [
    {
     "data": {
      "text/html": [
       "<div>\n",
       "<style scoped>\n",
       "    .dataframe tbody tr th:only-of-type {\n",
       "        vertical-align: middle;\n",
       "    }\n",
       "\n",
       "    .dataframe tbody tr th {\n",
       "        vertical-align: top;\n",
       "    }\n",
       "\n",
       "    .dataframe thead th {\n",
       "        text-align: right;\n",
       "    }\n",
       "</style>\n",
       "<table border=\"1\" class=\"dataframe\">\n",
       "  <thead>\n",
       "    <tr style=\"text-align: right;\">\n",
       "      <th></th>\n",
       "      <th>Area</th>\n",
       "      <th>Year</th>\n",
       "      <th>hg/ha_yield</th>\n",
       "      <th>average_rain_fall_mm_per_year</th>\n",
       "      <th>pesticides_tonnes</th>\n",
       "      <th>avg_temp</th>\n",
       "    </tr>\n",
       "    <tr>\n",
       "      <th>Item</th>\n",
       "      <th></th>\n",
       "      <th></th>\n",
       "      <th></th>\n",
       "      <th></th>\n",
       "      <th></th>\n",
       "      <th></th>\n",
       "    </tr>\n",
       "  </thead>\n",
       "  <tbody>\n",
       "    <tr>\n",
       "      <th>Cassava</th>\n",
       "      <td>2045</td>\n",
       "      <td>2045</td>\n",
       "      <td>2045</td>\n",
       "      <td>2045</td>\n",
       "      <td>2045</td>\n",
       "      <td>2045</td>\n",
       "    </tr>\n",
       "    <tr>\n",
       "      <th>Maize</th>\n",
       "      <td>4121</td>\n",
       "      <td>4121</td>\n",
       "      <td>4121</td>\n",
       "      <td>4121</td>\n",
       "      <td>4121</td>\n",
       "      <td>4121</td>\n",
       "    </tr>\n",
       "    <tr>\n",
       "      <th>Plantains and others</th>\n",
       "      <td>556</td>\n",
       "      <td>556</td>\n",
       "      <td>556</td>\n",
       "      <td>556</td>\n",
       "      <td>556</td>\n",
       "      <td>556</td>\n",
       "    </tr>\n",
       "    <tr>\n",
       "      <th>Potatoes</th>\n",
       "      <td>4276</td>\n",
       "      <td>4276</td>\n",
       "      <td>4276</td>\n",
       "      <td>4276</td>\n",
       "      <td>4276</td>\n",
       "      <td>4276</td>\n",
       "    </tr>\n",
       "    <tr>\n",
       "      <th>Rice, paddy</th>\n",
       "      <td>3388</td>\n",
       "      <td>3388</td>\n",
       "      <td>3388</td>\n",
       "      <td>3388</td>\n",
       "      <td>3388</td>\n",
       "      <td>3388</td>\n",
       "    </tr>\n",
       "    <tr>\n",
       "      <th>Sorghum</th>\n",
       "      <td>3039</td>\n",
       "      <td>3039</td>\n",
       "      <td>3039</td>\n",
       "      <td>3039</td>\n",
       "      <td>3039</td>\n",
       "      <td>3039</td>\n",
       "    </tr>\n",
       "    <tr>\n",
       "      <th>Soybeans</th>\n",
       "      <td>3223</td>\n",
       "      <td>3223</td>\n",
       "      <td>3223</td>\n",
       "      <td>3223</td>\n",
       "      <td>3223</td>\n",
       "      <td>3223</td>\n",
       "    </tr>\n",
       "    <tr>\n",
       "      <th>Sweet potatoes</th>\n",
       "      <td>2890</td>\n",
       "      <td>2890</td>\n",
       "      <td>2890</td>\n",
       "      <td>2890</td>\n",
       "      <td>2890</td>\n",
       "      <td>2890</td>\n",
       "    </tr>\n",
       "    <tr>\n",
       "      <th>Wheat</th>\n",
       "      <td>3857</td>\n",
       "      <td>3857</td>\n",
       "      <td>3857</td>\n",
       "      <td>3857</td>\n",
       "      <td>3857</td>\n",
       "      <td>3857</td>\n",
       "    </tr>\n",
       "    <tr>\n",
       "      <th>Yams</th>\n",
       "      <td>847</td>\n",
       "      <td>847</td>\n",
       "      <td>847</td>\n",
       "      <td>847</td>\n",
       "      <td>847</td>\n",
       "      <td>847</td>\n",
       "    </tr>\n",
       "  </tbody>\n",
       "</table>\n",
       "</div>"
      ],
      "text/plain": [
       "                      Area  Year  hg/ha_yield  average_rain_fall_mm_per_year  \\\n",
       "Item                                                                           \n",
       "Cassava               2045  2045         2045                           2045   \n",
       "Maize                 4121  4121         4121                           4121   \n",
       "Plantains and others   556   556          556                            556   \n",
       "Potatoes              4276  4276         4276                           4276   \n",
       "Rice, paddy           3388  3388         3388                           3388   \n",
       "Sorghum               3039  3039         3039                           3039   \n",
       "Soybeans              3223  3223         3223                           3223   \n",
       "Sweet potatoes        2890  2890         2890                           2890   \n",
       "Wheat                 3857  3857         3857                           3857   \n",
       "Yams                   847   847          847                            847   \n",
       "\n",
       "                      pesticides_tonnes  avg_temp  \n",
       "Item                                               \n",
       "Cassava                            2045      2045  \n",
       "Maize                              4121      4121  \n",
       "Plantains and others                556       556  \n",
       "Potatoes                           4276      4276  \n",
       "Rice, paddy                        3388      3388  \n",
       "Sorghum                            3039      3039  \n",
       "Soybeans                           3223      3223  \n",
       "Sweet potatoes                     2890      2890  \n",
       "Wheat                              3857      3857  \n",
       "Yams                                847       847  "
      ]
     },
     "execution_count": 33,
     "metadata": {},
     "output_type": "execute_result"
    }
   ],
   "source": [
    "yield_df.groupby('Item').count()"
   ]
  },
  {
   "cell_type": "code",
   "execution_count": 34,
   "id": "9b6b7825",
   "metadata": {
    "execution": {
     "iopub.execute_input": "2022-04-18T20:52:27.886091Z",
     "iopub.status.busy": "2022-04-18T20:52:27.884951Z",
     "iopub.status.idle": "2022-04-18T20:52:27.912733Z",
     "shell.execute_reply": "2022-04-18T20:52:27.913284Z",
     "shell.execute_reply.started": "2022-04-18T18:51:57.495744Z"
    },
    "papermill": {
     "duration": 0.13439,
     "end_time": "2022-04-18T20:52:27.913473",
     "exception": false,
     "start_time": "2022-04-18T20:52:27.779083",
     "status": "completed"
    },
    "tags": []
   },
   "outputs": [
    {
     "data": {
      "text/html": [
       "<div>\n",
       "<style scoped>\n",
       "    .dataframe tbody tr th:only-of-type {\n",
       "        vertical-align: middle;\n",
       "    }\n",
       "\n",
       "    .dataframe tbody tr th {\n",
       "        vertical-align: top;\n",
       "    }\n",
       "\n",
       "    .dataframe thead th {\n",
       "        text-align: right;\n",
       "    }\n",
       "</style>\n",
       "<table border=\"1\" class=\"dataframe\">\n",
       "  <thead>\n",
       "    <tr style=\"text-align: right;\">\n",
       "      <th></th>\n",
       "      <th>Year</th>\n",
       "      <th>hg/ha_yield</th>\n",
       "      <th>average_rain_fall_mm_per_year</th>\n",
       "      <th>pesticides_tonnes</th>\n",
       "      <th>avg_temp</th>\n",
       "    </tr>\n",
       "  </thead>\n",
       "  <tbody>\n",
       "    <tr>\n",
       "      <th>count</th>\n",
       "      <td>28242.000000</td>\n",
       "      <td>28242.000000</td>\n",
       "      <td>28242.00000</td>\n",
       "      <td>28242.000000</td>\n",
       "      <td>28242.000000</td>\n",
       "    </tr>\n",
       "    <tr>\n",
       "      <th>mean</th>\n",
       "      <td>2001.544296</td>\n",
       "      <td>77053.332094</td>\n",
       "      <td>1149.05598</td>\n",
       "      <td>37076.909344</td>\n",
       "      <td>20.542627</td>\n",
       "    </tr>\n",
       "    <tr>\n",
       "      <th>std</th>\n",
       "      <td>7.051905</td>\n",
       "      <td>84956.612897</td>\n",
       "      <td>709.81215</td>\n",
       "      <td>59958.784665</td>\n",
       "      <td>6.312051</td>\n",
       "    </tr>\n",
       "    <tr>\n",
       "      <th>min</th>\n",
       "      <td>1990.000000</td>\n",
       "      <td>50.000000</td>\n",
       "      <td>51.00000</td>\n",
       "      <td>0.040000</td>\n",
       "      <td>1.300000</td>\n",
       "    </tr>\n",
       "    <tr>\n",
       "      <th>25%</th>\n",
       "      <td>1995.000000</td>\n",
       "      <td>19919.250000</td>\n",
       "      <td>593.00000</td>\n",
       "      <td>1702.000000</td>\n",
       "      <td>16.702500</td>\n",
       "    </tr>\n",
       "    <tr>\n",
       "      <th>50%</th>\n",
       "      <td>2001.000000</td>\n",
       "      <td>38295.000000</td>\n",
       "      <td>1083.00000</td>\n",
       "      <td>17529.440000</td>\n",
       "      <td>21.510000</td>\n",
       "    </tr>\n",
       "    <tr>\n",
       "      <th>75%</th>\n",
       "      <td>2008.000000</td>\n",
       "      <td>104676.750000</td>\n",
       "      <td>1668.00000</td>\n",
       "      <td>48687.880000</td>\n",
       "      <td>26.000000</td>\n",
       "    </tr>\n",
       "    <tr>\n",
       "      <th>max</th>\n",
       "      <td>2013.000000</td>\n",
       "      <td>501412.000000</td>\n",
       "      <td>3240.00000</td>\n",
       "      <td>367778.000000</td>\n",
       "      <td>30.650000</td>\n",
       "    </tr>\n",
       "  </tbody>\n",
       "</table>\n",
       "</div>"
      ],
      "text/plain": [
       "               Year    hg/ha_yield  average_rain_fall_mm_per_year  \\\n",
       "count  28242.000000   28242.000000                    28242.00000   \n",
       "mean    2001.544296   77053.332094                     1149.05598   \n",
       "std        7.051905   84956.612897                      709.81215   \n",
       "min     1990.000000      50.000000                       51.00000   \n",
       "25%     1995.000000   19919.250000                      593.00000   \n",
       "50%     2001.000000   38295.000000                     1083.00000   \n",
       "75%     2008.000000  104676.750000                     1668.00000   \n",
       "max     2013.000000  501412.000000                     3240.00000   \n",
       "\n",
       "       pesticides_tonnes      avg_temp  \n",
       "count       28242.000000  28242.000000  \n",
       "mean        37076.909344     20.542627  \n",
       "std         59958.784665      6.312051  \n",
       "min             0.040000      1.300000  \n",
       "25%          1702.000000     16.702500  \n",
       "50%         17529.440000     21.510000  \n",
       "75%         48687.880000     26.000000  \n",
       "max        367778.000000     30.650000  "
      ]
     },
     "execution_count": 34,
     "metadata": {},
     "output_type": "execute_result"
    }
   ],
   "source": [
    "yield_df.describe()"
   ]
  },
  {
   "cell_type": "markdown",
   "id": "4b6cade8",
   "metadata": {
    "papermill": {
     "duration": 0.083465,
     "end_time": "2022-04-18T20:52:28.079369",
     "exception": false,
     "start_time": "2022-04-18T20:52:27.995904",
     "status": "completed"
    },
    "tags": []
   },
   "source": [
    "It can be noticed the high variance in the values for each columns, later on I'll account for that will scaling. "
   ]
  },
  {
   "cell_type": "code",
   "execution_count": 35,
   "id": "f935edf1",
   "metadata": {
    "execution": {
     "iopub.execute_input": "2022-04-18T20:52:28.251635Z",
     "iopub.status.busy": "2022-04-18T20:52:28.250728Z",
     "iopub.status.idle": "2022-04-18T20:52:28.255970Z",
     "shell.execute_reply": "2022-04-18T20:52:28.256629Z",
     "shell.execute_reply.started": "2022-04-18T18:52:00.672127Z"
    },
    "papermill": {
     "duration": 0.095801,
     "end_time": "2022-04-18T20:52:28.256835",
     "exception": false,
     "start_time": "2022-04-18T20:52:28.161034",
     "status": "completed"
    },
    "tags": []
   },
   "outputs": [
    {
     "data": {
      "text/plain": [
       "101"
      ]
     },
     "execution_count": 35,
     "metadata": {},
     "output_type": "execute_result"
    }
   ],
   "source": [
    "yield_df['Area'].nunique()"
   ]
  },
  {
   "cell_type": "markdown",
   "id": "28d97233",
   "metadata": {
    "papermill": {
     "duration": 0.080941,
     "end_time": "2022-04-18T20:52:28.423509",
     "exception": false,
     "start_time": "2022-04-18T20:52:28.342568",
     "status": "completed"
    },
    "tags": []
   },
   "source": [
    "The dataframe has 101 Countries, ordering these by 10 the highest yield production: "
   ]
  },
  {
   "cell_type": "code",
   "execution_count": 36,
   "id": "149d8e0f",
   "metadata": {
    "execution": {
     "iopub.execute_input": "2022-04-18T20:52:28.590934Z",
     "iopub.status.busy": "2022-04-18T20:52:28.589860Z",
     "iopub.status.idle": "2022-04-18T20:52:28.604865Z",
     "shell.execute_reply": "2022-04-18T20:52:28.605386Z",
     "shell.execute_reply.started": "2022-04-18T18:52:02.511240Z"
    },
    "papermill": {
     "duration": 0.100983,
     "end_time": "2022-04-18T20:52:28.605636",
     "exception": false,
     "start_time": "2022-04-18T20:52:28.504653",
     "status": "completed"
    },
    "scrolled": true,
    "tags": []
   },
   "outputs": [
    {
     "data": {
      "text/plain": [
       "Area\n",
       "India             327420324\n",
       "Brazil            167550306\n",
       "Mexico            130788528\n",
       "Japan             124470912\n",
       "Australia         109111062\n",
       "Pakistan           73897434\n",
       "Indonesia          69193506\n",
       "United Kingdom     55419990\n",
       "Turkey             52263950\n",
       "Spain              46773540\n",
       "Name: hg/ha_yield, dtype: int64"
      ]
     },
     "execution_count": 36,
     "metadata": {},
     "output_type": "execute_result"
    }
   ],
   "source": [
    "yield_df.groupby(['Area'],sort=True)['hg/ha_yield'].sum().nlargest(10)"
   ]
  },
  {
   "cell_type": "markdown",
   "id": "cf55c82c",
   "metadata": {
    "papermill": {
     "duration": 0.083144,
     "end_time": "2022-04-18T20:52:28.771174",
     "exception": false,
     "start_time": "2022-04-18T20:52:28.688030",
     "status": "completed"
    },
    "tags": []
   },
   "source": [
    "India has the highest yield production in the dataset. Inclusing items in the groupby:"
   ]
  },
  {
   "cell_type": "code",
   "execution_count": 37,
   "id": "436ba98b",
   "metadata": {
    "execution": {
     "iopub.execute_input": "2022-04-18T20:52:28.959402Z",
     "iopub.status.busy": "2022-04-18T20:52:28.958702Z",
     "iopub.status.idle": "2022-04-18T20:52:28.977377Z",
     "shell.execute_reply": "2022-04-18T20:52:28.977955Z",
     "shell.execute_reply.started": "2022-04-18T18:52:04.651940Z"
    },
    "papermill": {
     "duration": 0.124225,
     "end_time": "2022-04-18T20:52:28.978154",
     "exception": false,
     "start_time": "2022-04-18T20:52:28.853929",
     "status": "completed"
    },
    "scrolled": true,
    "tags": []
   },
   "outputs": [
    {
     "data": {
      "text/plain": [
       "Item            Area          \n",
       "Cassava         India             142810624\n",
       "Potatoes        India              92122514\n",
       "                Brazil             49602168\n",
       "                United Kingdom     46705145\n",
       "                Australia          45670386\n",
       "Sweet potatoes  India              44439538\n",
       "Potatoes        Japan              42918726\n",
       "                Mexico             42053880\n",
       "Sweet potatoes  Mexico             35808592\n",
       "                Australia          35550294\n",
       "Name: hg/ha_yield, dtype: int64"
      ]
     },
     "execution_count": 37,
     "metadata": {},
     "output_type": "execute_result"
    }
   ],
   "source": [
    "yield_df.groupby(['Item','Area'],sort=True)['hg/ha_yield'].sum().nlargest(10)"
   ]
  },
  {
   "cell_type": "markdown",
   "id": "b6db107e",
   "metadata": {
    "papermill": {
     "duration": 0.082567,
     "end_time": "2022-04-18T20:52:29.144045",
     "exception": false,
     "start_time": "2022-04-18T20:52:29.061478",
     "status": "completed"
    },
    "tags": []
   },
   "source": [
    "India is the highest for production of cassava and potatoes. Potatoes seems to be the dominated crop in the dataset, being the highest in 4 countries. "
   ]
  },
  {
   "cell_type": "markdown",
   "id": "4948e8e1",
   "metadata": {
    "papermill": {
     "duration": 0.082435,
     "end_time": "2022-04-18T20:52:29.310775",
     "exception": false,
     "start_time": "2022-04-18T20:52:29.228340",
     "status": "completed"
    },
    "tags": []
   },
   "source": [
    "The final dataframe starts from 1990 and ends in 2013, that's 23 years worth of data for 101 countries. "
   ]
  },
  {
   "cell_type": "markdown",
   "id": "4bf1a5a8",
   "metadata": {
    "papermill": {
     "duration": 0.083965,
     "end_time": "2022-04-18T20:52:29.480385",
     "exception": false,
     "start_time": "2022-04-18T20:52:29.396420",
     "status": "completed"
    },
    "tags": []
   },
   "source": [
    "Now, exploring the relationships between the colunms of the dataframe, a good way to quickly check correlations among columns is by visualizing the correlation matrix as a heatmap."
   ]
  },
  {
   "cell_type": "code",
   "execution_count": 38,
   "id": "544ac447",
   "metadata": {
    "execution": {
     "iopub.execute_input": "2022-04-18T20:52:29.652247Z",
     "iopub.status.busy": "2022-04-18T20:52:29.651417Z",
     "iopub.status.idle": "2022-04-18T20:52:30.924415Z",
     "shell.execute_reply": "2022-04-18T20:52:30.923798Z",
     "shell.execute_reply.started": "2022-04-18T18:52:06.987011Z"
    },
    "papermill": {
     "duration": 1.361535,
     "end_time": "2022-04-18T20:52:30.924606",
     "exception": false,
     "start_time": "2022-04-18T20:52:29.563071",
     "status": "completed"
    },
    "tags": []
   },
   "outputs": [],
   "source": [
    "import sklearn\n",
    "import seaborn as sns\n",
    "import matplotlib.pyplot as plt"
   ]
  },
  {
   "cell_type": "code",
   "execution_count": 39,
   "id": "2acc41ab",
   "metadata": {
    "execution": {
     "iopub.execute_input": "2022-04-18T20:52:31.108478Z",
     "iopub.status.busy": "2022-04-18T20:52:31.107715Z",
     "iopub.status.idle": "2022-04-18T20:52:31.517392Z",
     "shell.execute_reply": "2022-04-18T20:52:31.517977Z",
     "shell.execute_reply.started": "2022-04-18T18:52:09.553061Z"
    },
    "papermill": {
     "duration": 0.507317,
     "end_time": "2022-04-18T20:52:31.518174",
     "exception": false,
     "start_time": "2022-04-18T20:52:31.010857",
     "status": "completed"
    },
    "tags": []
   },
   "outputs": [
    {
     "data": {
      "image/png": "[encoded data removed]",
      "text/plain": [
       "<Figure size 792x648 with 2 Axes>"
      ]
     },
     "metadata": {
      "needs_background": "light"
     },
     "output_type": "display_data"
    }
   ],
   "source": [
    "correlation_data=yield_df.select_dtypes(include=[np.number]).corr()\n",
    "\n",
    "mask = np.zeros_like(correlation_data, dtype=np.bool)\n",
    "mask[np.triu_indices_from(mask)] = True\n",
    "\n",
    "f, ax = plt.subplots(figsize=(11, 9))\n",
    "\n",
    "# Generate a custom diverging colormap\n",
    "cmap = sns.palette=\"vlag\"\n",
    "\n",
    "# Draw the heatmap with the mask and correct aspect ratio\n",
    "sns.heatmap(correlation_data, mask=mask, cmap=cmap, vmax=.3, center=0,\n",
    "            square=True, linewidths=.5, cbar_kws={\"shrink\": .5});"
   ]
  },
  {
   "cell_type": "markdown",
   "id": "291f0e6c",
   "metadata": {
    "papermill": {
     "duration": 0.082366,
     "end_time": "2022-04-18T20:52:31.683664",
     "exception": false,
     "start_time": "2022-04-18T20:52:31.601298",
     "status": "completed"
    },
    "tags": []
   },
   "source": [
    "It can be seen from the above correlation map that there is no correlation between any of the colmuns in the dataframe. "
   ]
  },
  {
   "cell_type": "markdown",
   "id": "1c8cbe7f",
   "metadata": {
    "papermill": {
     "duration": 0.082336,
     "end_time": "2022-04-18T20:52:31.849676",
     "exception": false,
     "start_time": "2022-04-18T20:52:31.767340",
     "status": "completed"
    },
    "tags": []
   },
   "source": [
    "# Data Preprocessing"
   ]
  },
  {
   "cell_type": "markdown",
   "id": "25fb03b5",
   "metadata": {
    "papermill": {
     "duration": 0.083396,
     "end_time": "2022-04-18T20:52:32.017556",
     "exception": false,
     "start_time": "2022-04-18T20:52:31.934160",
     "status": "completed"
    },
    "tags": []
   },
   "source": [
    "Data Preprocessing is a technique that is used to convert the raw data into a clean data set. In other words, whenever the data is gathered from different sources it is collected in raw format which is not feasible for the analysis.  \n",
    "\n",
    "\n"
   ]
  },
  {
   "cell_type": "code",
   "execution_count": 40,
   "id": "dc2bd381",
   "metadata": {
    "execution": {
     "iopub.execute_input": "2022-04-18T20:52:32.188460Z",
     "iopub.status.busy": "2022-04-18T20:52:32.187290Z",
     "iopub.status.idle": "2022-04-18T20:52:32.202042Z",
     "shell.execute_reply": "2022-04-18T20:52:32.202577Z",
     "shell.execute_reply.started": "2022-04-18T18:52:15.524358Z"
    },
    "papermill": {
     "duration": 0.101925,
     "end_time": "2022-04-18T20:52:32.202780",
     "exception": false,
     "start_time": "2022-04-18T20:52:32.100855",
     "status": "completed"
    },
    "scrolled": true,
    "tags": []
   },
   "outputs": [
    {
     "data": {
      "text/html": [
       "<div>\n",
       "<style scoped>\n",
       "    .dataframe tbody tr th:only-of-type {\n",
       "        vertical-align: middle;\n",
       "    }\n",
       "\n",
       "    .dataframe tbody tr th {\n",
       "        vertical-align: top;\n",
       "    }\n",
       "\n",
       "    .dataframe thead th {\n",
       "        text-align: right;\n",
       "    }\n",
       "</style>\n",
       "<table border=\"1\" class=\"dataframe\">\n",
       "  <thead>\n",
       "    <tr style=\"text-align: right;\">\n",
       "      <th></th>\n",
       "      <th>Area</th>\n",
       "      <th>Item</th>\n",
       "      <th>Year</th>\n",
       "      <th>hg/ha_yield</th>\n",
       "      <th>average_rain_fall_mm_per_year</th>\n",
       "      <th>pesticides_tonnes</th>\n",
       "      <th>avg_temp</th>\n",
       "    </tr>\n",
       "  </thead>\n",
       "  <tbody>\n",
       "    <tr>\n",
       "      <th>0</th>\n",
       "      <td>Albania</td>\n",
       "      <td>Maize</td>\n",
       "      <td>1990</td>\n",
       "      <td>36613</td>\n",
       "      <td>1485.0</td>\n",
       "      <td>121.0</td>\n",
       "      <td>16.37</td>\n",
       "    </tr>\n",
       "    <tr>\n",
       "      <th>1</th>\n",
       "      <td>Albania</td>\n",
       "      <td>Potatoes</td>\n",
       "      <td>1990</td>\n",
       "      <td>66667</td>\n",
       "      <td>1485.0</td>\n",
       "      <td>121.0</td>\n",
       "      <td>16.37</td>\n",
       "    </tr>\n",
       "    <tr>\n",
       "      <th>2</th>\n",
       "      <td>Albania</td>\n",
       "      <td>Rice, paddy</td>\n",
       "      <td>1990</td>\n",
       "      <td>23333</td>\n",
       "      <td>1485.0</td>\n",
       "      <td>121.0</td>\n",
       "      <td>16.37</td>\n",
       "    </tr>\n",
       "    <tr>\n",
       "      <th>3</th>\n",
       "      <td>Albania</td>\n",
       "      <td>Sorghum</td>\n",
       "      <td>1990</td>\n",
       "      <td>12500</td>\n",
       "      <td>1485.0</td>\n",
       "      <td>121.0</td>\n",
       "      <td>16.37</td>\n",
       "    </tr>\n",
       "    <tr>\n",
       "      <th>4</th>\n",
       "      <td>Albania</td>\n",
       "      <td>Soybeans</td>\n",
       "      <td>1990</td>\n",
       "      <td>7000</td>\n",
       "      <td>1485.0</td>\n",
       "      <td>121.0</td>\n",
       "      <td>16.37</td>\n",
       "    </tr>\n",
       "  </tbody>\n",
       "</table>\n",
       "</div>"
      ],
      "text/plain": [
       "      Area         Item  Year  hg/ha_yield  average_rain_fall_mm_per_year  \\\n",
       "0  Albania        Maize  1990        36613                         1485.0   \n",
       "1  Albania     Potatoes  1990        66667                         1485.0   \n",
       "2  Albania  Rice, paddy  1990        23333                         1485.0   \n",
       "3  Albania      Sorghum  1990        12500                         1485.0   \n",
       "4  Albania     Soybeans  1990         7000                         1485.0   \n",
       "\n",
       "   pesticides_tonnes  avg_temp  \n",
       "0              121.0     16.37  \n",
       "1              121.0     16.37  \n",
       "2              121.0     16.37  \n",
       "3              121.0     16.37  \n",
       "4              121.0     16.37  "
      ]
     },
     "execution_count": 40,
     "metadata": {},
     "output_type": "execute_result"
    }
   ],
   "source": [
    "yield_df.head()"
   ]
  },
  {
   "cell_type": "markdown",
   "id": "92b6486b",
   "metadata": {
    "papermill": {
     "duration": 0.086624,
     "end_time": "2022-04-18T20:52:32.374626",
     "exception": false,
     "start_time": "2022-04-18T20:52:32.288002",
     "status": "completed"
    },
    "tags": []
   },
   "source": [
    "### Encoding Categorical Variables:\n",
    "There are two categorical columns in the dataframe, categorical data are variables that contain label values rather than numeric values. The number of possible values is often limited to a fixed set, like in this case, items and countries values.\n",
    "Many machine learning algorithms cannot operate on label data directly. They require all input variables and output variables to be numeric.\n",
    "\n",
    "This means that categorical data must be converted to a numerical form. One hot encoding is a process by which categorical variables are converted into a form that could be provided to ML algorithms to do a better job in prediction. For that purpose, One-Hot Encoding will be used to convert these two columns to one-hot numeric array.\n",
    "\n",
    "The categorical value represents the numerical value of the entry in the dataset. This encoding will create a binary column for each category and returns a matrix with the results. \n"
   ]
  },
  {
   "cell_type": "code",
   "execution_count": 41,
   "id": "f1897961",
   "metadata": {
    "execution": {
     "iopub.execute_input": "2022-04-18T20:52:32.550281Z",
     "iopub.status.busy": "2022-04-18T20:52:32.548686Z",
     "iopub.status.idle": "2022-04-18T20:52:32.581870Z",
     "shell.execute_reply": "2022-04-18T20:52:32.582462Z"
    },
    "papermill": {
     "duration": 0.122906,
     "end_time": "2022-04-18T20:52:32.582655",
     "exception": false,
     "start_time": "2022-04-18T20:52:32.459749",
     "status": "completed"
    },
    "tags": []
   },
   "outputs": [],
   "source": [
    "from sklearn.preprocessing import OneHotEncoder"
   ]
  },
  {
   "cell_type": "code",
   "execution_count": 42,
   "id": "04fe50aa",
   "metadata": {
    "execution": {
     "iopub.execute_input": "2022-04-18T20:52:32.755267Z",
     "iopub.status.busy": "2022-04-18T20:52:32.754572Z",
     "iopub.status.idle": "2022-04-18T20:52:32.813323Z",
     "shell.execute_reply": "2022-04-18T20:52:32.813872Z",
     "shell.execute_reply.started": "2022-04-18T18:52:20.824016Z"
    },
    "papermill": {
     "duration": 0.146792,
     "end_time": "2022-04-18T20:52:32.814060",
     "exception": false,
     "start_time": "2022-04-18T20:52:32.667268",
     "status": "completed"
    },
    "tags": []
   },
   "outputs": [
    {
     "data": {
      "text/html": [
       "<div>\n",
       "<style scoped>\n",
       "    .dataframe tbody tr th:only-of-type {\n",
       "        vertical-align: middle;\n",
       "    }\n",
       "\n",
       "    .dataframe tbody tr th {\n",
       "        vertical-align: top;\n",
       "    }\n",
       "\n",
       "    .dataframe thead th {\n",
       "        text-align: right;\n",
       "    }\n",
       "</style>\n",
       "<table border=\"1\" class=\"dataframe\">\n",
       "  <thead>\n",
       "    <tr style=\"text-align: right;\">\n",
       "      <th></th>\n",
       "      <th>Year</th>\n",
       "      <th>average_rain_fall_mm_per_year</th>\n",
       "      <th>pesticides_tonnes</th>\n",
       "      <th>avg_temp</th>\n",
       "      <th>Country_Albania</th>\n",
       "      <th>Country_Algeria</th>\n",
       "      <th>Country_Angola</th>\n",
       "      <th>Country_Argentina</th>\n",
       "      <th>Country_Armenia</th>\n",
       "      <th>Country_Australia</th>\n",
       "      <th>...</th>\n",
       "      <th>Item_Cassava</th>\n",
       "      <th>Item_Maize</th>\n",
       "      <th>Item_Plantains and others</th>\n",
       "      <th>Item_Potatoes</th>\n",
       "      <th>Item_Rice, paddy</th>\n",
       "      <th>Item_Sorghum</th>\n",
       "      <th>Item_Soybeans</th>\n",
       "      <th>Item_Sweet potatoes</th>\n",
       "      <th>Item_Wheat</th>\n",
       "      <th>Item_Yams</th>\n",
       "    </tr>\n",
       "  </thead>\n",
       "  <tbody>\n",
       "    <tr>\n",
       "      <th>0</th>\n",
       "      <td>1990</td>\n",
       "      <td>1485.0</td>\n",
       "      <td>121.0</td>\n",
       "      <td>16.37</td>\n",
       "      <td>1</td>\n",
       "      <td>0</td>\n",
       "      <td>0</td>\n",
       "      <td>0</td>\n",
       "      <td>0</td>\n",
       "      <td>0</td>\n",
       "      <td>...</td>\n",
       "      <td>0</td>\n",
       "      <td>1</td>\n",
       "      <td>0</td>\n",
       "      <td>0</td>\n",
       "      <td>0</td>\n",
       "      <td>0</td>\n",
       "      <td>0</td>\n",
       "      <td>0</td>\n",
       "      <td>0</td>\n",
       "      <td>0</td>\n",
       "    </tr>\n",
       "    <tr>\n",
       "      <th>1</th>\n",
       "      <td>1990</td>\n",
       "      <td>1485.0</td>\n",
       "      <td>121.0</td>\n",
       "      <td>16.37</td>\n",
       "      <td>1</td>\n",
       "      <td>0</td>\n",
       "      <td>0</td>\n",
       "      <td>0</td>\n",
       "      <td>0</td>\n",
       "      <td>0</td>\n",
       "      <td>...</td>\n",
       "      <td>0</td>\n",
       "      <td>0</td>\n",
       "      <td>0</td>\n",
       "      <td>1</td>\n",
       "      <td>0</td>\n",
       "      <td>0</td>\n",
       "      <td>0</td>\n",
       "      <td>0</td>\n",
       "      <td>0</td>\n",
       "      <td>0</td>\n",
       "    </tr>\n",
       "    <tr>\n",
       "      <th>2</th>\n",
       "      <td>1990</td>\n",
       "      <td>1485.0</td>\n",
       "      <td>121.0</td>\n",
       "      <td>16.37</td>\n",
       "      <td>1</td>\n",
       "      <td>0</td>\n",
       "      <td>0</td>\n",
       "      <td>0</td>\n",
       "      <td>0</td>\n",
       "      <td>0</td>\n",
       "      <td>...</td>\n",
       "      <td>0</td>\n",
       "      <td>0</td>\n",
       "      <td>0</td>\n",
       "      <td>0</td>\n",
       "      <td>1</td>\n",
       "      <td>0</td>\n",
       "      <td>0</td>\n",
       "      <td>0</td>\n",
       "      <td>0</td>\n",
       "      <td>0</td>\n",
       "    </tr>\n",
       "    <tr>\n",
       "      <th>3</th>\n",
       "      <td>1990</td>\n",
       "      <td>1485.0</td>\n",
       "      <td>121.0</td>\n",
       "      <td>16.37</td>\n",
       "      <td>1</td>\n",
       "      <td>0</td>\n",
       "      <td>0</td>\n",
       "      <td>0</td>\n",
       "      <td>0</td>\n",
       "      <td>0</td>\n",
       "      <td>...</td>\n",
       "      <td>0</td>\n",
       "      <td>0</td>\n",
       "      <td>0</td>\n",
       "      <td>0</td>\n",
       "      <td>0</td>\n",
       "      <td>1</td>\n",
       "      <td>0</td>\n",
       "      <td>0</td>\n",
       "      <td>0</td>\n",
       "      <td>0</td>\n",
       "    </tr>\n",
       "    <tr>\n",
       "      <th>4</th>\n",
       "      <td>1990</td>\n",
       "      <td>1485.0</td>\n",
       "      <td>121.0</td>\n",
       "      <td>16.37</td>\n",
       "      <td>1</td>\n",
       "      <td>0</td>\n",
       "      <td>0</td>\n",
       "      <td>0</td>\n",
       "      <td>0</td>\n",
       "      <td>0</td>\n",
       "      <td>...</td>\n",
       "      <td>0</td>\n",
       "      <td>0</td>\n",
       "      <td>0</td>\n",
       "      <td>0</td>\n",
       "      <td>0</td>\n",
       "      <td>0</td>\n",
       "      <td>1</td>\n",
       "      <td>0</td>\n",
       "      <td>0</td>\n",
       "      <td>0</td>\n",
       "    </tr>\n",
       "  </tbody>\n",
       "</table>\n",
       "<p>5 rows × 115 columns</p>\n",
       "</div>"
      ],
      "text/plain": [
       "   Year  average_rain_fall_mm_per_year  pesticides_tonnes  avg_temp  \\\n",
       "0  1990                         1485.0              121.0     16.37   \n",
       "1  1990                         1485.0              121.0     16.37   \n",
       "2  1990                         1485.0              121.0     16.37   \n",
       "3  1990                         1485.0              121.0     16.37   \n",
       "4  1990                         1485.0              121.0     16.37   \n",
       "\n",
       "   Country_Albania  Country_Algeria  Country_Angola  Country_Argentina  \\\n",
       "0                1                0               0                  0   \n",
       "1                1                0               0                  0   \n",
       "2                1                0               0                  0   \n",
       "3                1                0               0                  0   \n",
       "4                1                0               0                  0   \n",
       "\n",
       "   Country_Armenia  Country_Australia  ...  Item_Cassava  Item_Maize  \\\n",
       "0                0                  0  ...             0           1   \n",
       "1                0                  0  ...             0           0   \n",
       "2                0                  0  ...             0           0   \n",
       "3                0                  0  ...             0           0   \n",
       "4                0                  0  ...             0           0   \n",
       "\n",
       "   Item_Plantains and others  Item_Potatoes  Item_Rice, paddy  Item_Sorghum  \\\n",
       "0                          0              0                 0             0   \n",
       "1                          0              1                 0             0   \n",
       "2                          0              0                 1             0   \n",
       "3                          0              0                 0             1   \n",
       "4                          0              0                 0             0   \n",
       "\n",
       "   Item_Soybeans  Item_Sweet potatoes  Item_Wheat  Item_Yams  \n",
       "0              0                    0           0          0  \n",
       "1              0                    0           0          0  \n",
       "2              0                    0           0          0  \n",
       "3              0                    0           0          0  \n",
       "4              1                    0           0          0  \n",
       "\n",
       "[5 rows x 115 columns]"
      ]
     },
     "execution_count": 42,
     "metadata": {},
     "output_type": "execute_result"
    }
   ],
   "source": [
    "yield_df_onehot = pd.get_dummies(yield_df, columns=['Area',\"Item\"], prefix = ['Country',\"Item\"])\n",
    "features=yield_df_onehot.loc[:, yield_df_onehot.columns != 'hg/ha_yield']\n",
    "label=yield_df['hg/ha_yield']\n",
    "features.head()"
   ]
  },
  {
   "cell_type": "code",
   "execution_count": 43,
   "id": "a863ab7d",
   "metadata": {
    "execution": {
     "iopub.execute_input": "2022-04-18T20:52:32.995801Z",
     "iopub.status.busy": "2022-04-18T20:52:32.995038Z",
     "iopub.status.idle": "2022-04-18T20:52:33.004886Z",
     "shell.execute_reply": "2022-04-18T20:52:33.005449Z",
     "shell.execute_reply.started": "2022-04-18T18:52:23.265413Z"
    },
    "papermill": {
     "duration": 0.10278,
     "end_time": "2022-04-18T20:52:33.005644",
     "exception": false,
     "start_time": "2022-04-18T20:52:32.902864",
     "status": "completed"
    },
    "tags": []
   },
   "outputs": [],
   "source": [
    "features = features.drop(['Year'], axis=1)"
   ]
  },
  {
   "cell_type": "code",
   "execution_count": 44,
   "id": "f0358acd",
   "metadata": {
    "execution": {
     "iopub.execute_input": "2022-04-18T20:52:33.180012Z",
     "iopub.status.busy": "2022-04-18T20:52:33.179311Z",
     "iopub.status.idle": "2022-04-18T20:52:33.194528Z",
     "shell.execute_reply": "2022-04-18T20:52:33.195117Z",
     "shell.execute_reply.started": "2022-04-18T18:52:25.110487Z"
    },
    "papermill": {
     "duration": 0.104689,
     "end_time": "2022-04-18T20:52:33.195300",
     "exception": false,
     "start_time": "2022-04-18T20:52:33.090611",
     "status": "completed"
    },
    "scrolled": true,
    "tags": []
   },
   "outputs": [
    {
     "name": "stdout",
     "output_type": "stream",
     "text": [
      "<class 'pandas.core.frame.DataFrame'>\n",
      "Int64Index: 28242 entries, 0 to 28241\n",
      "Columns: 114 entries, average_rain_fall_mm_per_year to Item_Yams\n",
      "dtypes: float64(3), uint8(111)\n",
      "memory usage: 3.9 MB\n"
     ]
    }
   ],
   "source": [
    "features.info()"
   ]
  },
  {
   "cell_type": "code",
   "execution_count": 45,
   "id": "cf08b5a0",
   "metadata": {
    "execution": {
     "iopub.execute_input": "2022-04-18T20:52:33.374951Z",
     "iopub.status.busy": "2022-04-18T20:52:33.374259Z",
     "iopub.status.idle": "2022-04-18T20:52:33.393384Z",
     "shell.execute_reply": "2022-04-18T20:52:33.393979Z",
     "shell.execute_reply.started": "2022-04-18T18:52:27.125696Z"
    },
    "papermill": {
     "duration": 0.109622,
     "end_time": "2022-04-18T20:52:33.394163",
     "exception": false,
     "start_time": "2022-04-18T20:52:33.284541",
     "status": "completed"
    },
    "scrolled": true,
    "tags": []
   },
   "outputs": [
    {
     "data": {
      "text/html": [
       "<div>\n",
       "<style scoped>\n",
       "    .dataframe tbody tr th:only-of-type {\n",
       "        vertical-align: middle;\n",
       "    }\n",
       "\n",
       "    .dataframe tbody tr th {\n",
       "        vertical-align: top;\n",
       "    }\n",
       "\n",
       "    .dataframe thead th {\n",
       "        text-align: right;\n",
       "    }\n",
       "</style>\n",
       "<table border=\"1\" class=\"dataframe\">\n",
       "  <thead>\n",
       "    <tr style=\"text-align: right;\">\n",
       "      <th></th>\n",
       "      <th>average_rain_fall_mm_per_year</th>\n",
       "      <th>pesticides_tonnes</th>\n",
       "      <th>avg_temp</th>\n",
       "      <th>Country_Albania</th>\n",
       "      <th>Country_Algeria</th>\n",
       "      <th>Country_Angola</th>\n",
       "      <th>Country_Argentina</th>\n",
       "      <th>Country_Armenia</th>\n",
       "      <th>Country_Australia</th>\n",
       "      <th>Country_Austria</th>\n",
       "      <th>...</th>\n",
       "      <th>Item_Cassava</th>\n",
       "      <th>Item_Maize</th>\n",
       "      <th>Item_Plantains and others</th>\n",
       "      <th>Item_Potatoes</th>\n",
       "      <th>Item_Rice, paddy</th>\n",
       "      <th>Item_Sorghum</th>\n",
       "      <th>Item_Soybeans</th>\n",
       "      <th>Item_Sweet potatoes</th>\n",
       "      <th>Item_Wheat</th>\n",
       "      <th>Item_Yams</th>\n",
       "    </tr>\n",
       "  </thead>\n",
       "  <tbody>\n",
       "    <tr>\n",
       "      <th>0</th>\n",
       "      <td>1485.0</td>\n",
       "      <td>121.0</td>\n",
       "      <td>16.37</td>\n",
       "      <td>1</td>\n",
       "      <td>0</td>\n",
       "      <td>0</td>\n",
       "      <td>0</td>\n",
       "      <td>0</td>\n",
       "      <td>0</td>\n",
       "      <td>0</td>\n",
       "      <td>...</td>\n",
       "      <td>0</td>\n",
       "      <td>1</td>\n",
       "      <td>0</td>\n",
       "      <td>0</td>\n",
       "      <td>0</td>\n",
       "      <td>0</td>\n",
       "      <td>0</td>\n",
       "      <td>0</td>\n",
       "      <td>0</td>\n",
       "      <td>0</td>\n",
       "    </tr>\n",
       "    <tr>\n",
       "      <th>1</th>\n",
       "      <td>1485.0</td>\n",
       "      <td>121.0</td>\n",
       "      <td>16.37</td>\n",
       "      <td>1</td>\n",
       "      <td>0</td>\n",
       "      <td>0</td>\n",
       "      <td>0</td>\n",
       "      <td>0</td>\n",
       "      <td>0</td>\n",
       "      <td>0</td>\n",
       "      <td>...</td>\n",
       "      <td>0</td>\n",
       "      <td>0</td>\n",
       "      <td>0</td>\n",
       "      <td>1</td>\n",
       "      <td>0</td>\n",
       "      <td>0</td>\n",
       "      <td>0</td>\n",
       "      <td>0</td>\n",
       "      <td>0</td>\n",
       "      <td>0</td>\n",
       "    </tr>\n",
       "    <tr>\n",
       "      <th>2</th>\n",
       "      <td>1485.0</td>\n",
       "      <td>121.0</td>\n",
       "      <td>16.37</td>\n",
       "      <td>1</td>\n",
       "      <td>0</td>\n",
       "      <td>0</td>\n",
       "      <td>0</td>\n",
       "      <td>0</td>\n",
       "      <td>0</td>\n",
       "      <td>0</td>\n",
       "      <td>...</td>\n",
       "      <td>0</td>\n",
       "      <td>0</td>\n",
       "      <td>0</td>\n",
       "      <td>0</td>\n",
       "      <td>1</td>\n",
       "      <td>0</td>\n",
       "      <td>0</td>\n",
       "      <td>0</td>\n",
       "      <td>0</td>\n",
       "      <td>0</td>\n",
       "    </tr>\n",
       "    <tr>\n",
       "      <th>3</th>\n",
       "      <td>1485.0</td>\n",
       "      <td>121.0</td>\n",
       "      <td>16.37</td>\n",
       "      <td>1</td>\n",
       "      <td>0</td>\n",
       "      <td>0</td>\n",
       "      <td>0</td>\n",
       "      <td>0</td>\n",
       "      <td>0</td>\n",
       "      <td>0</td>\n",
       "      <td>...</td>\n",
       "      <td>0</td>\n",
       "      <td>0</td>\n",
       "      <td>0</td>\n",
       "      <td>0</td>\n",
       "      <td>0</td>\n",
       "      <td>1</td>\n",
       "      <td>0</td>\n",
       "      <td>0</td>\n",
       "      <td>0</td>\n",
       "      <td>0</td>\n",
       "    </tr>\n",
       "    <tr>\n",
       "      <th>4</th>\n",
       "      <td>1485.0</td>\n",
       "      <td>121.0</td>\n",
       "      <td>16.37</td>\n",
       "      <td>1</td>\n",
       "      <td>0</td>\n",
       "      <td>0</td>\n",
       "      <td>0</td>\n",
       "      <td>0</td>\n",
       "      <td>0</td>\n",
       "      <td>0</td>\n",
       "      <td>...</td>\n",
       "      <td>0</td>\n",
       "      <td>0</td>\n",
       "      <td>0</td>\n",
       "      <td>0</td>\n",
       "      <td>0</td>\n",
       "      <td>0</td>\n",
       "      <td>1</td>\n",
       "      <td>0</td>\n",
       "      <td>0</td>\n",
       "      <td>0</td>\n",
       "    </tr>\n",
       "  </tbody>\n",
       "</table>\n",
       "<p>5 rows × 114 columns</p>\n",
       "</div>"
      ],
      "text/plain": [
       "   average_rain_fall_mm_per_year  pesticides_tonnes  avg_temp  \\\n",
       "0                         1485.0              121.0     16.37   \n",
       "1                         1485.0              121.0     16.37   \n",
       "2                         1485.0              121.0     16.37   \n",
       "3                         1485.0              121.0     16.37   \n",
       "4                         1485.0              121.0     16.37   \n",
       "\n",
       "   Country_Albania  Country_Algeria  Country_Angola  Country_Argentina  \\\n",
       "0                1                0               0                  0   \n",
       "1                1                0               0                  0   \n",
       "2                1                0               0                  0   \n",
       "3                1                0               0                  0   \n",
       "4                1                0               0                  0   \n",
       "\n",
       "   Country_Armenia  Country_Australia  Country_Austria  ...  Item_Cassava  \\\n",
       "0                0                  0                0  ...             0   \n",
       "1                0                  0                0  ...             0   \n",
       "2                0                  0                0  ...             0   \n",
       "3                0                  0                0  ...             0   \n",
       "4                0                  0                0  ...             0   \n",
       "\n",
       "   Item_Maize  Item_Plantains and others  Item_Potatoes  Item_Rice, paddy  \\\n",
       "0           1                          0              0                 0   \n",
       "1           0                          0              1                 0   \n",
       "2           0                          0              0                 1   \n",
       "3           0                          0              0                 0   \n",
       "4           0                          0              0                 0   \n",
       "\n",
       "   Item_Sorghum  Item_Soybeans  Item_Sweet potatoes  Item_Wheat  Item_Yams  \n",
       "0             0              0                    0           0          0  \n",
       "1             0              0                    0           0          0  \n",
       "2             0              0                    0           0          0  \n",
       "3             1              0                    0           0          0  \n",
       "4             0              1                    0           0          0  \n",
       "\n",
       "[5 rows x 114 columns]"
      ]
     },
     "execution_count": 45,
     "metadata": {},
     "output_type": "execute_result"
    }
   ],
   "source": [
    "features.head()"
   ]
  },
  {
   "cell_type": "markdown",
   "id": "9932c92f",
   "metadata": {
    "papermill": {
     "duration": 0.084945,
     "end_time": "2022-04-18T20:52:33.566039",
     "exception": false,
     "start_time": "2022-04-18T20:52:33.481094",
     "status": "completed"
    },
    "tags": []
   },
   "source": [
    "\n",
    "### Scaling Features: \n",
    "\n",
    "Taking a look at the dataset above, it contains features highly varying in magnitudes, units and range. The features with high magnitudes will weigh in a lot more in the distance calculations than features with low magnitudes.\n",
    "\n",
    "To supress this effect, we need to bring all features to the same level of magnitudes. This can be acheived by scaling."
   ]
  },
  {
   "cell_type": "code",
   "execution_count": 46,
   "id": "92010b14",
   "metadata": {
    "execution": {
     "iopub.execute_input": "2022-04-18T20:52:33.741676Z",
     "iopub.status.busy": "2022-04-18T20:52:33.740932Z",
     "iopub.status.idle": "2022-04-18T20:52:33.801511Z",
     "shell.execute_reply": "2022-04-18T20:52:33.800946Z",
     "shell.execute_reply.started": "2022-04-18T18:52:29.591373Z"
    },
    "papermill": {
     "duration": 0.14998,
     "end_time": "2022-04-18T20:52:33.801706",
     "exception": false,
     "start_time": "2022-04-18T20:52:33.651726",
     "status": "completed"
    },
    "tags": []
   },
   "outputs": [],
   "source": [
    "from sklearn.preprocessing import MinMaxScaler\n",
    "scaler=MinMaxScaler()\n",
    "features=scaler.fit_transform(features) "
   ]
  },
  {
   "cell_type": "markdown",
   "id": "e5ffc45b",
   "metadata": {
    "papermill": {
     "duration": 0.08553,
     "end_time": "2022-04-18T20:52:33.974271",
     "exception": false,
     "start_time": "2022-04-18T20:52:33.888741",
     "status": "completed"
    },
    "tags": []
   },
   "source": [
    "After dropping year column in addition to scaling all values in features, the resulting array will look something like this : "
   ]
  },
  {
   "cell_type": "code",
   "execution_count": 47,
   "id": "f424b55f",
   "metadata": {
    "execution": {
     "iopub.execute_input": "2022-04-18T20:52:34.152181Z",
     "iopub.status.busy": "2022-04-18T20:52:34.151471Z",
     "iopub.status.idle": "2022-04-18T20:52:34.157289Z",
     "shell.execute_reply": "2022-04-18T20:52:34.157870Z",
     "shell.execute_reply.started": "2022-04-18T18:52:32.188049Z"
    },
    "papermill": {
     "duration": 0.097136,
     "end_time": "2022-04-18T20:52:34.158058",
     "exception": false,
     "start_time": "2022-04-18T20:52:34.060922",
     "status": "completed"
    },
    "tags": []
   },
   "outputs": [
    {
     "data": {
      "text/plain": [
       "array([[4.49670743e-01, 3.28894097e-04, 5.13458262e-01, ...,\n",
       "        0.00000000e+00, 0.00000000e+00, 0.00000000e+00],\n",
       "       [4.49670743e-01, 3.28894097e-04, 5.13458262e-01, ...,\n",
       "        0.00000000e+00, 0.00000000e+00, 0.00000000e+00],\n",
       "       [4.49670743e-01, 3.28894097e-04, 5.13458262e-01, ...,\n",
       "        0.00000000e+00, 0.00000000e+00, 0.00000000e+00],\n",
       "       ...,\n",
       "       [1.90028222e-01, 6.93361288e-03, 6.28960818e-01, ...,\n",
       "        0.00000000e+00, 0.00000000e+00, 0.00000000e+00],\n",
       "       [1.90028222e-01, 6.93361288e-03, 6.28960818e-01, ...,\n",
       "        1.00000000e+00, 0.00000000e+00, 0.00000000e+00],\n",
       "       [1.90028222e-01, 6.93361288e-03, 6.28960818e-01, ...,\n",
       "        0.00000000e+00, 1.00000000e+00, 0.00000000e+00]])"
      ]
     },
     "execution_count": 47,
     "metadata": {},
     "output_type": "execute_result"
    }
   ],
   "source": [
    "features"
   ]
  },
  {
   "cell_type": "markdown",
   "id": "06b1ae8d",
   "metadata": {
    "papermill": {
     "duration": 0.087808,
     "end_time": "2022-04-18T20:52:34.334861",
     "exception": false,
     "start_time": "2022-04-18T20:52:34.247053",
     "status": "completed"
    },
    "tags": []
   },
   "source": [
    "## Training Data: \n",
    "\n",
    "The dataset will be split to two datasets, the training dataset and test dataset. The data is usually tend to be split inequality because training the model usually requires as much data-points as possible.The common splits are 70/30 or 80/20 for train/test.\n",
    "\n",
    "The training dataset is the intial dataset used to train ML algorithm to learn and produce right predictions. (70% of dataset is training dataset)\n",
    "\n",
    "The test dataset, however, is used to assess how well ML algorithm is trained with the training dataset. You can’t simply reuse the training dataset in the testing stage because ML algorithm will already “know” the expected output, which defeats the purpose of testing the algorithm. (30% of dataset is testing dataset) \n",
    "\n"
   ]
  },
  {
   "cell_type": "code",
   "execution_count": 48,
   "id": "73856908",
   "metadata": {
    "execution": {
     "iopub.execute_input": "2022-04-18T20:52:34.513957Z",
     "iopub.status.busy": "2022-04-18T20:52:34.513141Z",
     "iopub.status.idle": "2022-04-18T20:52:34.623393Z",
     "shell.execute_reply": "2022-04-18T20:52:34.622662Z",
     "shell.execute_reply.started": "2022-04-18T18:52:34.698323Z"
    },
    "papermill": {
     "duration": 0.201602,
     "end_time": "2022-04-18T20:52:34.623597",
     "exception": false,
     "start_time": "2022-04-18T20:52:34.421995",
     "status": "completed"
    },
    "tags": []
   },
   "outputs": [],
   "source": [
    "from sklearn.model_selection import train_test_split\n",
    "train_data, test_data, train_labels, test_labels = train_test_split(features, label, test_size=0.2, random_state=42)"
   ]
  },
  {
   "cell_type": "code",
   "execution_count": 49,
   "id": "9391bc45",
   "metadata": {
    "execution": {
     "iopub.execute_input": "2022-04-18T20:52:34.807062Z",
     "iopub.status.busy": "2022-04-18T20:52:34.806330Z",
     "iopub.status.idle": "2022-04-18T20:52:34.809619Z",
     "shell.execute_reply": "2022-04-18T20:52:34.810212Z"
    },
    "papermill": {
     "duration": 0.099215,
     "end_time": "2022-04-18T20:52:34.810409",
     "exception": false,
     "start_time": "2022-04-18T20:52:34.711194",
     "status": "completed"
    },
    "tags": []
   },
   "outputs": [],
   "source": [
    "#write final df to csv file \n",
    "#yield_df.to_csv('../input/crop-yield-prediction-dataset/yield_df.csv')"
   ]
  },
  {
   "cell_type": "code",
   "execution_count": 50,
   "id": "320613c4",
   "metadata": {
    "execution": {
     "iopub.execute_input": "2022-04-18T20:52:34.990910Z",
     "iopub.status.busy": "2022-04-18T20:52:34.990080Z",
     "iopub.status.idle": "2022-04-18T20:52:35.062004Z",
     "shell.execute_reply": "2022-04-18T20:52:35.061183Z",
     "shell.execute_reply.started": "2022-04-18T18:52:37.015461Z"
    },
    "papermill": {
     "duration": 0.165842,
     "end_time": "2022-04-18T20:52:35.062193",
     "exception": false,
     "start_time": "2022-04-18T20:52:34.896351",
     "status": "completed"
    },
    "tags": []
   },
   "outputs": [],
   "source": [
    "from sklearn.model_selection import train_test_split\n",
    "train_data, test_data, train_labels, test_labels = train_test_split(features, label, test_size=0.2, random_state=42)"
   ]
  },
  {
   "cell_type": "markdown",
   "id": "688e6ecb",
   "metadata": {
    "papermill": {
     "duration": 0.085047,
     "end_time": "2022-04-18T20:52:35.234533",
     "exception": false,
     "start_time": "2022-04-18T20:52:35.149486",
     "status": "completed"
    },
    "tags": []
   },
   "source": [
    "# Model Comparison & Selection \n"
   ]
  },
  {
   "cell_type": "code",
   "execution_count": 51,
   "id": "ae2167b1",
   "metadata": {
    "execution": {
     "iopub.execute_input": "2022-04-18T20:52:35.411212Z",
     "iopub.status.busy": "2022-04-18T20:52:35.410524Z",
     "iopub.status.idle": "2022-04-18T20:52:35.414282Z",
     "shell.execute_reply": "2022-04-18T20:52:35.414845Z"
    },
    "papermill": {
     "duration": 0.093786,
     "end_time": "2022-04-18T20:52:35.415034",
     "exception": false,
     "start_time": "2022-04-18T20:52:35.321248",
     "status": "completed"
    },
    "tags": []
   },
   "outputs": [],
   "source": [
    "# from sklearn.metrics import r2_score\n",
    "# def compare_models(model):\n",
    "#     model_name = model.__class__.__name__\n",
    "#     fit=model.fit(train_data,train_labels)\n",
    "#     y_pred=fit.predict(test_data)\n",
    "#     r2=r2_score(test_labels,y_pred)\n",
    "#     return([model_name,r2])"
   ]
  },
  {
   "cell_type": "code",
   "execution_count": 52,
   "id": "05e40134",
   "metadata": {
    "execution": {
     "iopub.execute_input": "2022-04-18T20:52:35.598138Z",
     "iopub.status.busy": "2022-04-18T20:52:35.597337Z",
     "iopub.status.idle": "2022-04-18T20:52:35.598988Z",
     "shell.execute_reply": "2022-04-18T20:52:35.599601Z"
    },
    "papermill": {
     "duration": 0.095664,
     "end_time": "2022-04-18T20:52:35.599799",
     "exception": false,
     "start_time": "2022-04-18T20:52:35.504135",
     "status": "completed"
    },
    "tags": []
   },
   "outputs": [],
   "source": [
    "# from sklearn.ensemble import RandomForestRegressor\n",
    "# from sklearn.ensemble import GradientBoostingRegressor\n",
    "# from sklearn import svm\n",
    "# from sklearn.tree import DecisionTreeRegressor\n",
    "\n",
    "# models = [\n",
    "#     GradientBoostingRegressor(n_estimators=200, max_depth=3, random_state=0),\n",
    "#      RandomForestRegressor(n_estimators=200, max_depth=3, random_state=0),\n",
    "#     svm.SVR(),\n",
    "#    DecisionTreeRegressor()\n",
    "# ]"
   ]
  },
  {
   "cell_type": "code",
   "execution_count": 53,
   "id": "5896ad86",
   "metadata": {
    "execution": {
     "iopub.execute_input": "2022-04-18T20:52:35.779736Z",
     "iopub.status.busy": "2022-04-18T20:52:35.779037Z",
     "iopub.status.idle": "2022-04-18T20:52:35.783398Z",
     "shell.execute_reply": "2022-04-18T20:52:35.783984Z"
    },
    "papermill": {
     "duration": 0.094513,
     "end_time": "2022-04-18T20:52:35.784165",
     "exception": false,
     "start_time": "2022-04-18T20:52:35.689652",
     "status": "completed"
    },
    "scrolled": true,
    "tags": []
   },
   "outputs": [],
   "source": [
    "# model_train=list(map(compare_models,models)) "
   ]
  },
  {
   "cell_type": "code",
   "execution_count": 54,
   "id": "35c12412",
   "metadata": {
    "execution": {
     "iopub.execute_input": "2022-04-18T20:52:35.963009Z",
     "iopub.status.busy": "2022-04-18T20:52:35.962296Z",
     "iopub.status.idle": "2022-04-18T20:52:35.965274Z",
     "shell.execute_reply": "2022-04-18T20:52:35.965794Z"
    },
    "papermill": {
     "duration": 0.094707,
     "end_time": "2022-04-18T20:52:35.965973",
     "exception": false,
     "start_time": "2022-04-18T20:52:35.871266",
     "status": "completed"
    },
    "tags": []
   },
   "outputs": [],
   "source": [
    "# print(*model_train, sep = \"\\n\")"
   ]
  },
  {
   "cell_type": "markdown",
   "id": "674bb9d3",
   "metadata": {
    "papermill": {
     "duration": 0.088099,
     "end_time": "2022-04-18T20:52:36.144687",
     "exception": false,
     "start_time": "2022-04-18T20:52:36.056588",
     "status": "completed"
    },
    "tags": []
   },
   "source": [
    "The evaluation metric is set based on **R^2 (coefficient of determination)** regression score function, that will represents the proportion of the variance for items (crops) in the regression model. **R^2** score shows how well terms (data points) fit a curve or line.\n",
    "\n",
    "**R^2** is a statistical measure between 0 and 1 which calculates how similar a regression line is to the data it’s fitted to. If it’s a 1, the model 100% predicts the data variance; if it’s a 0, the model predicts none of the variance. \n",
    "\n",
    "From results viewd above, **Decision Tree Regressor** has the highest R^2 score 0f **96%**, **GradientBoostingRegressor** comes second. \n",
    "\n",
    "\n",
    " I'll also calculate **Adjusted R^2** also indicates how well terms fit a curve or line, but adjusts for the number of terms in a model. If you add more and more useless variables to a model, adjusted r-squared will decrease. If you add more useful variables, adjusted r-squared will increase.\n",
    "Adjusted R2 will always be less than or equal to R2. "
   ]
  },
  {
   "cell_type": "code",
   "execution_count": 55,
   "id": "04d6efef",
   "metadata": {
    "execution": {
     "iopub.execute_input": "2022-04-18T20:52:36.329642Z",
     "iopub.status.busy": "2022-04-18T20:52:36.328881Z",
     "iopub.status.idle": "2022-04-18T20:52:36.336323Z",
     "shell.execute_reply": "2022-04-18T20:52:36.336890Z",
     "shell.execute_reply.started": "2022-04-18T18:52:40.733224Z"
    },
    "papermill": {
     "duration": 0.102705,
     "end_time": "2022-04-18T20:52:36.337079",
     "exception": false,
     "start_time": "2022-04-18T20:52:36.234374",
     "status": "completed"
    },
    "tags": []
   },
   "outputs": [],
   "source": [
    "yield_df_onehot = yield_df_onehot.drop(['Year'], axis=1)"
   ]
  },
  {
   "cell_type": "code",
   "execution_count": 56,
   "id": "af0984f6",
   "metadata": {
    "execution": {
     "iopub.execute_input": "2022-04-18T20:52:36.519688Z",
     "iopub.status.busy": "2022-04-18T20:52:36.518957Z",
     "iopub.status.idle": "2022-04-18T20:52:36.539752Z",
     "shell.execute_reply": "2022-04-18T20:52:36.539207Z",
     "shell.execute_reply.started": "2022-04-18T18:52:42.629217Z"
    },
    "papermill": {
     "duration": 0.110249,
     "end_time": "2022-04-18T20:52:36.539907",
     "exception": false,
     "start_time": "2022-04-18T20:52:36.429658",
     "status": "completed"
    },
    "tags": []
   },
   "outputs": [
    {
     "data": {
      "text/html": [
       "<div>\n",
       "<style scoped>\n",
       "    .dataframe tbody tr th:only-of-type {\n",
       "        vertical-align: middle;\n",
       "    }\n",
       "\n",
       "    .dataframe tbody tr th {\n",
       "        vertical-align: top;\n",
       "    }\n",
       "\n",
       "    .dataframe thead th {\n",
       "        text-align: right;\n",
       "    }\n",
       "</style>\n",
       "<table border=\"1\" class=\"dataframe\">\n",
       "  <thead>\n",
       "    <tr style=\"text-align: right;\">\n",
       "      <th></th>\n",
       "      <th>hg/ha_yield</th>\n",
       "      <th>average_rain_fall_mm_per_year</th>\n",
       "      <th>pesticides_tonnes</th>\n",
       "      <th>avg_temp</th>\n",
       "      <th>Country_Albania</th>\n",
       "      <th>Country_Algeria</th>\n",
       "      <th>Country_Angola</th>\n",
       "      <th>Country_Argentina</th>\n",
       "      <th>Country_Armenia</th>\n",
       "      <th>Country_Australia</th>\n",
       "      <th>...</th>\n",
       "      <th>Item_Cassava</th>\n",
       "      <th>Item_Maize</th>\n",
       "      <th>Item_Plantains and others</th>\n",
       "      <th>Item_Potatoes</th>\n",
       "      <th>Item_Rice, paddy</th>\n",
       "      <th>Item_Sorghum</th>\n",
       "      <th>Item_Soybeans</th>\n",
       "      <th>Item_Sweet potatoes</th>\n",
       "      <th>Item_Wheat</th>\n",
       "      <th>Item_Yams</th>\n",
       "    </tr>\n",
       "  </thead>\n",
       "  <tbody>\n",
       "    <tr>\n",
       "      <th>0</th>\n",
       "      <td>36613</td>\n",
       "      <td>1485.0</td>\n",
       "      <td>121.0</td>\n",
       "      <td>16.37</td>\n",
       "      <td>1</td>\n",
       "      <td>0</td>\n",
       "      <td>0</td>\n",
       "      <td>0</td>\n",
       "      <td>0</td>\n",
       "      <td>0</td>\n",
       "      <td>...</td>\n",
       "      <td>0</td>\n",
       "      <td>1</td>\n",
       "      <td>0</td>\n",
       "      <td>0</td>\n",
       "      <td>0</td>\n",
       "      <td>0</td>\n",
       "      <td>0</td>\n",
       "      <td>0</td>\n",
       "      <td>0</td>\n",
       "      <td>0</td>\n",
       "    </tr>\n",
       "    <tr>\n",
       "      <th>1</th>\n",
       "      <td>66667</td>\n",
       "      <td>1485.0</td>\n",
       "      <td>121.0</td>\n",
       "      <td>16.37</td>\n",
       "      <td>1</td>\n",
       "      <td>0</td>\n",
       "      <td>0</td>\n",
       "      <td>0</td>\n",
       "      <td>0</td>\n",
       "      <td>0</td>\n",
       "      <td>...</td>\n",
       "      <td>0</td>\n",
       "      <td>0</td>\n",
       "      <td>0</td>\n",
       "      <td>1</td>\n",
       "      <td>0</td>\n",
       "      <td>0</td>\n",
       "      <td>0</td>\n",
       "      <td>0</td>\n",
       "      <td>0</td>\n",
       "      <td>0</td>\n",
       "    </tr>\n",
       "    <tr>\n",
       "      <th>2</th>\n",
       "      <td>23333</td>\n",
       "      <td>1485.0</td>\n",
       "      <td>121.0</td>\n",
       "      <td>16.37</td>\n",
       "      <td>1</td>\n",
       "      <td>0</td>\n",
       "      <td>0</td>\n",
       "      <td>0</td>\n",
       "      <td>0</td>\n",
       "      <td>0</td>\n",
       "      <td>...</td>\n",
       "      <td>0</td>\n",
       "      <td>0</td>\n",
       "      <td>0</td>\n",
       "      <td>0</td>\n",
       "      <td>1</td>\n",
       "      <td>0</td>\n",
       "      <td>0</td>\n",
       "      <td>0</td>\n",
       "      <td>0</td>\n",
       "      <td>0</td>\n",
       "    </tr>\n",
       "    <tr>\n",
       "      <th>3</th>\n",
       "      <td>12500</td>\n",
       "      <td>1485.0</td>\n",
       "      <td>121.0</td>\n",
       "      <td>16.37</td>\n",
       "      <td>1</td>\n",
       "      <td>0</td>\n",
       "      <td>0</td>\n",
       "      <td>0</td>\n",
       "      <td>0</td>\n",
       "      <td>0</td>\n",
       "      <td>...</td>\n",
       "      <td>0</td>\n",
       "      <td>0</td>\n",
       "      <td>0</td>\n",
       "      <td>0</td>\n",
       "      <td>0</td>\n",
       "      <td>1</td>\n",
       "      <td>0</td>\n",
       "      <td>0</td>\n",
       "      <td>0</td>\n",
       "      <td>0</td>\n",
       "    </tr>\n",
       "    <tr>\n",
       "      <th>4</th>\n",
       "      <td>7000</td>\n",
       "      <td>1485.0</td>\n",
       "      <td>121.0</td>\n",
       "      <td>16.37</td>\n",
       "      <td>1</td>\n",
       "      <td>0</td>\n",
       "      <td>0</td>\n",
       "      <td>0</td>\n",
       "      <td>0</td>\n",
       "      <td>0</td>\n",
       "      <td>...</td>\n",
       "      <td>0</td>\n",
       "      <td>0</td>\n",
       "      <td>0</td>\n",
       "      <td>0</td>\n",
       "      <td>0</td>\n",
       "      <td>0</td>\n",
       "      <td>1</td>\n",
       "      <td>0</td>\n",
       "      <td>0</td>\n",
       "      <td>0</td>\n",
       "    </tr>\n",
       "  </tbody>\n",
       "</table>\n",
       "<p>5 rows × 115 columns</p>\n",
       "</div>"
      ],
      "text/plain": [
       "   hg/ha_yield  average_rain_fall_mm_per_year  pesticides_tonnes  avg_temp  \\\n",
       "0        36613                         1485.0              121.0     16.37   \n",
       "1        66667                         1485.0              121.0     16.37   \n",
       "2        23333                         1485.0              121.0     16.37   \n",
       "3        12500                         1485.0              121.0     16.37   \n",
       "4         7000                         1485.0              121.0     16.37   \n",
       "\n",
       "   Country_Albania  Country_Algeria  Country_Angola  Country_Argentina  \\\n",
       "0                1                0               0                  0   \n",
       "1                1                0               0                  0   \n",
       "2                1                0               0                  0   \n",
       "3                1                0               0                  0   \n",
       "4                1                0               0                  0   \n",
       "\n",
       "   Country_Armenia  Country_Australia  ...  Item_Cassava  Item_Maize  \\\n",
       "0                0                  0  ...             0           1   \n",
       "1                0                  0  ...             0           0   \n",
       "2                0                  0  ...             0           0   \n",
       "3                0                  0  ...             0           0   \n",
       "4                0                  0  ...             0           0   \n",
       "\n",
       "   Item_Plantains and others  Item_Potatoes  Item_Rice, paddy  Item_Sorghum  \\\n",
       "0                          0              0                 0             0   \n",
       "1                          0              1                 0             0   \n",
       "2                          0              0                 1             0   \n",
       "3                          0              0                 0             1   \n",
       "4                          0              0                 0             0   \n",
       "\n",
       "   Item_Soybeans  Item_Sweet potatoes  Item_Wheat  Item_Yams  \n",
       "0              0                    0           0          0  \n",
       "1              0                    0           0          0  \n",
       "2              0                    0           0          0  \n",
       "3              0                    0           0          0  \n",
       "4              1                    0           0          0  \n",
       "\n",
       "[5 rows x 115 columns]"
      ]
     },
     "execution_count": 56,
     "metadata": {},
     "output_type": "execute_result"
    }
   ],
   "source": [
    "yield_df_onehot.head()"
   ]
  },
  {
   "cell_type": "code",
   "execution_count": 57,
   "id": "fc8bb60d",
   "metadata": {
    "execution": {
     "iopub.execute_input": "2022-04-18T20:52:36.723973Z",
     "iopub.status.busy": "2022-04-18T20:52:36.722335Z",
     "iopub.status.idle": "2022-04-18T20:52:36.859579Z",
     "shell.execute_reply": "2022-04-18T20:52:36.858990Z",
     "shell.execute_reply.started": "2022-04-18T18:52:49.024678Z"
    },
    "papermill": {
     "duration": 0.232855,
     "end_time": "2022-04-18T20:52:36.859740",
     "exception": false,
     "start_time": "2022-04-18T20:52:36.626885",
     "status": "completed"
    },
    "tags": []
   },
   "outputs": [],
   "source": [
    "#setting test data to columns from dataframe and excluding 'hg/ha_yield' values where ML model should be predicting \n",
    "\n",
    "test_df=pd.DataFrame(test_data,columns=yield_df_onehot.loc[:, yield_df_onehot.columns != 'hg/ha_yield'].columns) \n",
    "\n",
    "# using stack function to return a reshaped DataFrame by pivoting the columns of the current dataframe\n",
    "\n",
    "cntry=test_df[[col for col in test_df.columns if 'Country' in col]].stack()[test_df[[col for col in test_df.columns if 'Country' in col]].stack()>0]\n",
    "cntrylist=list(pd.DataFrame(cntry).index.get_level_values(1))\n",
    "countries=[i.split(\"_\")[1] for i in cntrylist]\n",
    "itm=test_df[[col for col in test_df.columns if 'Item' in col]].stack()[test_df[[col for col in test_df.columns if 'Item' in col]].stack()>0]\n",
    "itmlist=list(pd.DataFrame(itm).index.get_level_values(1))\n",
    "items=[i.split(\"_\")[1] for i in itmlist]"
   ]
  },
  {
   "cell_type": "code",
   "execution_count": 58,
   "id": "7a5a44e6",
   "metadata": {
    "execution": {
     "iopub.execute_input": "2022-04-18T20:52:37.069397Z",
     "iopub.status.busy": "2022-04-18T20:52:37.054651Z",
     "iopub.status.idle": "2022-04-18T20:52:37.073840Z",
     "shell.execute_reply": "2022-04-18T20:52:37.073102Z",
     "shell.execute_reply.started": "2022-04-18T18:52:52.423706Z"
    },
    "papermill": {
     "duration": 0.125969,
     "end_time": "2022-04-18T20:52:37.073997",
     "exception": false,
     "start_time": "2022-04-18T20:52:36.948028",
     "status": "completed"
    },
    "tags": []
   },
   "outputs": [
    {
     "data": {
      "text/html": [
       "<div>\n",
       "<style scoped>\n",
       "    .dataframe tbody tr th:only-of-type {\n",
       "        vertical-align: middle;\n",
       "    }\n",
       "\n",
       "    .dataframe tbody tr th {\n",
       "        vertical-align: top;\n",
       "    }\n",
       "\n",
       "    .dataframe thead th {\n",
       "        text-align: right;\n",
       "    }\n",
       "</style>\n",
       "<table border=\"1\" class=\"dataframe\">\n",
       "  <thead>\n",
       "    <tr style=\"text-align: right;\">\n",
       "      <th></th>\n",
       "      <th>average_rain_fall_mm_per_year</th>\n",
       "      <th>pesticides_tonnes</th>\n",
       "      <th>avg_temp</th>\n",
       "      <th>Country_Albania</th>\n",
       "      <th>Country_Algeria</th>\n",
       "      <th>Country_Angola</th>\n",
       "      <th>Country_Argentina</th>\n",
       "      <th>Country_Armenia</th>\n",
       "      <th>Country_Australia</th>\n",
       "      <th>Country_Austria</th>\n",
       "      <th>...</th>\n",
       "      <th>Item_Cassava</th>\n",
       "      <th>Item_Maize</th>\n",
       "      <th>Item_Plantains and others</th>\n",
       "      <th>Item_Potatoes</th>\n",
       "      <th>Item_Rice, paddy</th>\n",
       "      <th>Item_Sorghum</th>\n",
       "      <th>Item_Soybeans</th>\n",
       "      <th>Item_Sweet potatoes</th>\n",
       "      <th>Item_Wheat</th>\n",
       "      <th>Item_Yams</th>\n",
       "    </tr>\n",
       "  </thead>\n",
       "  <tbody>\n",
       "    <tr>\n",
       "      <th>0</th>\n",
       "      <td>0.183443</td>\n",
       "      <td>0.110716</td>\n",
       "      <td>0.542078</td>\n",
       "      <td>0.0</td>\n",
       "      <td>0.0</td>\n",
       "      <td>0.0</td>\n",
       "      <td>0.0</td>\n",
       "      <td>0.0</td>\n",
       "      <td>0.0</td>\n",
       "      <td>0.0</td>\n",
       "      <td>...</td>\n",
       "      <td>0.0</td>\n",
       "      <td>0.0</td>\n",
       "      <td>0.0</td>\n",
       "      <td>0.0</td>\n",
       "      <td>1.0</td>\n",
       "      <td>0.0</td>\n",
       "      <td>0.0</td>\n",
       "      <td>0.0</td>\n",
       "      <td>0.0</td>\n",
       "      <td>0.0</td>\n",
       "    </tr>\n",
       "    <tr>\n",
       "      <th>1</th>\n",
       "      <td>0.458451</td>\n",
       "      <td>0.000413</td>\n",
       "      <td>0.627257</td>\n",
       "      <td>0.0</td>\n",
       "      <td>0.0</td>\n",
       "      <td>0.0</td>\n",
       "      <td>0.0</td>\n",
       "      <td>0.0</td>\n",
       "      <td>0.0</td>\n",
       "      <td>0.0</td>\n",
       "      <td>...</td>\n",
       "      <td>0.0</td>\n",
       "      <td>0.0</td>\n",
       "      <td>0.0</td>\n",
       "      <td>0.0</td>\n",
       "      <td>0.0</td>\n",
       "      <td>0.0</td>\n",
       "      <td>0.0</td>\n",
       "      <td>0.0</td>\n",
       "      <td>1.0</td>\n",
       "      <td>0.0</td>\n",
       "    </tr>\n",
       "    <tr>\n",
       "      <th>2</th>\n",
       "      <td>0.183443</td>\n",
       "      <td>0.106159</td>\n",
       "      <td>0.518228</td>\n",
       "      <td>0.0</td>\n",
       "      <td>0.0</td>\n",
       "      <td>0.0</td>\n",
       "      <td>0.0</td>\n",
       "      <td>0.0</td>\n",
       "      <td>0.0</td>\n",
       "      <td>0.0</td>\n",
       "      <td>...</td>\n",
       "      <td>0.0</td>\n",
       "      <td>0.0</td>\n",
       "      <td>0.0</td>\n",
       "      <td>0.0</td>\n",
       "      <td>0.0</td>\n",
       "      <td>1.0</td>\n",
       "      <td>0.0</td>\n",
       "      <td>0.0</td>\n",
       "      <td>0.0</td>\n",
       "      <td>0.0</td>\n",
       "    </tr>\n",
       "    <tr>\n",
       "      <th>3</th>\n",
       "      <td>1.000000</td>\n",
       "      <td>0.224154</td>\n",
       "      <td>0.890971</td>\n",
       "      <td>0.0</td>\n",
       "      <td>0.0</td>\n",
       "      <td>0.0</td>\n",
       "      <td>0.0</td>\n",
       "      <td>0.0</td>\n",
       "      <td>0.0</td>\n",
       "      <td>0.0</td>\n",
       "      <td>...</td>\n",
       "      <td>0.0</td>\n",
       "      <td>0.0</td>\n",
       "      <td>0.0</td>\n",
       "      <td>1.0</td>\n",
       "      <td>0.0</td>\n",
       "      <td>0.0</td>\n",
       "      <td>0.0</td>\n",
       "      <td>0.0</td>\n",
       "      <td>0.0</td>\n",
       "      <td>0.0</td>\n",
       "    </tr>\n",
       "    <tr>\n",
       "      <th>4</th>\n",
       "      <td>0.458451</td>\n",
       "      <td>0.000355</td>\n",
       "      <td>0.625213</td>\n",
       "      <td>0.0</td>\n",
       "      <td>0.0</td>\n",
       "      <td>0.0</td>\n",
       "      <td>0.0</td>\n",
       "      <td>0.0</td>\n",
       "      <td>0.0</td>\n",
       "      <td>0.0</td>\n",
       "      <td>...</td>\n",
       "      <td>0.0</td>\n",
       "      <td>0.0</td>\n",
       "      <td>0.0</td>\n",
       "      <td>0.0</td>\n",
       "      <td>0.0</td>\n",
       "      <td>0.0</td>\n",
       "      <td>0.0</td>\n",
       "      <td>1.0</td>\n",
       "      <td>0.0</td>\n",
       "      <td>0.0</td>\n",
       "    </tr>\n",
       "  </tbody>\n",
       "</table>\n",
       "<p>5 rows × 114 columns</p>\n",
       "</div>"
      ],
      "text/plain": [
       "   average_rain_fall_mm_per_year  pesticides_tonnes  avg_temp  \\\n",
       "0                       0.183443           0.110716  0.542078   \n",
       "1                       0.458451           0.000413  0.627257   \n",
       "2                       0.183443           0.106159  0.518228   \n",
       "3                       1.000000           0.224154  0.890971   \n",
       "4                       0.458451           0.000355  0.625213   \n",
       "\n",
       "   Country_Albania  Country_Algeria  Country_Angola  Country_Argentina  \\\n",
       "0              0.0              0.0             0.0                0.0   \n",
       "1              0.0              0.0             0.0                0.0   \n",
       "2              0.0              0.0             0.0                0.0   \n",
       "3              0.0              0.0             0.0                0.0   \n",
       "4              0.0              0.0             0.0                0.0   \n",
       "\n",
       "   Country_Armenia  Country_Australia  Country_Austria  ...  Item_Cassava  \\\n",
       "0              0.0                0.0              0.0  ...           0.0   \n",
       "1              0.0                0.0              0.0  ...           0.0   \n",
       "2              0.0                0.0              0.0  ...           0.0   \n",
       "3              0.0                0.0              0.0  ...           0.0   \n",
       "4              0.0                0.0              0.0  ...           0.0   \n",
       "\n",
       "   Item_Maize  Item_Plantains and others  Item_Potatoes  Item_Rice, paddy  \\\n",
       "0         0.0                        0.0            0.0               1.0   \n",
       "1         0.0                        0.0            0.0               0.0   \n",
       "2         0.0                        0.0            0.0               0.0   \n",
       "3         0.0                        0.0            1.0               0.0   \n",
       "4         0.0                        0.0            0.0               0.0   \n",
       "\n",
       "   Item_Sorghum  Item_Soybeans  Item_Sweet potatoes  Item_Wheat  Item_Yams  \n",
       "0           0.0            0.0                  0.0         0.0        0.0  \n",
       "1           0.0            0.0                  0.0         1.0        0.0  \n",
       "2           1.0            0.0                  0.0         0.0        0.0  \n",
       "3           0.0            0.0                  0.0         0.0        0.0  \n",
       "4           0.0            0.0                  1.0         0.0        0.0  \n",
       "\n",
       "[5 rows x 114 columns]"
      ]
     },
     "execution_count": 58,
     "metadata": {},
     "output_type": "execute_result"
    }
   ],
   "source": [
    "test_df.head()"
   ]
  },
  {
   "cell_type": "code",
   "execution_count": 59,
   "id": "08aa1e88",
   "metadata": {
    "execution": {
     "iopub.execute_input": "2022-04-18T20:52:37.271604Z",
     "iopub.status.busy": "2022-04-18T20:52:37.270496Z",
     "iopub.status.idle": "2022-04-18T20:52:37.274921Z",
     "shell.execute_reply": "2022-04-18T20:52:37.274272Z",
     "shell.execute_reply.started": "2022-04-18T18:52:56.082660Z"
    },
    "papermill": {
     "duration": 0.11133,
     "end_time": "2022-04-18T20:52:37.275072",
     "exception": false,
     "start_time": "2022-04-18T20:52:37.163742",
     "status": "completed"
    },
    "tags": []
   },
   "outputs": [
    {
     "data": {
      "text/html": [
       "<div>\n",
       "<style scoped>\n",
       "    .dataframe tbody tr th:only-of-type {\n",
       "        vertical-align: middle;\n",
       "    }\n",
       "\n",
       "    .dataframe tbody tr th {\n",
       "        vertical-align: top;\n",
       "    }\n",
       "\n",
       "    .dataframe thead th {\n",
       "        text-align: right;\n",
       "    }\n",
       "</style>\n",
       "<table border=\"1\" class=\"dataframe\">\n",
       "  <thead>\n",
       "    <tr style=\"text-align: right;\">\n",
       "      <th></th>\n",
       "      <th>average_rain_fall_mm_per_year</th>\n",
       "      <th>pesticides_tonnes</th>\n",
       "      <th>avg_temp</th>\n",
       "    </tr>\n",
       "  </thead>\n",
       "  <tbody>\n",
       "    <tr>\n",
       "      <th>0</th>\n",
       "      <td>0.183443</td>\n",
       "      <td>0.110716</td>\n",
       "      <td>0.542078</td>\n",
       "    </tr>\n",
       "    <tr>\n",
       "      <th>1</th>\n",
       "      <td>0.458451</td>\n",
       "      <td>0.000413</td>\n",
       "      <td>0.627257</td>\n",
       "    </tr>\n",
       "    <tr>\n",
       "      <th>2</th>\n",
       "      <td>0.183443</td>\n",
       "      <td>0.106159</td>\n",
       "      <td>0.518228</td>\n",
       "    </tr>\n",
       "    <tr>\n",
       "      <th>3</th>\n",
       "      <td>1.000000</td>\n",
       "      <td>0.224154</td>\n",
       "      <td>0.890971</td>\n",
       "    </tr>\n",
       "    <tr>\n",
       "      <th>4</th>\n",
       "      <td>0.458451</td>\n",
       "      <td>0.000355</td>\n",
       "      <td>0.625213</td>\n",
       "    </tr>\n",
       "  </tbody>\n",
       "</table>\n",
       "</div>"
      ],
      "text/plain": [
       "   average_rain_fall_mm_per_year  pesticides_tonnes  avg_temp\n",
       "0                       0.183443           0.110716  0.542078\n",
       "1                       0.458451           0.000413  0.627257\n",
       "2                       0.183443           0.106159  0.518228\n",
       "3                       1.000000           0.224154  0.890971\n",
       "4                       0.458451           0.000355  0.625213"
      ]
     },
     "execution_count": 59,
     "metadata": {},
     "output_type": "execute_result"
    }
   ],
   "source": [
    "test_df.drop([col for col in test_df.columns if 'Item' in col],axis=1,inplace=True)\n",
    "test_df.drop([col for col in test_df.columns if 'Country' in col],axis=1,inplace=True)\n",
    "test_df.head()"
   ]
  },
  {
   "cell_type": "code",
   "execution_count": 60,
   "id": "e1a3af3b",
   "metadata": {
    "execution": {
     "iopub.execute_input": "2022-04-18T20:52:37.471461Z",
     "iopub.status.busy": "2022-04-18T20:52:37.470451Z",
     "iopub.status.idle": "2022-04-18T20:52:37.474111Z",
     "shell.execute_reply": "2022-04-18T20:52:37.474639Z",
     "shell.execute_reply.started": "2022-04-18T18:52:59.767606Z"
    },
    "papermill": {
     "duration": 0.10814,
     "end_time": "2022-04-18T20:52:37.474837",
     "exception": false,
     "start_time": "2022-04-18T20:52:37.366697",
     "status": "completed"
    },
    "scrolled": true,
    "tags": []
   },
   "outputs": [
    {
     "data": {
      "text/html": [
       "<div>\n",
       "<style scoped>\n",
       "    .dataframe tbody tr th:only-of-type {\n",
       "        vertical-align: middle;\n",
       "    }\n",
       "\n",
       "    .dataframe tbody tr th {\n",
       "        vertical-align: top;\n",
       "    }\n",
       "\n",
       "    .dataframe thead th {\n",
       "        text-align: right;\n",
       "    }\n",
       "</style>\n",
       "<table border=\"1\" class=\"dataframe\">\n",
       "  <thead>\n",
       "    <tr style=\"text-align: right;\">\n",
       "      <th></th>\n",
       "      <th>average_rain_fall_mm_per_year</th>\n",
       "      <th>pesticides_tonnes</th>\n",
       "      <th>avg_temp</th>\n",
       "      <th>Country</th>\n",
       "      <th>Item</th>\n",
       "    </tr>\n",
       "  </thead>\n",
       "  <tbody>\n",
       "    <tr>\n",
       "      <th>0</th>\n",
       "      <td>0.183443</td>\n",
       "      <td>0.110716</td>\n",
       "      <td>0.542078</td>\n",
       "      <td>Spain</td>\n",
       "      <td>Rice, paddy</td>\n",
       "    </tr>\n",
       "    <tr>\n",
       "      <th>1</th>\n",
       "      <td>0.458451</td>\n",
       "      <td>0.000413</td>\n",
       "      <td>0.627257</td>\n",
       "      <td>Madagascar</td>\n",
       "      <td>Wheat</td>\n",
       "    </tr>\n",
       "    <tr>\n",
       "      <th>2</th>\n",
       "      <td>0.183443</td>\n",
       "      <td>0.106159</td>\n",
       "      <td>0.518228</td>\n",
       "      <td>Spain</td>\n",
       "      <td>Sorghum</td>\n",
       "    </tr>\n",
       "    <tr>\n",
       "      <th>3</th>\n",
       "      <td>1.000000</td>\n",
       "      <td>0.224154</td>\n",
       "      <td>0.890971</td>\n",
       "      <td>Colombia</td>\n",
       "      <td>Potatoes</td>\n",
       "    </tr>\n",
       "    <tr>\n",
       "      <th>4</th>\n",
       "      <td>0.458451</td>\n",
       "      <td>0.000355</td>\n",
       "      <td>0.625213</td>\n",
       "      <td>Madagascar</td>\n",
       "      <td>Sweet potatoes</td>\n",
       "    </tr>\n",
       "  </tbody>\n",
       "</table>\n",
       "</div>"
      ],
      "text/plain": [
       "   average_rain_fall_mm_per_year  pesticides_tonnes  avg_temp     Country  \\\n",
       "0                       0.183443           0.110716  0.542078       Spain   \n",
       "1                       0.458451           0.000413  0.627257  Madagascar   \n",
       "2                       0.183443           0.106159  0.518228       Spain   \n",
       "3                       1.000000           0.224154  0.890971    Colombia   \n",
       "4                       0.458451           0.000355  0.625213  Madagascar   \n",
       "\n",
       "             Item  \n",
       "0     Rice, paddy  \n",
       "1           Wheat  \n",
       "2         Sorghum  \n",
       "3        Potatoes  \n",
       "4  Sweet potatoes  "
      ]
     },
     "execution_count": 60,
     "metadata": {},
     "output_type": "execute_result"
    }
   ],
   "source": [
    "test_df['Country']=countries\n",
    "test_df['Item']=items\n",
    "test_df.head()"
   ]
  },
  {
   "cell_type": "code",
   "execution_count": 61,
   "id": "a9ee411b",
   "metadata": {
    "execution": {
     "iopub.execute_input": "2022-04-18T20:52:37.658318Z",
     "iopub.status.busy": "2022-04-18T20:52:37.657174Z",
     "iopub.status.idle": "2022-04-18T20:52:38.137680Z",
     "shell.execute_reply": "2022-04-18T20:52:38.136955Z",
     "shell.execute_reply.started": "2022-04-18T18:53:02.122336Z"
    },
    "papermill": {
     "duration": 0.573766,
     "end_time": "2022-04-18T20:52:38.137852",
     "exception": false,
     "start_time": "2022-04-18T20:52:37.564086",
     "status": "completed"
    },
    "scrolled": true,
    "tags": []
   },
   "outputs": [],
   "source": [
    "from sklearn.tree import DecisionTreeRegressor\n",
    "clf=DecisionTreeRegressor()\n",
    "model=clf.fit(train_data,train_labels)\n",
    "\n",
    "test_df[\"yield_predicted\"]= model.predict(test_data)\n",
    "test_df[\"yield_actual\"]=pd.DataFrame(test_labels)[\"hg/ha_yield\"].tolist()\n",
    "test_group=test_df.groupby(\"Item\")\n",
    "# test_group.apply(lambda x: r2_score(x.yield_actual,x.yield_predicted))"
   ]
  },
  {
   "cell_type": "code",
   "execution_count": 62,
   "id": "d17970d4",
   "metadata": {
    "execution": {
     "iopub.execute_input": "2022-04-18T20:52:38.322681Z",
     "iopub.status.busy": "2022-04-18T20:52:38.321569Z",
     "iopub.status.idle": "2022-04-18T20:52:38.553213Z",
     "shell.execute_reply": "2022-04-18T20:52:38.552626Z",
     "shell.execute_reply.started": "2022-04-18T18:53:03.819884Z"
    },
    "papermill": {
     "duration": 0.32487,
     "end_time": "2022-04-18T20:52:38.553385",
     "exception": false,
     "start_time": "2022-04-18T20:52:38.228515",
     "status": "completed"
    },
    "tags": []
   },
   "outputs": [
    {
     "data": {
      "image/png": "[encoded data removed]",
      "text/plain": [
       "<Figure size 432x288 with 1 Axes>"
      ]
     },
     "metadata": {
      "needs_background": "light"
     },
     "output_type": "display_data"
    }
   ],
   "source": [
    "# So let's run the model actual values against the predicted ones \n",
    "\n",
    "fig, ax = plt.subplots() \n",
    "\n",
    "ax.scatter(test_df[\"yield_actual\"], test_df[\"yield_predicted\"],edgecolors=(0, 0, 0))\n",
    "\n",
    "ax.set_xlabel('Actual')\n",
    "ax.set_ylabel('Predicted')\n",
    "ax.set_title(\"Actual vs Predicted\")\n",
    "plt.show()"
   ]
  },
  {
   "cell_type": "markdown",
   "id": "e09247ba",
   "metadata": {
    "papermill": {
     "duration": 0.09007,
     "end_time": "2022-04-18T20:52:38.733970",
     "exception": false,
     "start_time": "2022-04-18T20:52:38.643900",
     "status": "completed"
    },
    "tags": []
   },
   "source": [
    "# Model Results & Conclusions\n",
    "\n"
   ]
  },
  {
   "cell_type": "code",
   "execution_count": 63,
   "id": "17006ffa",
   "metadata": {
    "execution": {
     "iopub.execute_input": "2022-04-18T20:52:38.947091Z",
     "iopub.status.busy": "2022-04-18T20:52:38.946092Z",
     "iopub.status.idle": "2022-04-18T20:52:38.949063Z",
     "shell.execute_reply": "2022-04-18T20:52:38.949706Z",
     "shell.execute_reply.started": "2022-04-18T18:54:23.099734Z"
    },
    "papermill": {
     "duration": 0.10396,
     "end_time": "2022-04-18T20:52:38.949914",
     "exception": false,
     "start_time": "2022-04-18T20:52:38.845954",
     "status": "completed"
    },
    "tags": []
   },
   "outputs": [],
   "source": [
    "varimp= {'imp':model.feature_importances_,'names':yield_df_onehot.columns[yield_df_onehot.columns!=\"hg/ha_yield\"]}"
   ]
  },
  {
   "cell_type": "code",
   "execution_count": 64,
   "id": "fb318aa5",
   "metadata": {
    "execution": {
     "iopub.execute_input": "2022-04-18T20:52:39.134041Z",
     "iopub.status.busy": "2022-04-18T20:52:39.133001Z",
     "iopub.status.idle": "2022-04-18T20:52:41.754647Z",
     "shell.execute_reply": "2022-04-18T20:52:41.755434Z",
     "shell.execute_reply.started": "2022-04-18T18:54:25.255184Z"
    },
    "papermill": {
     "duration": 2.715774,
     "end_time": "2022-04-18T20:52:41.755660",
     "exception": false,
     "start_time": "2022-04-18T20:52:39.039886",
     "status": "completed"
    },
    "tags": []
   },
   "outputs": [
    {
     "data": {
      "image/png": "[encoded data removed]",
      "text/plain": [
       "<Figure size 595.44x1202.4 with 1 Axes>"
      ]
     },
     "metadata": {
      "needs_background": "light"
     },
     "output_type": "display_data"
    }
   ],
   "source": [
    "a4_dims = (8.27,16.7)\n",
    "fig, ax = plt.subplots(figsize=a4_dims)\n",
    "df=pd.DataFrame.from_dict(varimp)\n",
    "df.sort_values(ascending=False,by=[\"imp\"],inplace=True)\n",
    "df=df.dropna()\n",
    "sns.barplot(x=\"imp\",y=\"names\",palette=\"vlag\",data=df,orient=\"h\",ax=ax);"
   ]
  },
  {
   "cell_type": "markdown",
   "id": "7920045d",
   "metadata": {
    "papermill": {
     "duration": 0.093226,
     "end_time": "2022-04-18T20:52:41.944826",
     "exception": false,
     "start_time": "2022-04-18T20:52:41.851600",
     "status": "completed"
    },
    "tags": []
   },
   "source": [
    "Getting only top 7 of features importance in the model:"
   ]
  },
  {
   "cell_type": "code",
   "execution_count": 65,
   "id": "2c8b0a48",
   "metadata": {
    "execution": {
     "iopub.execute_input": "2022-04-18T20:52:42.145142Z",
     "iopub.status.busy": "2022-04-18T20:52:42.144312Z",
     "iopub.status.idle": "2022-04-18T20:52:42.419683Z",
     "shell.execute_reply": "2022-04-18T20:52:42.418929Z",
     "shell.execute_reply.started": "2022-04-18T18:54:32.603432Z"
    },
    "papermill": {
     "duration": 0.377811,
     "end_time": "2022-04-18T20:52:42.419835",
     "exception": false,
     "start_time": "2022-04-18T20:52:42.042024",
     "status": "completed"
    },
    "tags": []
   },
   "outputs": [
    {
     "data": {
      "image/png": "[encoded data removed]",
      "text/plain": [
       "<Figure size 1202.4x595.44 with 1 Axes>"
      ]
     },
     "metadata": {
      "needs_background": "light"
     },
     "output_type": "display_data"
    }
   ],
   "source": [
    "#7 most important factors that affect crops \n",
    "a4_dims = (16.7, 8.27)\n",
    "\n",
    "fig, ax = plt.subplots(figsize=a4_dims)\n",
    "df=pd.DataFrame.from_dict(varimp)\n",
    "df.sort_values(ascending=False,by=[\"imp\"],inplace=True)\n",
    "df=df.dropna()\n",
    "df=df.nlargest(7, 'imp')\n",
    "sns.barplot(x=\"imp\",y=\"names\",palette=\"vlag\",data=df,orient=\"h\",ax=ax);"
   ]
  },
  {
   "cell_type": "markdown",
   "id": "26687da6",
   "metadata": {
    "papermill": {
     "duration": 0.096065,
     "end_time": "2022-04-18T20:52:42.610939",
     "exception": false,
     "start_time": "2022-04-18T20:52:42.514874",
     "status": "completed"
    },
    "tags": []
   },
   "source": [
    "The crop being potatoes has the highest importance in the decision making for the model, where it's the highest crops in the dataset. Cassava too, then as expected we see the effect of pesticides, where its the third most important feature, and then if the crop is sweet potatoes, we see some of the highest crops in features importance in dataset. \n",
    "\n",
    "If the crop is grown in India, makes sense since Indis has the largest crops sum in the dataset. Then comes rainfall and temprature. Thr first assumption about these features were correct, where they all significanally impact the expected crops yield in the model. "
   ]
  },
  {
   "cell_type": "code",
   "execution_count": 66,
   "id": "0ee257dd",
   "metadata": {
    "execution": {
     "iopub.execute_input": "2022-04-18T20:52:42.805857Z",
     "iopub.status.busy": "2022-04-18T20:52:42.805162Z",
     "iopub.status.idle": "2022-04-18T20:52:43.231794Z",
     "shell.execute_reply": "2022-04-18T20:52:43.231106Z",
     "shell.execute_reply.started": "2022-04-18T18:54:35.704746Z"
    },
    "papermill": {
     "duration": 0.526058,
     "end_time": "2022-04-18T20:52:43.231975",
     "exception": false,
     "start_time": "2022-04-18T20:52:42.705917",
     "status": "completed"
    },
    "tags": []
   },
   "outputs": [
    {
     "data": {
      "image/png": "[encoded data removed]",
      "text/plain": [
       "<Figure size 1202.4x595.44 with 1 Axes>"
      ]
     },
     "metadata": {
      "needs_background": "light"
     },
     "output_type": "display_data"
    }
   ],
   "source": [
    "#Boxplot that shows yield for each item \n",
    "a4_dims = (16.7, 8.27)\n",
    "\n",
    "fig, ax = plt.subplots(figsize=a4_dims)\n",
    "sns.boxplot(x=\"Item\",y=\"hg/ha_yield\",palette=\"vlag\",data=yield_df,ax=ax);"
   ]
  }
 ],
 "metadata": {
  "kernelspec": {
   "display_name": "Python 3",
   "language": "python",
   "name": "python3"
  },
  "language_info": {
   "codemirror_mode": {
    "name": "ipython",
    "version": 3
   },
   "file_extension": ".py",
   "mimetype": "text/x-python",
   "name": "python",
   "nbconvert_exporter": "python",
   "pygments_lexer": "ipython3",
   "version": "3.7.12"
  },
  "papermill": {
   "default_parameters": {},
   "duration": 36.21319,
   "end_time": "2022-04-18T20:52:44.344078",
   "environment_variables": {},
   "exception": null,
   "input_path": "__notebook__.ipynb",
   "output_path": "__notebook__.ipynb",
   "parameters": {},
   "start_time": "2022-04-18T20:52:08.130888",
   "version": "2.3.3"
  }
 },
 "nbformat": 4,
 "nbformat_minor": 5
}
